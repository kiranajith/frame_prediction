{
 "cells": [
  {
   "cell_type": "code",
   "execution_count": 1,
   "metadata": {},
   "outputs": [],
   "source": [
    "# set up autoreload\n",
    "%reset\n",
    "%load_ext autoreload\n",
    "%autoreload 2"
   ]
  },
  {
   "cell_type": "code",
   "execution_count": 2,
   "metadata": {},
   "outputs": [
    {
     "name": "stderr",
     "output_type": "stream",
     "text": [
      "2023-12-05 20:29:31.840983: I tensorflow/core/platform/cpu_feature_guard.cc:182] This TensorFlow binary is optimized to use available CPU instructions in performance-critical operations.\n",
      "To enable the following instructions: AVX2 FMA, in other operations, rebuild TensorFlow with the appropriate compiler flags.\n",
      "2023-12-05 20:29:33.326475: W tensorflow/compiler/tf2tensorrt/utils/py_utils.cc:38] TF-TRT Warning: Could not find TensorRT\n",
      "/home/ji/anaconda3/envs/tensorflow/lib/python3.9/site-packages/tensorflow_addons/utils/tfa_eol_msg.py:23: UserWarning: \n",
      "\n",
      "TensorFlow Addons (TFA) has ended development and introduction of new features.\n",
      "TFA has entered a minimal maintenance and release mode until a planned end of life in May 2024.\n",
      "Please modify downstream libraries to take dependencies from other repositories in our TensorFlow community (e.g. Keras, Keras-CV, and Keras-NLP). \n",
      "\n",
      "For more information see: https://github.com/tensorflow/addons/issues/2807 \n",
      "\n",
      "  warnings.warn(\n"
     ]
    },
    {
     "name": "stdout",
     "output_type": "stream",
     "text": [
      "OrderedDict([('cpu_compiler', '/dt9/usr/bin/gcc'), ('cuda_compute_capabilities', ['sm_35', 'sm_50', 'sm_60', 'sm_70', 'sm_75', 'compute_80']), ('cuda_version', '11.8'), ('cudnn_version', '8'), ('is_cuda_build', True), ('is_rocm_build', False), ('is_tensorrt_build', True)])\n",
      "[PhysicalDevice(name='/physical_device:GPU:0', device_type='GPU')]\n",
      "[PhysicalDevice(name='/physical_device:CPU:0', device_type='CPU'), PhysicalDevice(name='/physical_device:GPU:0', device_type='GPU')]\n"
     ]
    },
    {
     "name": "stderr",
     "output_type": "stream",
     "text": [
      "2023-12-05 20:29:34.884200: I tensorflow/compiler/xla/stream_executor/cuda/cuda_gpu_executor.cc:996] successful NUMA node read from SysFS had negative value (-1), but there must be at least one NUMA node, so returning NUMA node zero. See more at https://github.com/torvalds/linux/blob/v6.0/Documentation/ABI/testing/sysfs-bus-pci#L344-L355\n",
      "2023-12-05 20:29:35.143775: I tensorflow/compiler/xla/stream_executor/cuda/cuda_gpu_executor.cc:996] successful NUMA node read from SysFS had negative value (-1), but there must be at least one NUMA node, so returning NUMA node zero. See more at https://github.com/torvalds/linux/blob/v6.0/Documentation/ABI/testing/sysfs-bus-pci#L344-L355\n",
      "2023-12-05 20:29:35.144539: I tensorflow/compiler/xla/stream_executor/cuda/cuda_gpu_executor.cc:996] successful NUMA node read from SysFS had negative value (-1), but there must be at least one NUMA node, so returning NUMA node zero. See more at https://github.com/torvalds/linux/blob/v6.0/Documentation/ABI/testing/sysfs-bus-pci#L344-L355\n"
     ]
    }
   ],
   "source": [
    "import tensorflow as tf\n",
    "import tensorflow_addons as tfa\n",
    "import numpy as np\n",
    "from dataset import DataManager, FrameDataGenerator\n",
    "\n",
    "# check gpu\n",
    "print(tf.sysconfig.get_build_info())\n",
    "print(tf.config.list_physical_devices('GPU'))\n",
    "print(tf.config.list_physical_devices())\n"
   ]
  },
  {
   "cell_type": "code",
   "execution_count": 7,
   "metadata": {},
   "outputs": [
    {
     "name": "stdout",
     "output_type": "stream",
     "text": [
      "[PhysicalDevice(name='/physical_device:CPU:0', device_type='CPU')]\n"
     ]
    }
   ],
   "source": []
  },
  {
   "cell_type": "code",
   "execution_count": 3,
   "metadata": {},
   "outputs": [
    {
     "name": "stderr",
     "output_type": "stream",
     "text": [
      "\u001b[32m2023-12-05 20:29:49.913\u001b[0m | \u001b[1mINFO    \u001b[0m | \u001b[36mdataset\u001b[0m:\u001b[36m__init__\u001b[0m:\u001b[36m29\u001b[0m - \u001b[1mFound video file: /home/ji/Dropbox/Robotics/ENPM809K_Fundamentals_in_AI_and_DL/Data/Data_2023-11-06_09-22-28.avi\u001b[0m\n",
      "\u001b[32m2023-12-05 20:29:49.914\u001b[0m | \u001b[1mINFO    \u001b[0m | \u001b[36mdataset\u001b[0m:\u001b[36m__init__\u001b[0m:\u001b[36m29\u001b[0m - \u001b[1mFound video file: /home/ji/Dropbox/Robotics/ENPM809K_Fundamentals_in_AI_and_DL/Data/Data_2023-11-12_09-53-23.avi\u001b[0m\n",
      "\u001b[32m2023-12-05 20:29:49.915\u001b[0m | \u001b[1mINFO    \u001b[0m | \u001b[36mdataset\u001b[0m:\u001b[36m__init__\u001b[0m:\u001b[36m29\u001b[0m - \u001b[1mFound video file: /home/ji/Dropbox/Robotics/ENPM809K_Fundamentals_in_AI_and_DL/Data/Data_2023-11-06_09-42-29.avi\u001b[0m\n",
      "\u001b[32m2023-12-05 20:29:49.916\u001b[0m | \u001b[1mINFO    \u001b[0m | \u001b[36mdataset\u001b[0m:\u001b[36m__init__\u001b[0m:\u001b[36m29\u001b[0m - \u001b[1mFound video file: /home/ji/Dropbox/Robotics/ENPM809K_Fundamentals_in_AI_and_DL/Data/Data_2023-10-27_09-55-04.avi\u001b[0m\n",
      "\u001b[32m2023-12-05 20:29:49.917\u001b[0m | \u001b[1mINFO    \u001b[0m | \u001b[36mdataset\u001b[0m:\u001b[36m__init__\u001b[0m:\u001b[36m29\u001b[0m - \u001b[1mFound video file: /home/ji/Dropbox/Robotics/ENPM809K_Fundamentals_in_AI_and_DL/Data/Data_2023-11-09_10-13-05.avi\u001b[0m\n",
      "\u001b[32m2023-12-05 20:29:49.919\u001b[0m | \u001b[1mINFO    \u001b[0m | \u001b[36mdataset\u001b[0m:\u001b[36m__init__\u001b[0m:\u001b[36m29\u001b[0m - \u001b[1mFound video file: /home/ji/Dropbox/Robotics/ENPM809K_Fundamentals_in_AI_and_DL/Data/Data_2023-11-09_10-18-05.avi\u001b[0m\n",
      "\u001b[32m2023-12-05 20:29:49.920\u001b[0m | \u001b[1mINFO    \u001b[0m | \u001b[36mdataset\u001b[0m:\u001b[36m__init__\u001b[0m:\u001b[36m29\u001b[0m - \u001b[1mFound video file: /home/ji/Dropbox/Robotics/ENPM809K_Fundamentals_in_AI_and_DL/Data/Data_2023-11-12_09-48-23.avi\u001b[0m\n",
      "\u001b[32m2023-12-05 20:29:49.922\u001b[0m | \u001b[1mINFO    \u001b[0m | \u001b[36mdataset\u001b[0m:\u001b[36m__init__\u001b[0m:\u001b[36m29\u001b[0m - \u001b[1mFound video file: /home/ji/Dropbox/Robotics/ENPM809K_Fundamentals_in_AI_and_DL/Data/Data_2023-10-27_09-35-03.avi\u001b[0m\n",
      "\u001b[32m2023-12-05 20:29:49.923\u001b[0m | \u001b[1mINFO    \u001b[0m | \u001b[36mdataset\u001b[0m:\u001b[36m__init__\u001b[0m:\u001b[36m29\u001b[0m - \u001b[1mFound video file: /home/ji/Dropbox/Robotics/ENPM809K_Fundamentals_in_AI_and_DL/Data/Data_2023-10-27_09-50-04.avi\u001b[0m\n",
      "\u001b[32m2023-12-05 20:29:49.924\u001b[0m | \u001b[1mINFO    \u001b[0m | \u001b[36mdataset\u001b[0m:\u001b[36m__init__\u001b[0m:\u001b[36m29\u001b[0m - \u001b[1mFound video file: /home/ji/Dropbox/Robotics/ENPM809K_Fundamentals_in_AI_and_DL/Data/Data_2023-11-13_09-37-16.avi\u001b[0m\n",
      "\u001b[32m2023-12-05 20:29:49.925\u001b[0m | \u001b[1mINFO    \u001b[0m | \u001b[36mdataset\u001b[0m:\u001b[36m__init__\u001b[0m:\u001b[36m29\u001b[0m - \u001b[1mFound video file: /home/ji/Dropbox/Robotics/ENPM809K_Fundamentals_in_AI_and_DL/Data/Data_2023-10-26_10-20-07.avi\u001b[0m\n",
      "\u001b[32m2023-12-05 20:29:49.926\u001b[0m | \u001b[1mINFO    \u001b[0m | \u001b[36mdataset\u001b[0m:\u001b[36m__init__\u001b[0m:\u001b[36m29\u001b[0m - \u001b[1mFound video file: /home/ji/Dropbox/Robotics/ENPM809K_Fundamentals_in_AI_and_DL/Data/Data_2023-11-12_09-43-23.avi\u001b[0m\n",
      "\u001b[32m2023-12-05 20:29:49.927\u001b[0m | \u001b[1mINFO    \u001b[0m | \u001b[36mdataset\u001b[0m:\u001b[36m__init__\u001b[0m:\u001b[36m29\u001b[0m - \u001b[1mFound video file: /home/ji/Dropbox/Robotics/ENPM809K_Fundamentals_in_AI_and_DL/Data/Data_2023-10-26_10-15-07.avi\u001b[0m\n",
      "\u001b[32m2023-12-05 20:29:49.928\u001b[0m | \u001b[1mINFO    \u001b[0m | \u001b[36mdataset\u001b[0m:\u001b[36m__init__\u001b[0m:\u001b[36m29\u001b[0m - \u001b[1mFound video file: /home/ji/Dropbox/Robotics/ENPM809K_Fundamentals_in_AI_and_DL/Data/Data_2023-11-12_09-28-21.avi\u001b[0m\n",
      "\u001b[32m2023-12-05 20:29:49.929\u001b[0m | \u001b[1mINFO    \u001b[0m | \u001b[36mdataset\u001b[0m:\u001b[36m__init__\u001b[0m:\u001b[36m29\u001b[0m - \u001b[1mFound video file: /home/ji/Dropbox/Robotics/ENPM809K_Fundamentals_in_AI_and_DL/Data/Data_2023-10-24_10-18-15.avi\u001b[0m\n",
      "\u001b[32m2023-12-05 20:29:49.930\u001b[0m | \u001b[1mINFO    \u001b[0m | \u001b[36mdataset\u001b[0m:\u001b[36m__init__\u001b[0m:\u001b[36m29\u001b[0m - \u001b[1mFound video file: /home/ji/Dropbox/Robotics/ENPM809K_Fundamentals_in_AI_and_DL/Data/Data_2023-11-06_09-27-29.avi\u001b[0m\n",
      "\u001b[32m2023-12-05 20:29:49.931\u001b[0m | \u001b[1mINFO    \u001b[0m | \u001b[36mdataset\u001b[0m:\u001b[36m__init__\u001b[0m:\u001b[36m29\u001b[0m - \u001b[1mFound video file: /home/ji/Dropbox/Robotics/ENPM809K_Fundamentals_in_AI_and_DL/Data/Data_2023-10-25_09-58-22.avi\u001b[0m\n",
      "\u001b[32m2023-12-05 20:29:49.934\u001b[0m | \u001b[1mINFO    \u001b[0m | \u001b[36mdataset\u001b[0m:\u001b[36m__init__\u001b[0m:\u001b[36m29\u001b[0m - \u001b[1mFound video file: /home/ji/Dropbox/Robotics/ENPM809K_Fundamentals_in_AI_and_DL/Data/Data_2023-10-26_10-35-08.avi\u001b[0m\n",
      "\u001b[32m2023-12-05 20:29:49.935\u001b[0m | \u001b[1mINFO    \u001b[0m | \u001b[36mdataset\u001b[0m:\u001b[36m__init__\u001b[0m:\u001b[36m29\u001b[0m - \u001b[1mFound video file: /home/ji/Dropbox/Robotics/ENPM809K_Fundamentals_in_AI_and_DL/Data/Data_2023-10-25_09-38-21.avi\u001b[0m\n",
      "\u001b[32m2023-12-05 20:29:49.935\u001b[0m | \u001b[1mINFO    \u001b[0m | \u001b[36mdataset\u001b[0m:\u001b[36m__init__\u001b[0m:\u001b[36m29\u001b[0m - \u001b[1mFound video file: /home/ji/Dropbox/Robotics/ENPM809K_Fundamentals_in_AI_and_DL/Data/Data_2023-10-27_10-00-04.avi\u001b[0m\n",
      "\u001b[32m2023-12-05 20:29:49.936\u001b[0m | \u001b[1mINFO    \u001b[0m | \u001b[36mdataset\u001b[0m:\u001b[36m__init__\u001b[0m:\u001b[36m29\u001b[0m - \u001b[1mFound video file: /home/ji/Dropbox/Robotics/ENPM809K_Fundamentals_in_AI_and_DL/Data/Data_2023-11-12_09-38-23.avi\u001b[0m\n",
      "\u001b[32m2023-12-05 20:29:49.938\u001b[0m | \u001b[1mINFO    \u001b[0m | \u001b[36mdataset\u001b[0m:\u001b[36m__init__\u001b[0m:\u001b[36m29\u001b[0m - \u001b[1mFound video file: /home/ji/Dropbox/Robotics/ENPM809K_Fundamentals_in_AI_and_DL/Data/Data_2023-10-24_10-28-15.avi\u001b[0m\n",
      "\u001b[32m2023-12-05 20:29:49.939\u001b[0m | \u001b[1mINFO    \u001b[0m | \u001b[36mdataset\u001b[0m:\u001b[36m__init__\u001b[0m:\u001b[36m29\u001b[0m - \u001b[1mFound video file: /home/ji/Dropbox/Robotics/ENPM809K_Fundamentals_in_AI_and_DL/Data/Data_2023-10-27_09-40-03.avi\u001b[0m\n",
      "\u001b[32m2023-12-05 20:29:49.940\u001b[0m | \u001b[1mINFO    \u001b[0m | \u001b[36mdataset\u001b[0m:\u001b[36m__init__\u001b[0m:\u001b[36m29\u001b[0m - \u001b[1mFound video file: /home/ji/Dropbox/Robotics/ENPM809K_Fundamentals_in_AI_and_DL/Data/Data_2023-11-13_09-27-16.avi\u001b[0m\n",
      "\u001b[32m2023-12-05 20:29:49.941\u001b[0m | \u001b[1mINFO    \u001b[0m | \u001b[36mdataset\u001b[0m:\u001b[36m__init__\u001b[0m:\u001b[36m29\u001b[0m - \u001b[1mFound video file: /home/ji/Dropbox/Robotics/ENPM809K_Fundamentals_in_AI_and_DL/Data/Data_2023-10-25_09-48-21.avi\u001b[0m\n",
      "\u001b[32m2023-12-05 20:29:49.942\u001b[0m | \u001b[1mINFO    \u001b[0m | \u001b[36mdataset\u001b[0m:\u001b[36m__init__\u001b[0m:\u001b[36m29\u001b[0m - \u001b[1mFound video file: /home/ji/Dropbox/Robotics/ENPM809K_Fundamentals_in_AI_and_DL/Data/Data_2023-10-24_10-23-15.avi\u001b[0m\n",
      "\u001b[32m2023-12-05 20:29:49.943\u001b[0m | \u001b[1mINFO    \u001b[0m | \u001b[36mdataset\u001b[0m:\u001b[36m__init__\u001b[0m:\u001b[36m29\u001b[0m - \u001b[1mFound video file: /home/ji/Dropbox/Robotics/ENPM809K_Fundamentals_in_AI_and_DL/Data/Data_2023-11-13_09-22-16.avi\u001b[0m\n",
      "\u001b[32m2023-12-05 20:29:49.944\u001b[0m | \u001b[1mINFO    \u001b[0m | \u001b[36mdataset\u001b[0m:\u001b[36m__init__\u001b[0m:\u001b[36m29\u001b[0m - \u001b[1mFound video file: /home/ji/Dropbox/Robotics/ENPM809K_Fundamentals_in_AI_and_DL/Data/Data_2023-10-25_09-43-21.avi\u001b[0m\n",
      "\u001b[32m2023-12-05 20:29:49.945\u001b[0m | \u001b[1mINFO    \u001b[0m | \u001b[36mdataset\u001b[0m:\u001b[36m__init__\u001b[0m:\u001b[36m29\u001b[0m - \u001b[1mFound video file: /home/ji/Dropbox/Robotics/ENPM809K_Fundamentals_in_AI_and_DL/Data/Data_2023-10-26_10-30-08.avi\u001b[0m\n",
      "\u001b[32m2023-12-05 20:29:49.946\u001b[0m | \u001b[1mINFO    \u001b[0m | \u001b[36mdataset\u001b[0m:\u001b[36m__init__\u001b[0m:\u001b[36m29\u001b[0m - \u001b[1mFound video file: /home/ji/Dropbox/Robotics/ENPM809K_Fundamentals_in_AI_and_DL/Data/Data_2023-10-25_09-33-20.avi\u001b[0m\n",
      "\u001b[32m2023-12-05 20:29:49.946\u001b[0m | \u001b[1mINFO    \u001b[0m | \u001b[36mdataset\u001b[0m:\u001b[36m__init__\u001b[0m:\u001b[36m29\u001b[0m - \u001b[1mFound video file: /home/ji/Dropbox/Robotics/ENPM809K_Fundamentals_in_AI_and_DL/Data/Data_2023-11-06_09-47-30.avi\u001b[0m\n",
      "\u001b[32m2023-12-05 20:29:49.947\u001b[0m | \u001b[1mINFO    \u001b[0m | \u001b[36mdataset\u001b[0m:\u001b[36m__init__\u001b[0m:\u001b[36m29\u001b[0m - \u001b[1mFound video file: /home/ji/Dropbox/Robotics/ENPM809K_Fundamentals_in_AI_and_DL/Data/Data_2023-10-25_09-53-21.avi\u001b[0m\n",
      "\u001b[32m2023-12-05 20:29:49.948\u001b[0m | \u001b[1mINFO    \u001b[0m | \u001b[36mdataset\u001b[0m:\u001b[36m__init__\u001b[0m:\u001b[36m29\u001b[0m - \u001b[1mFound video file: /home/ji/Dropbox/Robotics/ENPM809K_Fundamentals_in_AI_and_DL/Data/Data_2023-11-13_09-47-17.avi\u001b[0m\n",
      "\u001b[32m2023-12-05 20:29:49.949\u001b[0m | \u001b[1mINFO    \u001b[0m | \u001b[36mdataset\u001b[0m:\u001b[36m__init__\u001b[0m:\u001b[36m29\u001b[0m - \u001b[1mFound video file: /home/ji/Dropbox/Robotics/ENPM809K_Fundamentals_in_AI_and_DL/Data/Data_2023-10-23_09-40-37.avi\u001b[0m\n",
      "\u001b[32m2023-12-05 20:29:49.950\u001b[0m | \u001b[1mINFO    \u001b[0m | \u001b[36mdataset\u001b[0m:\u001b[36m__init__\u001b[0m:\u001b[36m29\u001b[0m - \u001b[1mFound video file: /home/ji/Dropbox/Robotics/ENPM809K_Fundamentals_in_AI_and_DL/Data/Data_2023-10-24_10-13-14.avi\u001b[0m\n",
      "\u001b[32m2023-12-05 20:29:49.953\u001b[0m | \u001b[1mINFO    \u001b[0m | \u001b[36mdataset\u001b[0m:\u001b[36m__init__\u001b[0m:\u001b[36m29\u001b[0m - \u001b[1mFound video file: /home/ji/Dropbox/Robotics/ENPM809K_Fundamentals_in_AI_and_DL/Data/Data_2023-11-13_09-42-17.avi\u001b[0m\n",
      "\u001b[32m2023-12-05 20:29:49.955\u001b[0m | \u001b[1mINFO    \u001b[0m | \u001b[36mdataset\u001b[0m:\u001b[36m__init__\u001b[0m:\u001b[36m29\u001b[0m - \u001b[1mFound video file: /home/ji/Dropbox/Robotics/ENPM809K_Fundamentals_in_AI_and_DL/Data/Data_2023-10-24_10-33-15.avi\u001b[0m\n",
      "\u001b[32m2023-12-05 20:29:49.956\u001b[0m | \u001b[1mINFO    \u001b[0m | \u001b[36mdataset\u001b[0m:\u001b[36m__init__\u001b[0m:\u001b[36m29\u001b[0m - \u001b[1mFound video file: /home/ji/Dropbox/Robotics/ENPM809K_Fundamentals_in_AI_and_DL/Data/Data_2023-11-06_09-32-29.avi\u001b[0m\n",
      "\u001b[32m2023-12-05 20:29:49.957\u001b[0m | \u001b[1mINFO    \u001b[0m | \u001b[36mdataset\u001b[0m:\u001b[36m__init__\u001b[0m:\u001b[36m29\u001b[0m - \u001b[1mFound video file: /home/ji/Dropbox/Robotics/ENPM809K_Fundamentals_in_AI_and_DL/Data/Data_2023-11-12_09-33-22.avi\u001b[0m\n",
      "\u001b[32m2023-12-05 20:29:49.958\u001b[0m | \u001b[1mINFO    \u001b[0m | \u001b[36mdataset\u001b[0m:\u001b[36m__init__\u001b[0m:\u001b[36m29\u001b[0m - \u001b[1mFound video file: /home/ji/Dropbox/Robotics/ENPM809K_Fundamentals_in_AI_and_DL/Data/Data_2023-11-09_10-08-05.avi\u001b[0m\n",
      "\u001b[32m2023-12-05 20:29:49.960\u001b[0m | \u001b[1mINFO    \u001b[0m | \u001b[36mdataset\u001b[0m:\u001b[36m__init__\u001b[0m:\u001b[36m29\u001b[0m - \u001b[1mFound video file: /home/ji/Dropbox/Robotics/ENPM809K_Fundamentals_in_AI_and_DL/Data/Data_2023-11-13_09-32-16.avi\u001b[0m\n",
      "\u001b[32m2023-12-05 20:29:49.962\u001b[0m | \u001b[1mINFO    \u001b[0m | \u001b[36mdataset\u001b[0m:\u001b[36m__init__\u001b[0m:\u001b[36m29\u001b[0m - \u001b[1mFound video file: /home/ji/Dropbox/Robotics/ENPM809K_Fundamentals_in_AI_and_DL/Data/Data_2023-10-22_11-33-39.avi\u001b[0m\n",
      "\u001b[32m2023-12-05 20:29:49.963\u001b[0m | \u001b[1mINFO    \u001b[0m | \u001b[36mdataset\u001b[0m:\u001b[36m__init__\u001b[0m:\u001b[36m29\u001b[0m - \u001b[1mFound video file: /home/ji/Dropbox/Robotics/ENPM809K_Fundamentals_in_AI_and_DL/Data/Data_2023-10-22_11-35-39.avi\u001b[0m\n",
      "\u001b[32m2023-12-05 20:29:49.964\u001b[0m | \u001b[1mINFO    \u001b[0m | \u001b[36mdataset\u001b[0m:\u001b[36m__init__\u001b[0m:\u001b[36m29\u001b[0m - \u001b[1mFound video file: /home/ji/Dropbox/Robotics/ENPM809K_Fundamentals_in_AI_and_DL/Data/Data_2023-10-26_10-40-08.avi\u001b[0m\n",
      "\u001b[32m2023-12-05 20:29:49.965\u001b[0m | \u001b[1mINFO    \u001b[0m | \u001b[36mdataset\u001b[0m:\u001b[36m__init__\u001b[0m:\u001b[36m29\u001b[0m - \u001b[1mFound video file: /home/ji/Dropbox/Robotics/ENPM809K_Fundamentals_in_AI_and_DL/Data/Data_2023-10-22_11-34-39.avi\u001b[0m\n",
      "\u001b[32m2023-12-05 20:29:49.968\u001b[0m | \u001b[1mINFO    \u001b[0m | \u001b[36mdataset\u001b[0m:\u001b[36m__init__\u001b[0m:\u001b[36m29\u001b[0m - \u001b[1mFound video file: /home/ji/Dropbox/Robotics/ENPM809K_Fundamentals_in_AI_and_DL/Data/Data_2023-11-06_09-37-29.avi\u001b[0m\n",
      "\u001b[32m2023-12-05 20:29:49.968\u001b[0m | \u001b[1mINFO    \u001b[0m | \u001b[36mdataset\u001b[0m:\u001b[36m__init__\u001b[0m:\u001b[36m29\u001b[0m - \u001b[1mFound video file: /home/ji/Dropbox/Robotics/ENPM809K_Fundamentals_in_AI_and_DL/Data/Data_2023-10-22_11-32-39.avi\u001b[0m\n",
      "\u001b[32m2023-12-05 20:29:49.973\u001b[0m | \u001b[1mINFO    \u001b[0m | \u001b[36mdataset\u001b[0m:\u001b[36m__init__\u001b[0m:\u001b[36m29\u001b[0m - \u001b[1mFound video file: /home/ji/Dropbox/Robotics/ENPM809K_Fundamentals_in_AI_and_DL/Data/Data_2023-10-27_09-45-04.avi\u001b[0m\n",
      "\u001b[32m2023-12-05 20:29:49.974\u001b[0m | \u001b[1mINFO    \u001b[0m | \u001b[36mdataset\u001b[0m:\u001b[36m__init__\u001b[0m:\u001b[36m29\u001b[0m - \u001b[1mFound video file: /home/ji/Dropbox/Robotics/ENPM809K_Fundamentals_in_AI_and_DL/Data/Data_2023-10-23_09-15-35.avi\u001b[0m\n",
      "\u001b[32m2023-12-05 20:29:49.975\u001b[0m | \u001b[1mINFO    \u001b[0m | \u001b[36mdataset\u001b[0m:\u001b[36m__init__\u001b[0m:\u001b[36m29\u001b[0m - \u001b[1mFound video file: /home/ji/Dropbox/Robotics/ENPM809K_Fundamentals_in_AI_and_DL/Data/Data_2023-10-26_10-25-07.avi\u001b[0m\n",
      "\u001b[32m2023-12-05 20:29:49.977\u001b[0m | \u001b[1mINFO    \u001b[0m | \u001b[36mdataset\u001b[0m:\u001b[36m__init__\u001b[0m:\u001b[36m48\u001b[0m - \u001b[1mTraining: 40 files\u001b[0m\n",
      "\u001b[32m2023-12-05 20:29:49.978\u001b[0m | \u001b[1mINFO    \u001b[0m | \u001b[36mdataset\u001b[0m:\u001b[36m__init__\u001b[0m:\u001b[36m49\u001b[0m - \u001b[1mValidation: 5 files\u001b[0m\n",
      "\u001b[32m2023-12-05 20:29:49.979\u001b[0m | \u001b[1mINFO    \u001b[0m | \u001b[36mdataset\u001b[0m:\u001b[36m__init__\u001b[0m:\u001b[36m50\u001b[0m - \u001b[1mTest: 5 files\u001b[0m\n",
      "\u001b[32m2023-12-05 20:29:49.982\u001b[0m | \u001b[1mINFO    \u001b[0m | \u001b[36mdataset\u001b[0m:\u001b[36m__init__\u001b[0m:\u001b[36m29\u001b[0m - \u001b[1mFound video file: /home/ji/Dropbox/Robotics/ENPM809K_Fundamentals_in_AI_and_DL/Data_Test/Data_2023-10-22_11-33-39.avi\u001b[0m\n",
      "\u001b[32m2023-12-05 20:29:49.983\u001b[0m | \u001b[1mINFO    \u001b[0m | \u001b[36mdataset\u001b[0m:\u001b[36m__init__\u001b[0m:\u001b[36m48\u001b[0m - \u001b[1mTraining: 1 files\u001b[0m\n",
      "\u001b[32m2023-12-05 20:29:49.985\u001b[0m | \u001b[1mINFO    \u001b[0m | \u001b[36mdataset\u001b[0m:\u001b[36m__init__\u001b[0m:\u001b[36m49\u001b[0m - \u001b[1mValidation: 0 files\u001b[0m\n",
      "\u001b[32m2023-12-05 20:29:49.986\u001b[0m | \u001b[1mINFO    \u001b[0m | \u001b[36mdataset\u001b[0m:\u001b[36m__init__\u001b[0m:\u001b[36m50\u001b[0m - \u001b[1mTest: 0 files\u001b[0m\n"
     ]
    }
   ],
   "source": [
    "# set up data generator\n",
    "data_manager = DataManager(\n",
    "        data_path=r\"/home/ji/Dropbox/Robotics/ENPM809K_Fundamentals_in_AI_and_DL/Data\",\n",
    "        train_val_test_split=(0.80,0.1,0.1))\n",
    "\n",
    "data_manager_small = DataManager(\n",
    "        data_path=r\"/home/ji/Dropbox/Robotics/ENPM809K_Fundamentals_in_AI_and_DL/Data_Test\",\n",
    "        train_val_test_split=(1.0,0.0,0.0))"
   ]
  },
  {
   "cell_type": "code",
   "execution_count": 4,
   "metadata": {},
   "outputs": [
    {
     "name": "stderr",
     "output_type": "stream",
     "text": [
      "\u001b[32m2023-12-05 20:29:52.384\u001b[0m | \u001b[1mINFO    \u001b[0m | \u001b[36mdataset\u001b[0m:\u001b[36m__init__\u001b[0m:\u001b[36m127\u001b[0m - \u001b[1mFound action file: /home/ji/Dropbox/Robotics/ENPM809K_Fundamentals_in_AI_and_DL/Data/Data_2023-10-26_10-15-07_merge.txt\u001b[0m\n",
      "\u001b[32m2023-12-05 20:29:52.384\u001b[0m | \u001b[1mINFO    \u001b[0m | \u001b[36mdataset\u001b[0m:\u001b[36m__init__\u001b[0m:\u001b[36m127\u001b[0m - \u001b[1mFound action file: /home/ji/Dropbox/Robotics/ENPM809K_Fundamentals_in_AI_and_DL/Data/Data_2023-10-25_09-33-20_merge.txt\u001b[0m\n",
      "\u001b[32m2023-12-05 20:29:52.385\u001b[0m | \u001b[1mINFO    \u001b[0m | \u001b[36mdataset\u001b[0m:\u001b[36m__init__\u001b[0m:\u001b[36m127\u001b[0m - \u001b[1mFound action file: /home/ji/Dropbox/Robotics/ENPM809K_Fundamentals_in_AI_and_DL/Data/Data_2023-10-26_10-25-07_merge.txt\u001b[0m\n",
      "\u001b[32m2023-12-05 20:29:52.386\u001b[0m | \u001b[1mINFO    \u001b[0m | \u001b[36mdataset\u001b[0m:\u001b[36m__init__\u001b[0m:\u001b[36m127\u001b[0m - \u001b[1mFound action file: /home/ji/Dropbox/Robotics/ENPM809K_Fundamentals_in_AI_and_DL/Data/Data_2023-10-27_09-45-04_merge.txt\u001b[0m\n",
      "\u001b[32m2023-12-05 20:29:52.386\u001b[0m | \u001b[1mINFO    \u001b[0m | \u001b[36mdataset\u001b[0m:\u001b[36m__init__\u001b[0m:\u001b[36m127\u001b[0m - \u001b[1mFound action file: /home/ji/Dropbox/Robotics/ENPM809K_Fundamentals_in_AI_and_DL/Data/Data_2023-10-25_09-38-21_merge.txt\u001b[0m\n",
      "\u001b[32m2023-12-05 20:29:52.387\u001b[0m | \u001b[1mINFO    \u001b[0m | \u001b[36mdataset\u001b[0m:\u001b[36m__init__\u001b[0m:\u001b[36m127\u001b[0m - \u001b[1mFound action file: /home/ji/Dropbox/Robotics/ENPM809K_Fundamentals_in_AI_and_DL/Data/Data_2023-11-06_09-27-29_merge.txt\u001b[0m\n",
      "\u001b[32m2023-12-05 20:29:52.388\u001b[0m | \u001b[1mINFO    \u001b[0m | \u001b[36mdataset\u001b[0m:\u001b[36m__init__\u001b[0m:\u001b[36m127\u001b[0m - \u001b[1mFound action file: /home/ji/Dropbox/Robotics/ENPM809K_Fundamentals_in_AI_and_DL/Data/Data_2023-11-13_09-47-17_merge.txt\u001b[0m\n",
      "\u001b[32m2023-12-05 20:29:52.390\u001b[0m | \u001b[1mINFO    \u001b[0m | \u001b[36mdataset\u001b[0m:\u001b[36m__init__\u001b[0m:\u001b[36m127\u001b[0m - \u001b[1mFound action file: /home/ji/Dropbox/Robotics/ENPM809K_Fundamentals_in_AI_and_DL/Data/Data_2023-10-22_11-35-39_merge.txt\u001b[0m\n",
      "\u001b[32m2023-12-05 20:29:52.391\u001b[0m | \u001b[1mINFO    \u001b[0m | \u001b[36mdataset\u001b[0m:\u001b[36m__init__\u001b[0m:\u001b[36m127\u001b[0m - \u001b[1mFound action file: /home/ji/Dropbox/Robotics/ENPM809K_Fundamentals_in_AI_and_DL/Data/Data_2023-11-06_09-22-28_merge.txt\u001b[0m\n",
      "\u001b[32m2023-12-05 20:29:52.392\u001b[0m | \u001b[1mINFO    \u001b[0m | \u001b[36mdataset\u001b[0m:\u001b[36m__init__\u001b[0m:\u001b[36m127\u001b[0m - \u001b[1mFound action file: /home/ji/Dropbox/Robotics/ENPM809K_Fundamentals_in_AI_and_DL/Data/Data_2023-10-24_10-28-15_merge.txt\u001b[0m\n",
      "\u001b[32m2023-12-05 20:29:52.393\u001b[0m | \u001b[1mINFO    \u001b[0m | \u001b[36mdataset\u001b[0m:\u001b[36m__init__\u001b[0m:\u001b[36m127\u001b[0m - \u001b[1mFound action file: /home/ji/Dropbox/Robotics/ENPM809K_Fundamentals_in_AI_and_DL/Data/Data_2023-10-26_10-30-08_merge.txt\u001b[0m\n",
      "\u001b[32m2023-12-05 20:29:52.394\u001b[0m | \u001b[1mINFO    \u001b[0m | \u001b[36mdataset\u001b[0m:\u001b[36m__init__\u001b[0m:\u001b[36m127\u001b[0m - \u001b[1mFound action file: /home/ji/Dropbox/Robotics/ENPM809K_Fundamentals_in_AI_and_DL/Data/Data_2023-10-27_10-00-04_merge.txt\u001b[0m\n",
      "\u001b[32m2023-12-05 20:29:52.396\u001b[0m | \u001b[1mINFO    \u001b[0m | \u001b[36mdataset\u001b[0m:\u001b[36m__init__\u001b[0m:\u001b[36m127\u001b[0m - \u001b[1mFound action file: /home/ji/Dropbox/Robotics/ENPM809K_Fundamentals_in_AI_and_DL/Data/Data_2023-11-13_09-22-16_merge.txt\u001b[0m\n",
      "\u001b[32m2023-12-05 20:29:52.397\u001b[0m | \u001b[1mINFO    \u001b[0m | \u001b[36mdataset\u001b[0m:\u001b[36m__init__\u001b[0m:\u001b[36m127\u001b[0m - \u001b[1mFound action file: /home/ji/Dropbox/Robotics/ENPM809K_Fundamentals_in_AI_and_DL/Data/Data_2023-11-12_09-28-21_merge.txt\u001b[0m\n",
      "\u001b[32m2023-12-05 20:29:52.397\u001b[0m | \u001b[1mINFO    \u001b[0m | \u001b[36mdataset\u001b[0m:\u001b[36m__init__\u001b[0m:\u001b[36m127\u001b[0m - \u001b[1mFound action file: /home/ji/Dropbox/Robotics/ENPM809K_Fundamentals_in_AI_and_DL/Data/Data_2023-11-12_09-43-23_merge.txt\u001b[0m\n",
      "\u001b[32m2023-12-05 20:29:52.398\u001b[0m | \u001b[1mINFO    \u001b[0m | \u001b[36mdataset\u001b[0m:\u001b[36m__init__\u001b[0m:\u001b[36m127\u001b[0m - \u001b[1mFound action file: /home/ji/Dropbox/Robotics/ENPM809K_Fundamentals_in_AI_and_DL/Data/Data_2023-10-24_10-13-14_merge.txt\u001b[0m\n",
      "\u001b[32m2023-12-05 20:29:52.400\u001b[0m | \u001b[1mINFO    \u001b[0m | \u001b[36mdataset\u001b[0m:\u001b[36m__init__\u001b[0m:\u001b[36m127\u001b[0m - \u001b[1mFound action file: /home/ji/Dropbox/Robotics/ENPM809K_Fundamentals_in_AI_and_DL/Data/Data_2023-11-12_09-38-23_merge.txt\u001b[0m\n",
      "\u001b[32m2023-12-05 20:29:52.401\u001b[0m | \u001b[1mINFO    \u001b[0m | \u001b[36mdataset\u001b[0m:\u001b[36m__init__\u001b[0m:\u001b[36m127\u001b[0m - \u001b[1mFound action file: /home/ji/Dropbox/Robotics/ENPM809K_Fundamentals_in_AI_and_DL/Data/Data_2023-11-13_09-37-16_merge.txt\u001b[0m\n",
      "\u001b[32m2023-12-05 20:29:52.403\u001b[0m | \u001b[1mINFO    \u001b[0m | \u001b[36mdataset\u001b[0m:\u001b[36m__init__\u001b[0m:\u001b[36m127\u001b[0m - \u001b[1mFound action file: /home/ji/Dropbox/Robotics/ENPM809K_Fundamentals_in_AI_and_DL/Data/Data_2023-11-12_09-53-23_merge.txt\u001b[0m\n",
      "\u001b[32m2023-12-05 20:29:52.404\u001b[0m | \u001b[1mINFO    \u001b[0m | \u001b[36mdataset\u001b[0m:\u001b[36m__init__\u001b[0m:\u001b[36m127\u001b[0m - \u001b[1mFound action file: /home/ji/Dropbox/Robotics/ENPM809K_Fundamentals_in_AI_and_DL/Data/Data_2023-11-06_09-42-29_merge.txt\u001b[0m\n",
      "\u001b[32m2023-12-05 20:29:52.405\u001b[0m | \u001b[1mINFO    \u001b[0m | \u001b[36mdataset\u001b[0m:\u001b[36m__init__\u001b[0m:\u001b[36m127\u001b[0m - \u001b[1mFound action file: /home/ji/Dropbox/Robotics/ENPM809K_Fundamentals_in_AI_and_DL/Data/Data_2023-10-24_10-18-15_merge.txt\u001b[0m\n",
      "\u001b[32m2023-12-05 20:29:52.405\u001b[0m | \u001b[1mINFO    \u001b[0m | \u001b[36mdataset\u001b[0m:\u001b[36m__init__\u001b[0m:\u001b[36m127\u001b[0m - \u001b[1mFound action file: /home/ji/Dropbox/Robotics/ENPM809K_Fundamentals_in_AI_and_DL/Data/Data_2023-10-22_11-33-39_merge.txt\u001b[0m\n",
      "\u001b[32m2023-12-05 20:29:52.406\u001b[0m | \u001b[1mINFO    \u001b[0m | \u001b[36mdataset\u001b[0m:\u001b[36m__init__\u001b[0m:\u001b[36m127\u001b[0m - \u001b[1mFound action file: /home/ji/Dropbox/Robotics/ENPM809K_Fundamentals_in_AI_and_DL/Data/Data_2023-11-12_09-33-22_merge.txt\u001b[0m\n",
      "\u001b[32m2023-12-05 20:29:52.407\u001b[0m | \u001b[1mINFO    \u001b[0m | \u001b[36mdataset\u001b[0m:\u001b[36m__init__\u001b[0m:\u001b[36m127\u001b[0m - \u001b[1mFound action file: /home/ji/Dropbox/Robotics/ENPM809K_Fundamentals_in_AI_and_DL/Data/Data_2023-10-24_10-33-15_merge.txt\u001b[0m\n",
      "\u001b[32m2023-12-05 20:29:52.409\u001b[0m | \u001b[1mINFO    \u001b[0m | \u001b[36mdataset\u001b[0m:\u001b[36m__init__\u001b[0m:\u001b[36m127\u001b[0m - \u001b[1mFound action file: /home/ji/Dropbox/Robotics/ENPM809K_Fundamentals_in_AI_and_DL/Data/Data_2023-10-27_09-35-03_merge.txt\u001b[0m\n",
      "\u001b[32m2023-12-05 20:29:52.410\u001b[0m | \u001b[1mINFO    \u001b[0m | \u001b[36mdataset\u001b[0m:\u001b[36m__init__\u001b[0m:\u001b[36m127\u001b[0m - \u001b[1mFound action file: /home/ji/Dropbox/Robotics/ENPM809K_Fundamentals_in_AI_and_DL/Data/Data_2023-10-26_10-40-08_merge.txt\u001b[0m\n",
      "\u001b[32m2023-12-05 20:29:52.412\u001b[0m | \u001b[1mINFO    \u001b[0m | \u001b[36mdataset\u001b[0m:\u001b[36m__init__\u001b[0m:\u001b[36m127\u001b[0m - \u001b[1mFound action file: /home/ji/Dropbox/Robotics/ENPM809K_Fundamentals_in_AI_and_DL/Data/Data_2023-11-09_10-08-05_merge.txt\u001b[0m\n",
      "\u001b[32m2023-12-05 20:29:52.413\u001b[0m | \u001b[1mINFO    \u001b[0m | \u001b[36mdataset\u001b[0m:\u001b[36m__init__\u001b[0m:\u001b[36m127\u001b[0m - \u001b[1mFound action file: /home/ji/Dropbox/Robotics/ENPM809K_Fundamentals_in_AI_and_DL/Data/Data_2023-10-27_09-50-04_merge.txt\u001b[0m\n",
      "\u001b[32m2023-12-05 20:29:52.413\u001b[0m | \u001b[1mINFO    \u001b[0m | \u001b[36mdataset\u001b[0m:\u001b[36m__init__\u001b[0m:\u001b[36m127\u001b[0m - \u001b[1mFound action file: /home/ji/Dropbox/Robotics/ENPM809K_Fundamentals_in_AI_and_DL/Data/Data_2023-10-26_10-35-08_merge.txt\u001b[0m\n",
      "\u001b[32m2023-12-05 20:29:52.414\u001b[0m | \u001b[1mINFO    \u001b[0m | \u001b[36mdataset\u001b[0m:\u001b[36m__init__\u001b[0m:\u001b[36m127\u001b[0m - \u001b[1mFound action file: /home/ji/Dropbox/Robotics/ENPM809K_Fundamentals_in_AI_and_DL/Data/Data_2023-10-25_09-53-21_merge.txt\u001b[0m\n",
      "\u001b[32m2023-12-05 20:29:52.414\u001b[0m | \u001b[1mINFO    \u001b[0m | \u001b[36mdataset\u001b[0m:\u001b[36m__init__\u001b[0m:\u001b[36m127\u001b[0m - \u001b[1mFound action file: /home/ji/Dropbox/Robotics/ENPM809K_Fundamentals_in_AI_and_DL/Data/Data_2023-10-25_09-58-22_merge.txt\u001b[0m\n",
      "\u001b[32m2023-12-05 20:29:52.415\u001b[0m | \u001b[1mINFO    \u001b[0m | \u001b[36mdataset\u001b[0m:\u001b[36m__init__\u001b[0m:\u001b[36m127\u001b[0m - \u001b[1mFound action file: /home/ji/Dropbox/Robotics/ENPM809K_Fundamentals_in_AI_and_DL/Data/Data_2023-11-13_09-42-17_merge.txt\u001b[0m\n",
      "\u001b[32m2023-12-05 20:29:52.417\u001b[0m | \u001b[1mINFO    \u001b[0m | \u001b[36mdataset\u001b[0m:\u001b[36m__init__\u001b[0m:\u001b[36m127\u001b[0m - \u001b[1mFound action file: /home/ji/Dropbox/Robotics/ENPM809K_Fundamentals_in_AI_and_DL/Data/Data_2023-10-24_10-23-15_merge.txt\u001b[0m\n",
      "\u001b[32m2023-12-05 20:29:52.418\u001b[0m | \u001b[1mINFO    \u001b[0m | \u001b[36mdataset\u001b[0m:\u001b[36m__init__\u001b[0m:\u001b[36m127\u001b[0m - \u001b[1mFound action file: /home/ji/Dropbox/Robotics/ENPM809K_Fundamentals_in_AI_and_DL/Data/Data_2023-11-09_10-18-05_merge.txt\u001b[0m\n",
      "\u001b[32m2023-12-05 20:29:52.419\u001b[0m | \u001b[1mINFO    \u001b[0m | \u001b[36mdataset\u001b[0m:\u001b[36m__init__\u001b[0m:\u001b[36m127\u001b[0m - \u001b[1mFound action file: /home/ji/Dropbox/Robotics/ENPM809K_Fundamentals_in_AI_and_DL/Data/Data_2023-11-12_09-48-23_merge.txt\u001b[0m\n",
      "\u001b[32m2023-12-05 20:29:52.420\u001b[0m | \u001b[1mINFO    \u001b[0m | \u001b[36mdataset\u001b[0m:\u001b[36m__init__\u001b[0m:\u001b[36m127\u001b[0m - \u001b[1mFound action file: /home/ji/Dropbox/Robotics/ENPM809K_Fundamentals_in_AI_and_DL/Data/Data_2023-11-13_09-27-16_merge.txt\u001b[0m\n",
      "\u001b[32m2023-12-05 20:29:52.423\u001b[0m | \u001b[1mINFO    \u001b[0m | \u001b[36mdataset\u001b[0m:\u001b[36m__init__\u001b[0m:\u001b[36m127\u001b[0m - \u001b[1mFound action file: /home/ji/Dropbox/Robotics/ENPM809K_Fundamentals_in_AI_and_DL/Data/Data_2023-10-25_09-48-21_merge.txt\u001b[0m\n",
      "\u001b[32m2023-12-05 20:29:52.424\u001b[0m | \u001b[1mINFO    \u001b[0m | \u001b[36mdataset\u001b[0m:\u001b[36m__init__\u001b[0m:\u001b[36m127\u001b[0m - \u001b[1mFound action file: /home/ji/Dropbox/Robotics/ENPM809K_Fundamentals_in_AI_and_DL/Data/Data_2023-10-27_09-55-04_merge.txt\u001b[0m\n",
      "\u001b[32m2023-12-05 20:29:52.425\u001b[0m | \u001b[1mINFO    \u001b[0m | \u001b[36mdataset\u001b[0m:\u001b[36m__init__\u001b[0m:\u001b[36m127\u001b[0m - \u001b[1mFound action file: /home/ji/Dropbox/Robotics/ENPM809K_Fundamentals_in_AI_and_DL/Data/Data_2023-11-06_09-32-29_merge.txt\u001b[0m\n",
      "\u001b[32m2023-12-05 20:29:52.426\u001b[0m | \u001b[1mINFO    \u001b[0m | \u001b[36mdataset\u001b[0m:\u001b[36m__init__\u001b[0m:\u001b[36m127\u001b[0m - \u001b[1mFound action file: /home/ji/Dropbox/Robotics/ENPM809K_Fundamentals_in_AI_and_DL/Data/Data_2023-10-23_09-15-35_merge.txt\u001b[0m\n",
      "2023-12-05 20:29:52.442046: I tensorflow/compiler/xla/stream_executor/cuda/cuda_gpu_executor.cc:996] successful NUMA node read from SysFS had negative value (-1), but there must be at least one NUMA node, so returning NUMA node zero. See more at https://github.com/torvalds/linux/blob/v6.0/Documentation/ABI/testing/sysfs-bus-pci#L344-L355\n",
      "2023-12-05 20:29:52.442441: I tensorflow/compiler/xla/stream_executor/cuda/cuda_gpu_executor.cc:996] successful NUMA node read from SysFS had negative value (-1), but there must be at least one NUMA node, so returning NUMA node zero. See more at https://github.com/torvalds/linux/blob/v6.0/Documentation/ABI/testing/sysfs-bus-pci#L344-L355\n",
      "2023-12-05 20:29:52.442733: I tensorflow/compiler/xla/stream_executor/cuda/cuda_gpu_executor.cc:996] successful NUMA node read from SysFS had negative value (-1), but there must be at least one NUMA node, so returning NUMA node zero. See more at https://github.com/torvalds/linux/blob/v6.0/Documentation/ABI/testing/sysfs-bus-pci#L344-L355\n",
      "2023-12-05 20:29:54.374628: I tensorflow/compiler/xla/stream_executor/cuda/cuda_gpu_executor.cc:996] successful NUMA node read from SysFS had negative value (-1), but there must be at least one NUMA node, so returning NUMA node zero. See more at https://github.com/torvalds/linux/blob/v6.0/Documentation/ABI/testing/sysfs-bus-pci#L344-L355\n",
      "2023-12-05 20:29:54.374829: I tensorflow/compiler/xla/stream_executor/cuda/cuda_gpu_executor.cc:996] successful NUMA node read from SysFS had negative value (-1), but there must be at least one NUMA node, so returning NUMA node zero. See more at https://github.com/torvalds/linux/blob/v6.0/Documentation/ABI/testing/sysfs-bus-pci#L344-L355\n",
      "2023-12-05 20:29:54.374966: I tensorflow/compiler/xla/stream_executor/cuda/cuda_gpu_executor.cc:996] successful NUMA node read from SysFS had negative value (-1), but there must be at least one NUMA node, so returning NUMA node zero. See more at https://github.com/torvalds/linux/blob/v6.0/Documentation/ABI/testing/sysfs-bus-pci#L344-L355\n",
      "2023-12-05 20:29:54.375077: I tensorflow/core/common_runtime/gpu/gpu_device.cc:1635] Created device /job:localhost/replica:0/task:0/device:GPU:0 with 3290 MB memory:  -> device: 0, name: NVIDIA GeForce GTX 1050, pci bus id: 0000:01:00.0, compute capability: 6.1\n",
      "\u001b[32m2023-12-05 20:29:54.717\u001b[0m | \u001b[1mINFO    \u001b[0m | \u001b[36mdataset\u001b[0m:\u001b[36mcheck_vid_action_length\u001b[0m:\u001b[36m139\u001b[0m - \u001b[1m✅ All files match in length.\u001b[0m\n",
      "\u001b[32m2023-12-05 20:29:54.759\u001b[0m | \u001b[1mINFO    \u001b[0m | \u001b[36mdataset\u001b[0m:\u001b[36m__init__\u001b[0m:\u001b[36m127\u001b[0m - \u001b[1mFound action file: /home/ji/Dropbox/Robotics/ENPM809K_Fundamentals_in_AI_and_DL/Data/Data_2023-11-06_09-37-29_merge.txt\u001b[0m\n",
      "\u001b[32m2023-12-05 20:29:54.760\u001b[0m | \u001b[1mINFO    \u001b[0m | \u001b[36mdataset\u001b[0m:\u001b[36m__init__\u001b[0m:\u001b[36m127\u001b[0m - \u001b[1mFound action file: /home/ji/Dropbox/Robotics/ENPM809K_Fundamentals_in_AI_and_DL/Data/Data_2023-11-06_09-47-30_merge.txt\u001b[0m\n",
      "\u001b[32m2023-12-05 20:29:54.761\u001b[0m | \u001b[1mINFO    \u001b[0m | \u001b[36mdataset\u001b[0m:\u001b[36m__init__\u001b[0m:\u001b[36m127\u001b[0m - \u001b[1mFound action file: /home/ji/Dropbox/Robotics/ENPM809K_Fundamentals_in_AI_and_DL/Data/Data_2023-10-25_09-43-21_merge.txt\u001b[0m\n",
      "\u001b[32m2023-12-05 20:29:54.761\u001b[0m | \u001b[1mINFO    \u001b[0m | \u001b[36mdataset\u001b[0m:\u001b[36m__init__\u001b[0m:\u001b[36m127\u001b[0m - \u001b[1mFound action file: /home/ji/Dropbox/Robotics/ENPM809K_Fundamentals_in_AI_and_DL/Data/Data_2023-10-27_09-40-03_merge.txt\u001b[0m\n",
      "\u001b[32m2023-12-05 20:29:54.762\u001b[0m | \u001b[1mINFO    \u001b[0m | \u001b[36mdataset\u001b[0m:\u001b[36m__init__\u001b[0m:\u001b[36m127\u001b[0m - \u001b[1mFound action file: /home/ji/Dropbox/Robotics/ENPM809K_Fundamentals_in_AI_and_DL/Data/Data_2023-10-22_11-34-39_merge.txt\u001b[0m\n",
      "\u001b[32m2023-12-05 20:29:54.787\u001b[0m | \u001b[1mINFO    \u001b[0m | \u001b[36mdataset\u001b[0m:\u001b[36mcheck_vid_action_length\u001b[0m:\u001b[36m139\u001b[0m - \u001b[1m✅ All files match in length.\u001b[0m\n",
      "\u001b[32m2023-12-05 20:29:54.833\u001b[0m | \u001b[1mINFO    \u001b[0m | \u001b[36mdataset\u001b[0m:\u001b[36m__init__\u001b[0m:\u001b[36m127\u001b[0m - \u001b[1mFound action file: /home/ji/Dropbox/Robotics/ENPM809K_Fundamentals_in_AI_and_DL/Data/Data_2023-11-13_09-32-16_merge.txt\u001b[0m\n",
      "\u001b[32m2023-12-05 20:29:54.834\u001b[0m | \u001b[1mINFO    \u001b[0m | \u001b[36mdataset\u001b[0m:\u001b[36m__init__\u001b[0m:\u001b[36m127\u001b[0m - \u001b[1mFound action file: /home/ji/Dropbox/Robotics/ENPM809K_Fundamentals_in_AI_and_DL/Data/Data_2023-10-22_11-32-39_merge.txt\u001b[0m\n",
      "\u001b[32m2023-12-05 20:29:54.835\u001b[0m | \u001b[1mINFO    \u001b[0m | \u001b[36mdataset\u001b[0m:\u001b[36m__init__\u001b[0m:\u001b[36m127\u001b[0m - \u001b[1mFound action file: /home/ji/Dropbox/Robotics/ENPM809K_Fundamentals_in_AI_and_DL/Data/Data_2023-10-26_10-20-07_merge.txt\u001b[0m\n",
      "\u001b[32m2023-12-05 20:29:54.836\u001b[0m | \u001b[1mINFO    \u001b[0m | \u001b[36mdataset\u001b[0m:\u001b[36m__init__\u001b[0m:\u001b[36m127\u001b[0m - \u001b[1mFound action file: /home/ji/Dropbox/Robotics/ENPM809K_Fundamentals_in_AI_and_DL/Data/Data_2023-11-09_10-13-05_merge.txt\u001b[0m\n",
      "\u001b[32m2023-12-05 20:29:54.837\u001b[0m | \u001b[1mINFO    \u001b[0m | \u001b[36mdataset\u001b[0m:\u001b[36m__init__\u001b[0m:\u001b[36m127\u001b[0m - \u001b[1mFound action file: /home/ji/Dropbox/Robotics/ENPM809K_Fundamentals_in_AI_and_DL/Data/Data_2023-10-23_09-40-37_merge.txt\u001b[0m\n",
      "/home/ji/Github/frame_prediction/script/dataset.py:150: RuntimeWarning: invalid value encountered in divide\n",
      "  data = (data-np.mean(data,axis=0,keepdims=True))/np.std(data,axis=0,keepdims=True)\n",
      "\u001b[32m2023-12-05 20:29:54.867\u001b[0m | \u001b[1mINFO    \u001b[0m | \u001b[36mdataset\u001b[0m:\u001b[36mcheck_vid_action_length\u001b[0m:\u001b[36m139\u001b[0m - \u001b[1m✅ All files match in length.\u001b[0m\n",
      "\u001b[32m2023-12-05 20:29:54.876\u001b[0m | \u001b[1mINFO    \u001b[0m | \u001b[36mdataset\u001b[0m:\u001b[36m__init__\u001b[0m:\u001b[36m127\u001b[0m - \u001b[1mFound action file: /home/ji/Dropbox/Robotics/ENPM809K_Fundamentals_in_AI_and_DL/Data_Test/Data_2023-10-22_11-33-39_merge.txt\u001b[0m\n",
      "\u001b[32m2023-12-05 20:29:54.880\u001b[0m | \u001b[1mINFO    \u001b[0m | \u001b[36mdataset\u001b[0m:\u001b[36mcheck_vid_action_length\u001b[0m:\u001b[36m139\u001b[0m - \u001b[1m✅ All files match in length.\u001b[0m\n"
     ]
    }
   ],
   "source": [
    "# set up tf database\n",
    "config = {}\n",
    "config[\"fold_n_frames\"] = 4 # fold n frames to predict the n+1 frame\n",
    "img_h, img_w = 192,256\n",
    "config['frame_resize_reshape'] = (img_h,img_w)\n",
    "# train/val/test data loader\n",
    "train_loader = FrameDataGenerator(file_list=data_manager.get_training_files(),\n",
    "                                    config=config)\n",
    "val_loader = FrameDataGenerator(file_list=data_manager.get_validation_files(),\n",
    "                                    config=config)\n",
    "test_loader = FrameDataGenerator(file_list=data_manager.get_test_files(),\n",
    "                                    config=config)\n",
    "train_loader_small = FrameDataGenerator(file_list=data_manager_small.get_training_files(),\n",
    "                                    config=config)\n",
    "\n",
    "# create tensorflow database from the generator\n",
    "action_dim = 4 # the txt files have 7 columns,but only 4 are used\n",
    "nchan_ori=1 # convert to gray scale\n",
    "output_signature = ((tf.TensorSpec(shape = (img_h, img_w, nchan_ori*config[\"fold_n_frames\"]),\n",
    "                                    dtype = train_loader.frame_dtype),\n",
    "                     tf.TensorSpec(shape = (action_dim,),\n",
    "                                    dtype = train_loader.action_dtype)),\n",
    "                    tf.TensorSpec(shape = (img_h, img_w, nchan_ori),\n",
    "                                    dtype = train_loader.frame_dtype),\n",
    "                    )\n",
    "    \n",
    "# create train/val/test tf dataset\n",
    "train_ds = tf.data.Dataset.from_generator(train_loader,\n",
    "                                          output_signature = output_signature)\n",
    "val_ds = tf.data.Dataset.from_generator(val_loader,\n",
    "                                          output_signature = output_signature)\n",
    "test_ds = tf.data.Dataset.from_generator(test_loader,\n",
    "                                          output_signature = output_signature)\n",
    "\n",
    "\n",
    "# set up batch size\n",
    "train_ds = train_ds.batch(8)\n",
    "train_ds = train_ds.prefetch(buffer_size = 20)\n",
    "\n",
    "\n",
    "# for validation and test evaluation, we are gonna sample\n",
    "# mini batches and calculate the loss, and repeat several\n",
    "# times and compute the mean loss, as opposed to compute \n",
    "# the loss on the whole validation/test set, so we can use\n",
    "# the same data generation pipeline built for the training\n",
    "# set\n",
    "val_ds = val_ds.batch(8)\n",
    "val_ds = val_ds.prefetch(buffer_size = 20)\n",
    "test_ds = test_ds.batch(8)\n",
    "test_ds = test_ds.prefetch(buffer_size = 20)\n",
    "\n",
    "train_ds_small = tf.data.Dataset.from_generator(train_loader_small,\n",
    "                                          output_signature = output_signature)\n",
    "train_ds_small = train_ds_small.batch(8)\n",
    "train_ds_small = train_ds_small.prefetch(5)"
   ]
  },
  {
   "cell_type": "markdown",
   "metadata": {},
   "source": [
    "some functions for figuring out conv and conv2dtr dimensions"
   ]
  },
  {
   "cell_type": "code",
   "execution_count": 136,
   "metadata": {},
   "outputs": [
    {
     "name": "stdout",
     "output_type": "stream",
     "text": [
      "9.0\n",
      "192.0\n"
     ]
    }
   ],
   "source": [
    "# image in\n",
    "def outdim(d,f,p,s):\n",
    "    return np.floor(d+2*p-f)/s+1\n",
    "\n",
    "# image out size\n",
    "def outdim_conv2d_tr(d,f,p,s, output_padding):\n",
    "    return ((d-1)*s+f-2*p+output_padding)\n",
    "\n",
    "d1 = outdim(192,8,0,2)\n",
    "d2 = outdim(d1,6,0,2)\n",
    "d3 = outdim(d2,6,0,2)\n",
    "d4 = outdim(d3,4,0,2)\n",
    "print(d4)\n",
    "\n",
    "d4_ = outdim_conv2d_tr(d4,4,0,2,0)\n",
    "d3_ = outdim_conv2d_tr(d4_,6,0,2,0)\n",
    "d2_ = outdim_conv2d_tr(d3_,6,0,2,1)\n",
    "d1_ = outdim_conv2d_tr(d2_,8,0,2,0)\n",
    "print(d1_)"
   ]
  },
  {
   "cell_type": "code",
   "execution_count": 5,
   "metadata": {},
   "outputs": [
    {
     "name": "stdout",
     "output_type": "stream",
     "text": [
      "Model: \"frame_prediction_model\"\n",
      "__________________________________________________________________________________________________\n",
      " Layer (type)                   Output Shape         Param #     Connected to                     \n",
      "==================================================================================================\n",
      " input_5 (InputLayer)           [(None, 192, 256, 4  0           []                               \n",
      "                                )]                                                                \n",
      "                                                                                                  \n",
      " sequential (Sequential)        (None, 2048)         32147968    ['input_5[0][0]']                \n",
      "                                                                                                  \n",
      " input_6 (InputLayer)           [(None, 4)]          0           []                               \n",
      "                                                                                                  \n",
      " model (Functional)             (None, 2048)         11348480    ['sequential[0][0]',             \n",
      "                                                                  'input_6[0][0]']                \n",
      "                                                                                                  \n",
      " sequential_4 (Sequential)      (None, 192, 256, 1)  32136193    ['model[0][0]']                  \n",
      "                                                                                                  \n",
      "==================================================================================================\n",
      "Total params: 75,632,641\n",
      "Trainable params: 75,632,641\n",
      "Non-trainable params: 0\n",
      "__________________________________________________________________________________________________\n",
      "None\n"
     ]
    },
    {
     "name": "stderr",
     "output_type": "stream",
     "text": [
      "2023-12-05 20:30:00.677533: I tensorflow/core/common_runtime/executor.cc:1197] [/device:CPU:0] (DEBUG INFO) Executor start aborting (this does not indicate an error and you can ignore this message): INVALID_ARGUMENT: You must feed a value for placeholder tensor 'Placeholder/_0' with dtype int32\n",
      "\t [[{{node Placeholder/_0}}]]\n",
      "2023-12-05 20:30:03.265484: I tensorflow/compiler/xla/stream_executor/cuda/cuda_dnn.cc:424] Loaded cuDNN version 8600\n"
     ]
    }
   ],
   "source": [
    "from model import get_interaction_module, FramePredictionModel\n",
    "\n",
    "# some hyper parameters for the network\n",
    "img_dim = (img_h,img_w,nchan_ori*config[\"fold_n_frames\"])\n",
    "encoder_output_dim = 2048\n",
    "\n",
    "# set up models\n",
    "layer_specs = [\n",
    "                {\"type\":\"input\",\"kwargs\":{\"input_shape\":img_dim}}, #0\n",
    "                {\"type\":\"conv2d\",\"kwargs\":{\"filters\": 128,  \"kernel_size\": 8, \"strides\":2,\"activation\":\"relu\"}}, #1\n",
    "                {\"type\":\"conv2d\",\"kwargs\":{\"filters\": 128, \"kernel_size\": 6, \"strides\":2,\"activation\":\"relu\"}}, #2\n",
    "                {\"type\":\"conv2d\",\"kwargs\":{\"filters\": 128, \"kernel_size\": 6, \"strides\":2,\"activation\":\"relu\"}}, #3\n",
    "                {\"type\":\"conv2d\",\"kwargs\":{\"filters\": 128, \"kernel_size\": 4, \"strides\":2,\"activation\":\"relu\"}}, #4\n",
    "                {\"type\":\"flatten\"}, #5\n",
    "                {\"type\":\"dense\",\"kwargs\":{\"units\":encoder_output_dim,\"activation\":\"relu\"}} #6\n",
    "            ]\n",
    "encoder = tf.keras.Sequential([\n",
    "    tf.keras.layers.InputLayer(input_shape=img_dim),\n",
    "    tf.keras.layers.Conv2D(**layer_specs[1][\"kwargs\"]),\n",
    "    tf.keras.layers.Conv2D(**layer_specs[2][\"kwargs\"]),\n",
    "    tf.keras.layers.Conv2D(**layer_specs[3][\"kwargs\"]),\n",
    "    tf.keras.layers.Conv2D(**layer_specs[4][\"kwargs\"]),\n",
    "    tf.keras.layers.Flatten(),\n",
    "    tf.keras.layers.Dense(encoder_output_dim, activation='relu')\n",
    "])\n",
    "\n",
    "# define interaction module\n",
    "interaction_dim, interaction_output_dim = 2048, 2048\n",
    "interaction = get_interaction_module(encoder_dim=encoder_output_dim,\n",
    "                                     action_dim=action_dim,\n",
    "                                     intermediate_dim=interaction_dim,\n",
    "                                     output_dim=interaction_output_dim)\n",
    "\n",
    "# define decoder\n",
    "# get the output size of the last conv layer\n",
    "conv_out_size = encoder.layers[3].output_shape[1:]\n",
    "nchan = 128\n",
    "fc_dim = int(np.prod(conv_out_size[:2])*nchan)\n",
    "layer_specs = [\n",
    "                {\"type\":\"input_shape\",\"kwargs\":{\"shape\":(interaction_output_dim,)}}, #0\n",
    "                {\"type\":\"dense\",\"kwargs\":{\"units\":fc_dim,\"activation\":\"relu\"}}, #1\n",
    "                {\"type\":\"reshape\",\"kwargs\":{\"target_shape\":(conv_out_size[0],conv_out_size[1],nchan)}}, #2\n",
    "                {\"type\":\"conv2dtr\",\"kwargs\":{\"filters\": 128, \"kernel_size\": 4, \"strides\":2,\"activation\":\"relu\"}}, #3\n",
    "                {\"type\":\"conv2dtr\",\"kwargs\":{\"filters\": 128, \"kernel_size\": 6, \"strides\":2,\"activation\":\"relu\"}}, #4\n",
    "                {\"type\":\"conv2dtr\",\"kwargs\":{\"filters\": 128, \"kernel_size\": 6, \"strides\":2,\"activation\":\"relu\", \"output_padding\":1}}, #5\n",
    "                {\"type\":\"conv2dtr\",\"kwargs\":{\"filters\": nchan_ori, \"kernel_size\": 8, \"strides\":2,\"activation\":None}}, #6\n",
    "                ]\n",
    "\n",
    "decoder = tf.keras.Sequential([\n",
    "    tf.keras.layers.InputLayer(input_shape=(interaction_output_dim,)),\n",
    "    tf.keras.layers.Dense(units=fc_dim,activation='relu'),\n",
    "    tf.keras.layers.Reshape(target_shape=(conv_out_size[0],conv_out_size[1],nchan)),\n",
    "    tf.keras.layers.Conv2DTranspose(**layer_specs[3][\"kwargs\"]),\n",
    "    tf.keras.layers.Conv2DTranspose(**layer_specs[4][\"kwargs\"]),\n",
    "    tf.keras.layers.Conv2DTranspose(**layer_specs[5][\"kwargs\"]),\n",
    "    tf.keras.layers.Conv2DTranspose(**layer_specs[6][\"kwargs\"]),\n",
    "])\n",
    "\n",
    "# print('output shape of decoder: ', decoder.output_shape)\n",
    "# make sure decoder output matches the input image's size\n",
    "assert(decoder.output_shape[1:3]==img_dim[:2])\n",
    "assert(decoder.output_shape[-1]==nchan_ori)\n",
    "\n",
    "# get full model\n",
    "fpm = FramePredictionModel(img_dim,action_dim,encoder,interaction,decoder)\n",
    "print(fpm.summary())\n",
    "\n",
    "# test with some sample data\n",
    "(frame_input_sample,actions_sample), frame_output_sample = next(iter(train_ds))\n",
    "out_test = fpm([frame_input_sample, actions_sample])\n",
    "assert(out_test.shape==frame_output_sample.shape)\n",
    "\n",
    "# compile model\n",
    "optimizer = tf.keras.optimizers.Adam(learning_rate=1e-4)#,clipvalue=0.5)\n",
    "fpm.compile(optimizer=optimizer,\n",
    "            loss=tf.keras.losses.MeanSquaredError(),\n",
    "            metrics=[tfa.metrics.r_square.RSquare(name='r2')]\n",
    "            )"
   ]
  },
  {
   "cell_type": "code",
   "execution_count": 14,
   "metadata": {},
   "outputs": [
    {
     "data": {
      "image/png": "[encoded data removed]",
      "text/plain": [
       "<Figure size 640x480 with 1 Axes>"
      ]
     },
     "metadata": {},
     "output_type": "display_data"
    }
   ],
   "source": [
    "import matplotlib.pyplot as plt\n",
    "plt.imshow(frame_input_sample[0,:,:,3],cmap='gray')\n",
    "plt.show()"
   ]
  },
  {
   "cell_type": "code",
   "execution_count": 9,
   "metadata": {},
   "outputs": [
    {
     "data": {
      "text/plain": [
       "TensorShape([8, 192, 256, 4])"
      ]
     },
     "execution_count": 9,
     "metadata": {},
     "output_type": "execute_result"
    }
   ],
   "source": [
    "frame_input_sample.shape"
   ]
  },
  {
   "cell_type": "code",
   "execution_count": 34,
   "metadata": {},
   "outputs": [],
   "source": [
    "\n"
   ]
  },
  {
   "cell_type": "markdown",
   "metadata": {},
   "source": [
    "# Do an overfit on a small dataset"
   ]
  },
  {
   "cell_type": "code",
   "execution_count": 7,
   "metadata": {},
   "outputs": [
    {
     "name": "stdout",
     "output_type": "stream",
     "text": [
      "Epoch 1/10\n"
     ]
    },
    {
     "name": "stdout",
     "output_type": "stream",
     "text": [
      " 31/112 [=======>......................] - ETA: 25s - loss: 0.0030"
     ]
    },
    {
     "ename": "KeyboardInterrupt",
     "evalue": "",
     "output_type": "error",
     "traceback": [
      "\u001b[0;31m---------------------------------------------------------------------------\u001b[0m",
      "\u001b[0;31mKeyboardInterrupt\u001b[0m                         Traceback (most recent call last)",
      "\u001b[1;32m/home/ji/Github/frame_prediction/script/train.ipynb Cell 12\u001b[0m line \u001b[0;36m2\n\u001b[1;32m      <a href='vscode-notebook-cell:/home/ji/Github/frame_prediction/script/train.ipynb#X14sZmlsZQ%3D%3D?line=0'>1</a>\u001b[0m test_epochs \u001b[39m=\u001b[39m \u001b[39m10\u001b[39m\n\u001b[0;32m----> <a href='vscode-notebook-cell:/home/ji/Github/frame_prediction/script/train.ipynb#X14sZmlsZQ%3D%3D?line=1'>2</a>\u001b[0m history \u001b[39m=\u001b[39m fpm\u001b[39m.\u001b[39;49mfit(train_ds_small,epochs\u001b[39m=\u001b[39;49mtest_epochs, verbose\u001b[39m=\u001b[39;49m\u001b[39mTrue\u001b[39;49;00m,steps_per_epoch\u001b[39m=\u001b[39;49m\u001b[39m112\u001b[39;49m)\n",
      "File \u001b[0;32m~/anaconda3/envs/tensorflow/lib/python3.9/site-packages/keras/utils/traceback_utils.py:65\u001b[0m, in \u001b[0;36mfilter_traceback.<locals>.error_handler\u001b[0;34m(*args, **kwargs)\u001b[0m\n\u001b[1;32m     63\u001b[0m filtered_tb \u001b[39m=\u001b[39m \u001b[39mNone\u001b[39;00m\n\u001b[1;32m     64\u001b[0m \u001b[39mtry\u001b[39;00m:\n\u001b[0;32m---> 65\u001b[0m     \u001b[39mreturn\u001b[39;00m fn(\u001b[39m*\u001b[39;49margs, \u001b[39m*\u001b[39;49m\u001b[39m*\u001b[39;49mkwargs)\n\u001b[1;32m     66\u001b[0m \u001b[39mexcept\u001b[39;00m \u001b[39mException\u001b[39;00m \u001b[39mas\u001b[39;00m e:\n\u001b[1;32m     67\u001b[0m     filtered_tb \u001b[39m=\u001b[39m _process_traceback_frames(e\u001b[39m.\u001b[39m__traceback__)\n",
      "File \u001b[0;32m~/anaconda3/envs/tensorflow/lib/python3.9/site-packages/keras/engine/training.py:1685\u001b[0m, in \u001b[0;36mModel.fit\u001b[0;34m(self, x, y, batch_size, epochs, verbose, callbacks, validation_split, validation_data, shuffle, class_weight, sample_weight, initial_epoch, steps_per_epoch, validation_steps, validation_batch_size, validation_freq, max_queue_size, workers, use_multiprocessing)\u001b[0m\n\u001b[1;32m   1677\u001b[0m \u001b[39mwith\u001b[39;00m tf\u001b[39m.\u001b[39mprofiler\u001b[39m.\u001b[39mexperimental\u001b[39m.\u001b[39mTrace(\n\u001b[1;32m   1678\u001b[0m     \u001b[39m\"\u001b[39m\u001b[39mtrain\u001b[39m\u001b[39m\"\u001b[39m,\n\u001b[1;32m   1679\u001b[0m     epoch_num\u001b[39m=\u001b[39mepoch,\n\u001b[0;32m   (...)\u001b[0m\n\u001b[1;32m   1682\u001b[0m     _r\u001b[39m=\u001b[39m\u001b[39m1\u001b[39m,\n\u001b[1;32m   1683\u001b[0m ):\n\u001b[1;32m   1684\u001b[0m     callbacks\u001b[39m.\u001b[39mon_train_batch_begin(step)\n\u001b[0;32m-> 1685\u001b[0m     tmp_logs \u001b[39m=\u001b[39m \u001b[39mself\u001b[39;49m\u001b[39m.\u001b[39;49mtrain_function(iterator)\n\u001b[1;32m   1686\u001b[0m     \u001b[39mif\u001b[39;00m data_handler\u001b[39m.\u001b[39mshould_sync:\n\u001b[1;32m   1687\u001b[0m         context\u001b[39m.\u001b[39masync_wait()\n",
      "File \u001b[0;32m~/anaconda3/envs/tensorflow/lib/python3.9/site-packages/tensorflow/python/util/traceback_utils.py:150\u001b[0m, in \u001b[0;36mfilter_traceback.<locals>.error_handler\u001b[0;34m(*args, **kwargs)\u001b[0m\n\u001b[1;32m    148\u001b[0m filtered_tb \u001b[39m=\u001b[39m \u001b[39mNone\u001b[39;00m\n\u001b[1;32m    149\u001b[0m \u001b[39mtry\u001b[39;00m:\n\u001b[0;32m--> 150\u001b[0m   \u001b[39mreturn\u001b[39;00m fn(\u001b[39m*\u001b[39;49margs, \u001b[39m*\u001b[39;49m\u001b[39m*\u001b[39;49mkwargs)\n\u001b[1;32m    151\u001b[0m \u001b[39mexcept\u001b[39;00m \u001b[39mException\u001b[39;00m \u001b[39mas\u001b[39;00m e:\n\u001b[1;32m    152\u001b[0m   filtered_tb \u001b[39m=\u001b[39m _process_traceback_frames(e\u001b[39m.\u001b[39m__traceback__)\n",
      "File \u001b[0;32m~/anaconda3/envs/tensorflow/lib/python3.9/site-packages/tensorflow/python/eager/polymorphic_function/polymorphic_function.py:894\u001b[0m, in \u001b[0;36mFunction.__call__\u001b[0;34m(self, *args, **kwds)\u001b[0m\n\u001b[1;32m    891\u001b[0m compiler \u001b[39m=\u001b[39m \u001b[39m\"\u001b[39m\u001b[39mxla\u001b[39m\u001b[39m\"\u001b[39m \u001b[39mif\u001b[39;00m \u001b[39mself\u001b[39m\u001b[39m.\u001b[39m_jit_compile \u001b[39melse\u001b[39;00m \u001b[39m\"\u001b[39m\u001b[39mnonXla\u001b[39m\u001b[39m\"\u001b[39m\n\u001b[1;32m    893\u001b[0m \u001b[39mwith\u001b[39;00m OptionalXlaContext(\u001b[39mself\u001b[39m\u001b[39m.\u001b[39m_jit_compile):\n\u001b[0;32m--> 894\u001b[0m   result \u001b[39m=\u001b[39m \u001b[39mself\u001b[39;49m\u001b[39m.\u001b[39;49m_call(\u001b[39m*\u001b[39;49margs, \u001b[39m*\u001b[39;49m\u001b[39m*\u001b[39;49mkwds)\n\u001b[1;32m    896\u001b[0m new_tracing_count \u001b[39m=\u001b[39m \u001b[39mself\u001b[39m\u001b[39m.\u001b[39mexperimental_get_tracing_count()\n\u001b[1;32m    897\u001b[0m without_tracing \u001b[39m=\u001b[39m (tracing_count \u001b[39m==\u001b[39m new_tracing_count)\n",
      "File \u001b[0;32m~/anaconda3/envs/tensorflow/lib/python3.9/site-packages/tensorflow/python/eager/polymorphic_function/polymorphic_function.py:933\u001b[0m, in \u001b[0;36mFunction._call\u001b[0;34m(self, *args, **kwds)\u001b[0m\n\u001b[1;32m    930\u001b[0m \u001b[39mself\u001b[39m\u001b[39m.\u001b[39m_lock\u001b[39m.\u001b[39mrelease()\n\u001b[1;32m    931\u001b[0m \u001b[39m# In this case we have not created variables on the first call. So we can\u001b[39;00m\n\u001b[1;32m    932\u001b[0m \u001b[39m# run the first trace but we should fail if variables are created.\u001b[39;00m\n\u001b[0;32m--> 933\u001b[0m results \u001b[39m=\u001b[39m \u001b[39mself\u001b[39;49m\u001b[39m.\u001b[39;49m_variable_creation_fn(\u001b[39m*\u001b[39;49margs, \u001b[39m*\u001b[39;49m\u001b[39m*\u001b[39;49mkwds)\n\u001b[1;32m    934\u001b[0m \u001b[39mif\u001b[39;00m \u001b[39mself\u001b[39m\u001b[39m.\u001b[39m_created_variables \u001b[39mand\u001b[39;00m \u001b[39mnot\u001b[39;00m ALLOW_DYNAMIC_VARIABLE_CREATION:\n\u001b[1;32m    935\u001b[0m   \u001b[39mraise\u001b[39;00m \u001b[39mValueError\u001b[39;00m(\u001b[39m\"\u001b[39m\u001b[39mCreating variables on a non-first call to a function\u001b[39m\u001b[39m\"\u001b[39m\n\u001b[1;32m    936\u001b[0m                    \u001b[39m\"\u001b[39m\u001b[39m decorated with tf.function.\u001b[39m\u001b[39m\"\u001b[39m)\n",
      "File \u001b[0;32m~/anaconda3/envs/tensorflow/lib/python3.9/site-packages/tensorflow/python/eager/polymorphic_function/tracing_compiler.py:143\u001b[0m, in \u001b[0;36mTracingCompiler.__call__\u001b[0;34m(self, *args, **kwargs)\u001b[0m\n\u001b[1;32m    140\u001b[0m \u001b[39mwith\u001b[39;00m \u001b[39mself\u001b[39m\u001b[39m.\u001b[39m_lock:\n\u001b[1;32m    141\u001b[0m   (concrete_function,\n\u001b[1;32m    142\u001b[0m    filtered_flat_args) \u001b[39m=\u001b[39m \u001b[39mself\u001b[39m\u001b[39m.\u001b[39m_maybe_define_function(args, kwargs)\n\u001b[0;32m--> 143\u001b[0m \u001b[39mreturn\u001b[39;00m concrete_function\u001b[39m.\u001b[39;49m_call_flat(\n\u001b[1;32m    144\u001b[0m     filtered_flat_args, captured_inputs\u001b[39m=\u001b[39;49mconcrete_function\u001b[39m.\u001b[39;49mcaptured_inputs)\n",
      "File \u001b[0;32m~/anaconda3/envs/tensorflow/lib/python3.9/site-packages/tensorflow/python/eager/polymorphic_function/monomorphic_function.py:1757\u001b[0m, in \u001b[0;36mConcreteFunction._call_flat\u001b[0;34m(self, args, captured_inputs, cancellation_manager)\u001b[0m\n\u001b[1;32m   1753\u001b[0m possible_gradient_type \u001b[39m=\u001b[39m gradients_util\u001b[39m.\u001b[39mPossibleTapeGradientTypes(args)\n\u001b[1;32m   1754\u001b[0m \u001b[39mif\u001b[39;00m (possible_gradient_type \u001b[39m==\u001b[39m gradients_util\u001b[39m.\u001b[39mPOSSIBLE_GRADIENT_TYPES_NONE\n\u001b[1;32m   1755\u001b[0m     \u001b[39mand\u001b[39;00m executing_eagerly):\n\u001b[1;32m   1756\u001b[0m   \u001b[39m# No tape is watching; skip to running the function.\u001b[39;00m\n\u001b[0;32m-> 1757\u001b[0m   \u001b[39mreturn\u001b[39;00m \u001b[39mself\u001b[39m\u001b[39m.\u001b[39m_build_call_outputs(\u001b[39mself\u001b[39;49m\u001b[39m.\u001b[39;49m_inference_function\u001b[39m.\u001b[39;49mcall(\n\u001b[1;32m   1758\u001b[0m       ctx, args, cancellation_manager\u001b[39m=\u001b[39;49mcancellation_manager))\n\u001b[1;32m   1759\u001b[0m forward_backward \u001b[39m=\u001b[39m \u001b[39mself\u001b[39m\u001b[39m.\u001b[39m_select_forward_and_backward_functions(\n\u001b[1;32m   1760\u001b[0m     args,\n\u001b[1;32m   1761\u001b[0m     possible_gradient_type,\n\u001b[1;32m   1762\u001b[0m     executing_eagerly)\n\u001b[1;32m   1763\u001b[0m forward_function, args_with_tangents \u001b[39m=\u001b[39m forward_backward\u001b[39m.\u001b[39mforward()\n",
      "File \u001b[0;32m~/anaconda3/envs/tensorflow/lib/python3.9/site-packages/tensorflow/python/eager/polymorphic_function/monomorphic_function.py:381\u001b[0m, in \u001b[0;36m_EagerDefinedFunction.call\u001b[0;34m(self, ctx, args, cancellation_manager)\u001b[0m\n\u001b[1;32m    379\u001b[0m \u001b[39mwith\u001b[39;00m _InterpolateFunctionError(\u001b[39mself\u001b[39m):\n\u001b[1;32m    380\u001b[0m   \u001b[39mif\u001b[39;00m cancellation_manager \u001b[39mis\u001b[39;00m \u001b[39mNone\u001b[39;00m:\n\u001b[0;32m--> 381\u001b[0m     outputs \u001b[39m=\u001b[39m execute\u001b[39m.\u001b[39;49mexecute(\n\u001b[1;32m    382\u001b[0m         \u001b[39mstr\u001b[39;49m(\u001b[39mself\u001b[39;49m\u001b[39m.\u001b[39;49msignature\u001b[39m.\u001b[39;49mname),\n\u001b[1;32m    383\u001b[0m         num_outputs\u001b[39m=\u001b[39;49m\u001b[39mself\u001b[39;49m\u001b[39m.\u001b[39;49m_num_outputs,\n\u001b[1;32m    384\u001b[0m         inputs\u001b[39m=\u001b[39;49margs,\n\u001b[1;32m    385\u001b[0m         attrs\u001b[39m=\u001b[39;49mattrs,\n\u001b[1;32m    386\u001b[0m         ctx\u001b[39m=\u001b[39;49mctx)\n\u001b[1;32m    387\u001b[0m   \u001b[39melse\u001b[39;00m:\n\u001b[1;32m    388\u001b[0m     outputs \u001b[39m=\u001b[39m execute\u001b[39m.\u001b[39mexecute_with_cancellation(\n\u001b[1;32m    389\u001b[0m         \u001b[39mstr\u001b[39m(\u001b[39mself\u001b[39m\u001b[39m.\u001b[39msignature\u001b[39m.\u001b[39mname),\n\u001b[1;32m    390\u001b[0m         num_outputs\u001b[39m=\u001b[39m\u001b[39mself\u001b[39m\u001b[39m.\u001b[39m_num_outputs,\n\u001b[0;32m   (...)\u001b[0m\n\u001b[1;32m    393\u001b[0m         ctx\u001b[39m=\u001b[39mctx,\n\u001b[1;32m    394\u001b[0m         cancellation_manager\u001b[39m=\u001b[39mcancellation_manager)\n",
      "File \u001b[0;32m~/anaconda3/envs/tensorflow/lib/python3.9/site-packages/tensorflow/python/eager/execute.py:52\u001b[0m, in \u001b[0;36mquick_execute\u001b[0;34m(op_name, num_outputs, inputs, attrs, ctx, name)\u001b[0m\n\u001b[1;32m     50\u001b[0m \u001b[39mtry\u001b[39;00m:\n\u001b[1;32m     51\u001b[0m   ctx\u001b[39m.\u001b[39mensure_initialized()\n\u001b[0;32m---> 52\u001b[0m   tensors \u001b[39m=\u001b[39m pywrap_tfe\u001b[39m.\u001b[39;49mTFE_Py_Execute(ctx\u001b[39m.\u001b[39;49m_handle, device_name, op_name,\n\u001b[1;32m     53\u001b[0m                                       inputs, attrs, num_outputs)\n\u001b[1;32m     54\u001b[0m \u001b[39mexcept\u001b[39;00m core\u001b[39m.\u001b[39m_NotOkStatusException \u001b[39mas\u001b[39;00m e:\n\u001b[1;32m     55\u001b[0m   \u001b[39mif\u001b[39;00m name \u001b[39mis\u001b[39;00m \u001b[39mnot\u001b[39;00m \u001b[39mNone\u001b[39;00m:\n",
      "\u001b[0;31mKeyboardInterrupt\u001b[0m: "
     ]
    }
   ],
   "source": [
    "test_epochs = 10\n",
    "history = fpm.fit(train_ds_small,epochs=test_epochs, verbose=True,steps_per_epoch=112)"
   ]
  },
  {
   "cell_type": "code",
   "execution_count": 21,
   "metadata": {},
   "outputs": [
    {
     "ename": "TypeError",
     "evalue": "'_PrefetchDataset' object is not callable",
     "output_type": "error",
     "traceback": [
      "\u001b[0;31m---------------------------------------------------------------------------\u001b[0m",
      "\u001b[0;31mTypeError\u001b[0m                                 Traceback (most recent call last)",
      "\u001b[1;32m/home/ji/Github/frame_prediction/script/train.ipynb Cell 12\u001b[0m line \u001b[0;36m1\n\u001b[0;32m----> <a href='vscode-notebook-cell:/home/ji/Github/frame_prediction/script/train.ipynb#X30sZmlsZQ%3D%3D?line=0'>1</a>\u001b[0m tmp \u001b[39m=\u001b[39m \u001b[39mnext\u001b[39m(\u001b[39miter\u001b[39m(train_ds_small()))\n",
      "\u001b[0;31mTypeError\u001b[0m: '_PrefetchDataset' object is not callable"
     ]
    }
   ],
   "source": [
    "tmp = next(iter(train_ds_small()))"
   ]
  },
  {
   "cell_type": "code",
   "execution_count": 80,
   "metadata": {},
   "outputs": [],
   "source": [
    "optimizer.learning_rate = 1e-5"
   ]
  },
  {
   "cell_type": "code",
   "execution_count": 81,
   "metadata": {},
   "outputs": [
    {
     "name": "stdout",
     "output_type": "stream",
     "text": [
      "Epoch 1/10\n",
      "112/112 [==============================] - 39s 348ms/step - loss: 0.0181 - r2: -0.0409\n",
      "Epoch 2/10\n",
      "112/112 [==============================] - 39s 348ms/step - loss: 0.0178 - r2: -0.0338\n",
      "Epoch 3/10\n",
      "112/112 [==============================] - 39s 349ms/step - loss: 0.0177 - r2: -0.0329\n",
      "Epoch 4/10\n",
      "112/112 [==============================] - 39s 349ms/step - loss: 0.0178 - r2: -0.0317\n",
      "Epoch 5/10\n",
      "112/112 [==============================] - 39s 349ms/step - loss: 0.0178 - r2: -0.0316\n",
      "Epoch 6/10\n",
      "112/112 [==============================] - 40s 354ms/step - loss: 0.0177 - r2: -0.0317\n",
      "Epoch 7/10\n",
      "112/112 [==============================] - 39s 352ms/step - loss: 0.0178 - r2: -0.0320\n",
      "Epoch 8/10\n",
      "112/112 [==============================] - 38s 340ms/step - loss: 0.0178 - r2: -0.0294\n",
      "Epoch 9/10\n",
      "112/112 [==============================] - 38s 336ms/step - loss: 0.0177 - r2: -0.0303\n",
      "Epoch 10/10\n",
      "112/112 [==============================] - 39s 346ms/step - loss: 0.0177 - r2: -0.0314\n"
     ]
    }
   ],
   "source": [
    "history = fpm.fit(train_ds_small,epochs=test_epochs, verbose=1,steps_per_epoch=112)"
   ]
  },
  {
   "cell_type": "code",
   "execution_count": 86,
   "metadata": {},
   "outputs": [],
   "source": [
    "input, output = next(iter(train_ds_small))\n",
    "\n",
    "ex1 = fpm(input)"
   ]
  },
  {
   "cell_type": "code",
   "execution_count": 98,
   "metadata": {},
   "outputs": [
    {
     "data": {
      "text/plain": [
       "(192, 256, 12)"
      ]
     },
     "execution_count": 98,
     "metadata": {},
     "output_type": "execute_result"
    }
   ],
   "source": [
    "input[0].numpy()[0,:,:,:].squeeze().shape"
   ]
  },
  {
   "cell_type": "code",
   "execution_count": null,
   "metadata": {},
   "outputs": [],
   "source": [
    "input"
   ]
  },
  {
   "cell_type": "code",
   "execution_count": 107,
   "metadata": {},
   "outputs": [
    {
     "data": {
      "text/plain": [
       "<tf.Tensor: shape=(28,), dtype=float32, numpy=\n",
       "array([-0.1360946 ,  2.6358507 , -0.13310656,  0.66286063,  1.0972971 ,\n",
       "        0.09600986,  0.5013749 , -0.1360946 ,  2.6358507 , -0.13310656,\n",
       "        0.66286063,  1.0972971 ,  0.09600986,  0.34872684, -0.1360946 ,\n",
       "        2.6358507 , -0.13310656,  0.66286063,  1.0972971 ,  0.09600986,\n",
       "       -0.24518125, -0.1360946 ,  2.6358507 , -0.13310656,  0.66286063,\n",
       "        1.0972971 ,  0.09600986,  0.04735185], dtype=float32)>"
      ]
     },
     "execution_count": 107,
     "metadata": {},
     "output_type": "execute_result"
    }
   ],
   "source": [
    "input[1][0]"
   ]
  },
  {
   "cell_type": "code",
   "execution_count": 108,
   "metadata": {},
   "outputs": [
    {
     "data": {
      "text/plain": [
       "<tf.Tensor: shape=(28,), dtype=float32, numpy=\n",
       "array([-0.1360946 ,  2.6358507 , -0.13310656,  0.66286063,  1.0972971 ,\n",
       "        0.09600986, -0.03645438, -0.1360946 ,  2.6358507 , -0.13310656,\n",
       "        0.66286063,  1.0972971 ,  0.09600986, -0.11709915, -0.1360946 ,\n",
       "        2.6358507 , -0.13310656,  0.66286063,  1.0972971 ,  0.09600986,\n",
       "       -0.14059892, -0.1360946 ,  2.6358507 , -0.13310656,  0.66286063,\n",
       "        1.0972971 ,  0.09600986,  0.07185117], dtype=float32)>"
      ]
     },
     "execution_count": 108,
     "metadata": {},
     "output_type": "execute_result"
    }
   ],
   "source": [
    "input[1][1]"
   ]
  },
  {
   "cell_type": "code",
   "execution_count": 109,
   "metadata": {},
   "outputs": [
    {
     "data": {
      "text/plain": [
       "<tf.Tensor: shape=(28,), dtype=float32, numpy=\n",
       "array([-0.1360946 ,  2.6358507 , -0.13310656,  0.66286063,  1.0972971 ,\n",
       "        0.09600986,  0.08903697, -0.1360946 ,  2.6358507 , -0.13310656,\n",
       "        0.66286063,  1.0972971 ,  0.09600986,  0.11516085, -0.1360946 ,\n",
       "        2.6358507 , -0.13310656,  0.66286063,  1.0972971 ,  0.09600986,\n",
       "       -0.01960179, -0.1360946 ,  2.6358507 , -0.13310656,  0.66286063,\n",
       "        1.0972971 ,  0.09600986, -0.02587992], dtype=float32)>"
      ]
     },
     "execution_count": 109,
     "metadata": {},
     "output_type": "execute_result"
    }
   ],
   "source": [
    "input[1][2]"
   ]
  },
  {
   "cell_type": "code",
   "execution_count": 142,
   "metadata": {},
   "outputs": [
    {
     "name": "stderr",
     "output_type": "stream",
     "text": [
      "/snap/core20/current/lib/x86_64-linux-gnu/libstdc++.so.6: version `GLIBCXX_3.4.29' not found (required by /lib/x86_64-linux-gnu/libproxy.so.1)\n",
      "Failed to load module: /home/ji/snap/code/common/.cache/gio-modules/libgiolibproxy.so\n",
      "/snap/core20/current/lib/x86_64-linux-gnu/libstdc++.so.6: version `GLIBCXX_3.4.29' not found (required by /lib/x86_64-linux-gnu/libproxy.so.1)\n",
      "Failed to load module: /home/ji/snap/code/common/.cache/gio-modules/libgiolibproxy.so\n",
      "/snap/core20/current/lib/x86_64-linux-gnu/libstdc++.so.6: version `GLIBCXX_3.4.29' not found (required by /lib/x86_64-linux-gnu/libproxy.so.1)\n",
      "Failed to load module: /home/ji/snap/code/common/.cache/gio-modules/libgiolibproxy.so\n"
     ]
    }
   ],
   "source": [
    "# for plotting predicted frame\n",
    "from PIL import Image\n",
    "import time\n",
    "import psutil\n",
    "\n",
    "for _ in range(3):\n",
    "    input, output = next(iter(train_ds_small))\n",
    "    ex1 = fpm(input)\n",
    "    data = ex1.numpy()[0,:,:,:3].squeeze()\n",
    "    data = (data*255).astype(np.uint8)\n",
    "    im = Image.fromarray(data)\n",
    "    im.show()\n",
    "    time.sleep(0.5)\n",
    "    for proc in psutil.process_iter():\n",
    "        if proc.name() == \"display\":\n",
    "            proc.kill()"
   ]
  },
  {
   "cell_type": "code",
   "execution_count": 90,
   "metadata": {},
   "outputs": [],
   "source": [
    "im.close()"
   ]
  }
 ],
 "metadata": {
  "kernelspec": {
   "display_name": "tensorflow",
   "language": "python",
   "name": "python3"
  },
  "language_info": {
   "codemirror_mode": {
    "name": "ipython",
    "version": 3
   },
   "file_extension": ".py",
   "mimetype": "text/x-python",
   "name": "python",
   "nbconvert_exporter": "python",
   "pygments_lexer": "ipython3",
   "version": "3.9.17"
  }
 },
 "nbformat": 4,
 "nbformat_minor": 2
}
