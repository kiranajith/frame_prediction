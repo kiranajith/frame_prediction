{
 "cells": [
  {
   "cell_type": "code",
   "execution_count": 1,
   "metadata": {},
   "outputs": [],
   "source": [
    "# set up autoreload\n",
    "%load_ext autoreload\n",
    "%autoreload 2"
   ]
  },
  {
   "cell_type": "code",
   "execution_count": 2,
   "metadata": {},
   "outputs": [
    {
     "name": "stderr",
     "output_type": "stream",
     "text": [
      "2023-11-24 18:36:55.030908: I tensorflow/core/util/port.cc:113] oneDNN custom operations are on. You may see slightly different numerical results due to floating-point round-off errors from different computation orders. To turn them off, set the environment variable `TF_ENABLE_ONEDNN_OPTS=0`.\n",
      "2023-11-24 18:36:55.032912: I external/local_tsl/tsl/cuda/cudart_stub.cc:31] Could not find cuda drivers on your machine, GPU will not be used.\n",
      "2023-11-24 18:36:55.060167: E external/local_xla/xla/stream_executor/cuda/cuda_dnn.cc:9261] Unable to register cuDNN factory: Attempting to register factory for plugin cuDNN when one has already been registered\n",
      "2023-11-24 18:36:55.060217: E external/local_xla/xla/stream_executor/cuda/cuda_fft.cc:607] Unable to register cuFFT factory: Attempting to register factory for plugin cuFFT when one has already been registered\n",
      "2023-11-24 18:36:55.061394: E external/local_xla/xla/stream_executor/cuda/cuda_blas.cc:1515] Unable to register cuBLAS factory: Attempting to register factory for plugin cuBLAS when one has already been registered\n",
      "2023-11-24 18:36:55.066111: I external/local_tsl/tsl/cuda/cudart_stub.cc:31] Could not find cuda drivers on your machine, GPU will not be used.\n",
      "2023-11-24 18:36:55.066532: I tensorflow/core/platform/cpu_feature_guard.cc:182] This TensorFlow binary is optimized to use available CPU instructions in performance-critical operations.\n",
      "To enable the following instructions: AVX2 AVX512F AVX512_VNNI FMA, in other operations, rebuild TensorFlow with the appropriate compiler flags.\n",
      "2023-11-24 18:36:55.715546: W tensorflow/compiler/tf2tensorrt/utils/py_utils.cc:38] TF-TRT Warning: Could not find TensorRT\n",
      "\u001b[32m2023-11-24 18:36:56.173\u001b[0m | \u001b[1mINFO    \u001b[0m | \u001b[36mdataset\u001b[0m:\u001b[36m__init__\u001b[0m:\u001b[36m29\u001b[0m - \u001b[1mFound video file: /home/ji/Dropbox/Robotics/ENPM809K_Fundamentals_in_AI_and_DL/Data/Data_2023-11-12_09-53-23.avi\u001b[0m\n",
      "\u001b[32m2023-11-24 18:36:56.173\u001b[0m | \u001b[1mINFO    \u001b[0m | \u001b[36mdataset\u001b[0m:\u001b[36m__init__\u001b[0m:\u001b[36m29\u001b[0m - \u001b[1mFound video file: /home/ji/Dropbox/Robotics/ENPM809K_Fundamentals_in_AI_and_DL/Data/Data_2023-11-12_09-43-23.avi\u001b[0m\n",
      "\u001b[32m2023-11-24 18:36:56.173\u001b[0m | \u001b[1mINFO    \u001b[0m | \u001b[36mdataset\u001b[0m:\u001b[36m__init__\u001b[0m:\u001b[36m29\u001b[0m - \u001b[1mFound video file: /home/ji/Dropbox/Robotics/ENPM809K_Fundamentals_in_AI_and_DL/Data/Data_2023-10-23_09-30-36.avi\u001b[0m\n",
      "\u001b[32m2023-11-24 18:36:56.174\u001b[0m | \u001b[1mINFO    \u001b[0m | \u001b[36mdataset\u001b[0m:\u001b[36m__init__\u001b[0m:\u001b[36m29\u001b[0m - \u001b[1mFound video file: /home/ji/Dropbox/Robotics/ENPM809K_Fundamentals_in_AI_and_DL/Data/Data_2023-10-27_09-35-03.avi\u001b[0m\n",
      "\u001b[32m2023-11-24 18:36:56.174\u001b[0m | \u001b[1mINFO    \u001b[0m | \u001b[36mdataset\u001b[0m:\u001b[36m__init__\u001b[0m:\u001b[36m29\u001b[0m - \u001b[1mFound video file: /home/ji/Dropbox/Robotics/ENPM809K_Fundamentals_in_AI_and_DL/Data/Data_2023-10-25_09-48-21.avi\u001b[0m\n",
      "\u001b[32m2023-11-24 18:36:56.174\u001b[0m | \u001b[1mINFO    \u001b[0m | \u001b[36mdataset\u001b[0m:\u001b[36m__init__\u001b[0m:\u001b[36m29\u001b[0m - \u001b[1mFound video file: /home/ji/Dropbox/Robotics/ENPM809K_Fundamentals_in_AI_and_DL/Data/Data_2023-10-23_09-25-36.avi\u001b[0m\n",
      "\u001b[32m2023-11-24 18:36:56.175\u001b[0m | \u001b[1mINFO    \u001b[0m | \u001b[36mdataset\u001b[0m:\u001b[36m__init__\u001b[0m:\u001b[36m29\u001b[0m - \u001b[1mFound video file: /home/ji/Dropbox/Robotics/ENPM809K_Fundamentals_in_AI_and_DL/Data/Data_2023-10-26_10-30-08.avi\u001b[0m\n",
      "\u001b[32m2023-11-24 18:36:56.175\u001b[0m | \u001b[1mINFO    \u001b[0m | \u001b[36mdataset\u001b[0m:\u001b[36m__init__\u001b[0m:\u001b[36m29\u001b[0m - \u001b[1mFound video file: /home/ji/Dropbox/Robotics/ENPM809K_Fundamentals_in_AI_and_DL/Data/Data_2023-10-24_10-33-15.avi\u001b[0m\n",
      "\u001b[32m2023-11-24 18:36:56.176\u001b[0m | \u001b[1mINFO    \u001b[0m | \u001b[36mdataset\u001b[0m:\u001b[36m__init__\u001b[0m:\u001b[36m29\u001b[0m - \u001b[1mFound video file: /home/ji/Dropbox/Robotics/ENPM809K_Fundamentals_in_AI_and_DL/Data/Data_2023-11-12_09-48-23.avi\u001b[0m\n",
      "\u001b[32m2023-11-24 18:36:56.176\u001b[0m | \u001b[1mINFO    \u001b[0m | \u001b[36mdataset\u001b[0m:\u001b[36m__init__\u001b[0m:\u001b[36m29\u001b[0m - \u001b[1mFound video file: /home/ji/Dropbox/Robotics/ENPM809K_Fundamentals_in_AI_and_DL/Data/Data_2023-11-13_09-37-16.avi\u001b[0m\n",
      "\u001b[32m2023-11-24 18:36:56.176\u001b[0m | \u001b[1mINFO    \u001b[0m | \u001b[36mdataset\u001b[0m:\u001b[36m__init__\u001b[0m:\u001b[36m29\u001b[0m - \u001b[1mFound video file: /home/ji/Dropbox/Robotics/ENPM809K_Fundamentals_in_AI_and_DL/Data/Data_2023-10-27_10-00-04.avi\u001b[0m\n",
      "\u001b[32m2023-11-24 18:36:56.177\u001b[0m | \u001b[1mINFO    \u001b[0m | \u001b[36mdataset\u001b[0m:\u001b[36m__init__\u001b[0m:\u001b[36m29\u001b[0m - \u001b[1mFound video file: /home/ji/Dropbox/Robotics/ENPM809K_Fundamentals_in_AI_and_DL/Data/Data_2023-10-26_10-25-07.avi\u001b[0m\n",
      "\u001b[32m2023-11-24 18:36:56.177\u001b[0m | \u001b[1mINFO    \u001b[0m | \u001b[36mdataset\u001b[0m:\u001b[36m__init__\u001b[0m:\u001b[36m29\u001b[0m - \u001b[1mFound video file: /home/ji/Dropbox/Robotics/ENPM809K_Fundamentals_in_AI_and_DL/Data/Data_2023-11-06_09-27-29.avi\u001b[0m\n",
      "\u001b[32m2023-11-24 18:36:56.177\u001b[0m | \u001b[1mINFO    \u001b[0m | \u001b[36mdataset\u001b[0m:\u001b[36m__init__\u001b[0m:\u001b[36m29\u001b[0m - \u001b[1mFound video file: /home/ji/Dropbox/Robotics/ENPM809K_Fundamentals_in_AI_and_DL/Data/Data_2023-10-25_09-33-20.avi\u001b[0m\n",
      "\u001b[32m2023-11-24 18:36:56.178\u001b[0m | \u001b[1mINFO    \u001b[0m | \u001b[36mdataset\u001b[0m:\u001b[36m__init__\u001b[0m:\u001b[36m29\u001b[0m - \u001b[1mFound video file: /home/ji/Dropbox/Robotics/ENPM809K_Fundamentals_in_AI_and_DL/Data/Data_2023-11-12_09-28-21.avi\u001b[0m\n",
      "\u001b[32m2023-11-24 18:36:56.178\u001b[0m | \u001b[1mINFO    \u001b[0m | \u001b[36mdataset\u001b[0m:\u001b[36m__init__\u001b[0m:\u001b[36m29\u001b[0m - \u001b[1mFound video file: /home/ji/Dropbox/Robotics/ENPM809K_Fundamentals_in_AI_and_DL/Data/Data_2023-11-06_09-22-28.avi\u001b[0m\n",
      "\u001b[32m2023-11-24 18:36:56.178\u001b[0m | \u001b[1mINFO    \u001b[0m | \u001b[36mdataset\u001b[0m:\u001b[36m__init__\u001b[0m:\u001b[36m29\u001b[0m - \u001b[1mFound video file: /home/ji/Dropbox/Robotics/ENPM809K_Fundamentals_in_AI_and_DL/Data/Data_2023-11-06_09-37-29.avi\u001b[0m\n",
      "\u001b[32m2023-11-24 18:36:56.178\u001b[0m | \u001b[1mINFO    \u001b[0m | \u001b[36mdataset\u001b[0m:\u001b[36m__init__\u001b[0m:\u001b[36m29\u001b[0m - \u001b[1mFound video file: /home/ji/Dropbox/Robotics/ENPM809K_Fundamentals_in_AI_and_DL/Data/Data_2023-11-09_10-18-05.avi\u001b[0m\n",
      "\u001b[32m2023-11-24 18:36:56.179\u001b[0m | \u001b[1mINFO    \u001b[0m | \u001b[36mdataset\u001b[0m:\u001b[36m__init__\u001b[0m:\u001b[36m29\u001b[0m - \u001b[1mFound video file: /home/ji/Dropbox/Robotics/ENPM809K_Fundamentals_in_AI_and_DL/Data/Data_2023-10-23_09-40-37.avi\u001b[0m\n",
      "\u001b[32m2023-11-24 18:36:56.179\u001b[0m | \u001b[1mINFO    \u001b[0m | \u001b[36mdataset\u001b[0m:\u001b[36m__init__\u001b[0m:\u001b[36m29\u001b[0m - \u001b[1mFound video file: /home/ji/Dropbox/Robotics/ENPM809K_Fundamentals_in_AI_and_DL/Data/Data_2023-11-13_09-22-16.avi\u001b[0m\n",
      "\u001b[32m2023-11-24 18:36:56.179\u001b[0m | \u001b[1mINFO    \u001b[0m | \u001b[36mdataset\u001b[0m:\u001b[36m__init__\u001b[0m:\u001b[36m29\u001b[0m - \u001b[1mFound video file: /home/ji/Dropbox/Robotics/ENPM809K_Fundamentals_in_AI_and_DL/Data/Data_2023-11-12_09-33-22.avi\u001b[0m\n",
      "\u001b[32m2023-11-24 18:36:56.179\u001b[0m | \u001b[1mINFO    \u001b[0m | \u001b[36mdataset\u001b[0m:\u001b[36m__init__\u001b[0m:\u001b[36m29\u001b[0m - \u001b[1mFound video file: /home/ji/Dropbox/Robotics/ENPM809K_Fundamentals_in_AI_and_DL/Data/Data_2023-11-09_10-08-05.avi\u001b[0m\n",
      "\u001b[32m2023-11-24 18:36:56.180\u001b[0m | \u001b[1mINFO    \u001b[0m | \u001b[36mdataset\u001b[0m:\u001b[36m__init__\u001b[0m:\u001b[36m29\u001b[0m - \u001b[1mFound video file: /home/ji/Dropbox/Robotics/ENPM809K_Fundamentals_in_AI_and_DL/Data/Data_2023-11-06_09-47-30.avi\u001b[0m\n",
      "\u001b[32m2023-11-24 18:36:56.180\u001b[0m | \u001b[1mINFO    \u001b[0m | \u001b[36mdataset\u001b[0m:\u001b[36m__init__\u001b[0m:\u001b[36m29\u001b[0m - \u001b[1mFound video file: /home/ji/Dropbox/Robotics/ENPM809K_Fundamentals_in_AI_and_DL/Data/Data_2023-11-06_09-32-29.avi\u001b[0m\n",
      "\u001b[32m2023-11-24 18:36:56.180\u001b[0m | \u001b[1mINFO    \u001b[0m | \u001b[36mdataset\u001b[0m:\u001b[36m__init__\u001b[0m:\u001b[36m29\u001b[0m - \u001b[1mFound video file: /home/ji/Dropbox/Robotics/ENPM809K_Fundamentals_in_AI_and_DL/Data/Data_2023-11-13_09-27-16.avi\u001b[0m\n",
      "\u001b[32m2023-11-24 18:36:56.181\u001b[0m | \u001b[1mINFO    \u001b[0m | \u001b[36mdataset\u001b[0m:\u001b[36m__init__\u001b[0m:\u001b[36m29\u001b[0m - \u001b[1mFound video file: /home/ji/Dropbox/Robotics/ENPM809K_Fundamentals_in_AI_and_DL/Data/Data_2023-10-27_09-45-04.avi\u001b[0m\n",
      "\u001b[32m2023-11-24 18:36:56.181\u001b[0m | \u001b[1mINFO    \u001b[0m | \u001b[36mdataset\u001b[0m:\u001b[36m__init__\u001b[0m:\u001b[36m29\u001b[0m - \u001b[1mFound video file: /home/ji/Dropbox/Robotics/ENPM809K_Fundamentals_in_AI_and_DL/Data/Data_2023-10-27_09-40-03.avi\u001b[0m\n",
      "\u001b[32m2023-11-24 18:36:56.181\u001b[0m | \u001b[1mINFO    \u001b[0m | \u001b[36mdataset\u001b[0m:\u001b[36m__init__\u001b[0m:\u001b[36m29\u001b[0m - \u001b[1mFound video file: /home/ji/Dropbox/Robotics/ENPM809K_Fundamentals_in_AI_and_DL/Data/Data_2023-10-22_11-34-39.avi\u001b[0m\n",
      "\u001b[32m2023-11-24 18:36:56.181\u001b[0m | \u001b[1mINFO    \u001b[0m | \u001b[36mdataset\u001b[0m:\u001b[36m__init__\u001b[0m:\u001b[36m29\u001b[0m - \u001b[1mFound video file: /home/ji/Dropbox/Robotics/ENPM809K_Fundamentals_in_AI_and_DL/Data/Data_2023-10-26_10-40-08.avi\u001b[0m\n",
      "\u001b[32m2023-11-24 18:36:56.183\u001b[0m | \u001b[1mINFO    \u001b[0m | \u001b[36mdataset\u001b[0m:\u001b[36m__init__\u001b[0m:\u001b[36m29\u001b[0m - \u001b[1mFound video file: /home/ji/Dropbox/Robotics/ENPM809K_Fundamentals_in_AI_and_DL/Data/Data_2023-10-26_10-35-08.avi\u001b[0m\n",
      "\u001b[32m2023-11-24 18:36:56.183\u001b[0m | \u001b[1mINFO    \u001b[0m | \u001b[36mdataset\u001b[0m:\u001b[36m__init__\u001b[0m:\u001b[36m29\u001b[0m - \u001b[1mFound video file: /home/ji/Dropbox/Robotics/ENPM809K_Fundamentals_in_AI_and_DL/Data/Data_2023-10-24_10-18-15.avi\u001b[0m\n",
      "\u001b[32m2023-11-24 18:36:56.183\u001b[0m | \u001b[1mINFO    \u001b[0m | \u001b[36mdataset\u001b[0m:\u001b[36m__init__\u001b[0m:\u001b[36m29\u001b[0m - \u001b[1mFound video file: /home/ji/Dropbox/Robotics/ENPM809K_Fundamentals_in_AI_and_DL/Data/Data_2023-10-24_10-23-15.avi\u001b[0m\n",
      "\u001b[32m2023-11-24 18:36:56.183\u001b[0m | \u001b[1mINFO    \u001b[0m | \u001b[36mdataset\u001b[0m:\u001b[36m__init__\u001b[0m:\u001b[36m29\u001b[0m - \u001b[1mFound video file: /home/ji/Dropbox/Robotics/ENPM809K_Fundamentals_in_AI_and_DL/Data/Data_2023-10-24_10-13-14.avi\u001b[0m\n",
      "\u001b[32m2023-11-24 18:36:56.184\u001b[0m | \u001b[1mINFO    \u001b[0m | \u001b[36mdataset\u001b[0m:\u001b[36m__init__\u001b[0m:\u001b[36m29\u001b[0m - \u001b[1mFound video file: /home/ji/Dropbox/Robotics/ENPM809K_Fundamentals_in_AI_and_DL/Data/Data_2023-10-22_11-35-39.avi\u001b[0m\n",
      "\u001b[32m2023-11-24 18:36:56.184\u001b[0m | \u001b[1mINFO    \u001b[0m | \u001b[36mdataset\u001b[0m:\u001b[36m__init__\u001b[0m:\u001b[36m29\u001b[0m - \u001b[1mFound video file: /home/ji/Dropbox/Robotics/ENPM809K_Fundamentals_in_AI_and_DL/Data/Data_2023-11-13_09-32-16.avi\u001b[0m\n",
      "\u001b[32m2023-11-24 18:36:56.184\u001b[0m | \u001b[1mINFO    \u001b[0m | \u001b[36mdataset\u001b[0m:\u001b[36m__init__\u001b[0m:\u001b[36m29\u001b[0m - \u001b[1mFound video file: /home/ji/Dropbox/Robotics/ENPM809K_Fundamentals_in_AI_and_DL/Data/Data_2023-11-13_09-42-17.avi\u001b[0m\n",
      "\u001b[32m2023-11-24 18:36:56.185\u001b[0m | \u001b[1mINFO    \u001b[0m | \u001b[36mdataset\u001b[0m:\u001b[36m__init__\u001b[0m:\u001b[36m29\u001b[0m - \u001b[1mFound video file: /home/ji/Dropbox/Robotics/ENPM809K_Fundamentals_in_AI_and_DL/Data/Data_2023-10-23_09-35-36.avi\u001b[0m\n",
      "\u001b[32m2023-11-24 18:36:56.185\u001b[0m | \u001b[1mINFO    \u001b[0m | \u001b[36mdataset\u001b[0m:\u001b[36m__init__\u001b[0m:\u001b[36m29\u001b[0m - \u001b[1mFound video file: /home/ji/Dropbox/Robotics/ENPM809K_Fundamentals_in_AI_and_DL/Data/Data_2023-10-22_11-32-39.avi\u001b[0m\n",
      "\u001b[32m2023-11-24 18:36:56.185\u001b[0m | \u001b[1mINFO    \u001b[0m | \u001b[36mdataset\u001b[0m:\u001b[36m__init__\u001b[0m:\u001b[36m29\u001b[0m - \u001b[1mFound video file: /home/ji/Dropbox/Robotics/ENPM809K_Fundamentals_in_AI_and_DL/Data/Data_2023-11-13_09-47-17.avi\u001b[0m\n",
      "\u001b[32m2023-11-24 18:36:56.186\u001b[0m | \u001b[1mINFO    \u001b[0m | \u001b[36mdataset\u001b[0m:\u001b[36m__init__\u001b[0m:\u001b[36m29\u001b[0m - \u001b[1mFound video file: /home/ji/Dropbox/Robotics/ENPM809K_Fundamentals_in_AI_and_DL/Data/Data_2023-10-27_09-55-04.avi\u001b[0m\n",
      "\u001b[32m2023-11-24 18:36:56.186\u001b[0m | \u001b[1mINFO    \u001b[0m | \u001b[36mdataset\u001b[0m:\u001b[36m__init__\u001b[0m:\u001b[36m29\u001b[0m - \u001b[1mFound video file: /home/ji/Dropbox/Robotics/ENPM809K_Fundamentals_in_AI_and_DL/Data/Data_2023-10-24_10-28-15.avi\u001b[0m\n",
      "\u001b[32m2023-11-24 18:36:56.186\u001b[0m | \u001b[1mINFO    \u001b[0m | \u001b[36mdataset\u001b[0m:\u001b[36m__init__\u001b[0m:\u001b[36m29\u001b[0m - \u001b[1mFound video file: /home/ji/Dropbox/Robotics/ENPM809K_Fundamentals_in_AI_and_DL/Data/Data_2023-10-23_09-15-35.avi\u001b[0m\n",
      "\u001b[32m2023-11-24 18:36:56.187\u001b[0m | \u001b[1mINFO    \u001b[0m | \u001b[36mdataset\u001b[0m:\u001b[36m__init__\u001b[0m:\u001b[36m29\u001b[0m - \u001b[1mFound video file: /home/ji/Dropbox/Robotics/ENPM809K_Fundamentals_in_AI_and_DL/Data/Data_2023-10-27_09-50-04.avi\u001b[0m\n",
      "\u001b[32m2023-11-24 18:36:56.187\u001b[0m | \u001b[1mINFO    \u001b[0m | \u001b[36mdataset\u001b[0m:\u001b[36m__init__\u001b[0m:\u001b[36m29\u001b[0m - \u001b[1mFound video file: /home/ji/Dropbox/Robotics/ENPM809K_Fundamentals_in_AI_and_DL/Data/Data_2023-10-22_11-33-39.avi\u001b[0m\n",
      "\u001b[32m2023-11-24 18:36:56.187\u001b[0m | \u001b[1mINFO    \u001b[0m | \u001b[36mdataset\u001b[0m:\u001b[36m__init__\u001b[0m:\u001b[36m29\u001b[0m - \u001b[1mFound video file: /home/ji/Dropbox/Robotics/ENPM809K_Fundamentals_in_AI_and_DL/Data/Data_2023-10-25_09-38-21.avi\u001b[0m\n",
      "\u001b[32m2023-11-24 18:36:56.187\u001b[0m | \u001b[1mINFO    \u001b[0m | \u001b[36mdataset\u001b[0m:\u001b[36m__init__\u001b[0m:\u001b[36m29\u001b[0m - \u001b[1mFound video file: /home/ji/Dropbox/Robotics/ENPM809K_Fundamentals_in_AI_and_DL/Data/Data_2023-10-25_09-58-22.avi\u001b[0m\n",
      "\u001b[32m2023-11-24 18:36:56.188\u001b[0m | \u001b[1mINFO    \u001b[0m | \u001b[36mdataset\u001b[0m:\u001b[36m__init__\u001b[0m:\u001b[36m29\u001b[0m - \u001b[1mFound video file: /home/ji/Dropbox/Robotics/ENPM809K_Fundamentals_in_AI_and_DL/Data/Data_2023-10-26_10-15-07.avi\u001b[0m\n",
      "\u001b[32m2023-11-24 18:36:56.188\u001b[0m | \u001b[1mINFO    \u001b[0m | \u001b[36mdataset\u001b[0m:\u001b[36m__init__\u001b[0m:\u001b[36m29\u001b[0m - \u001b[1mFound video file: /home/ji/Dropbox/Robotics/ENPM809K_Fundamentals_in_AI_and_DL/Data/Data_2023-10-25_09-53-21.avi\u001b[0m\n",
      "\u001b[32m2023-11-24 18:36:56.188\u001b[0m | \u001b[1mINFO    \u001b[0m | \u001b[36mdataset\u001b[0m:\u001b[36m__init__\u001b[0m:\u001b[36m29\u001b[0m - \u001b[1mFound video file: /home/ji/Dropbox/Robotics/ENPM809K_Fundamentals_in_AI_and_DL/Data/Data_2023-11-09_10-13-05.avi\u001b[0m\n",
      "\u001b[32m2023-11-24 18:36:56.188\u001b[0m | \u001b[1mINFO    \u001b[0m | \u001b[36mdataset\u001b[0m:\u001b[36m__init__\u001b[0m:\u001b[36m29\u001b[0m - \u001b[1mFound video file: /home/ji/Dropbox/Robotics/ENPM809K_Fundamentals_in_AI_and_DL/Data/Data_2023-11-12_09-38-23.avi\u001b[0m\n",
      "\u001b[32m2023-11-24 18:36:56.189\u001b[0m | \u001b[1mINFO    \u001b[0m | \u001b[36mdataset\u001b[0m:\u001b[36m__init__\u001b[0m:\u001b[36m29\u001b[0m - \u001b[1mFound video file: /home/ji/Dropbox/Robotics/ENPM809K_Fundamentals_in_AI_and_DL/Data/Data_2023-10-25_09-43-21.avi\u001b[0m\n",
      "\u001b[32m2023-11-24 18:36:56.189\u001b[0m | \u001b[1mINFO    \u001b[0m | \u001b[36mdataset\u001b[0m:\u001b[36m__init__\u001b[0m:\u001b[36m29\u001b[0m - \u001b[1mFound video file: /home/ji/Dropbox/Robotics/ENPM809K_Fundamentals_in_AI_and_DL/Data/Data_2023-11-06_09-42-29.avi\u001b[0m\n",
      "\u001b[32m2023-11-24 18:36:56.189\u001b[0m | \u001b[1mINFO    \u001b[0m | \u001b[36mdataset\u001b[0m:\u001b[36m__init__\u001b[0m:\u001b[36m29\u001b[0m - \u001b[1mFound video file: /home/ji/Dropbox/Robotics/ENPM809K_Fundamentals_in_AI_and_DL/Data/Data_2023-10-26_10-20-07.avi\u001b[0m\n",
      "\u001b[32m2023-11-24 18:36:56.189\u001b[0m | \u001b[1mINFO    \u001b[0m | \u001b[36mdataset\u001b[0m:\u001b[36m__init__\u001b[0m:\u001b[36m29\u001b[0m - \u001b[1mFound video file: /home/ji/Dropbox/Robotics/ENPM809K_Fundamentals_in_AI_and_DL/Data/Data_2023-10-23_09-20-36.avi\u001b[0m\n",
      "\u001b[32m2023-11-24 18:36:56.190\u001b[0m | \u001b[1mINFO    \u001b[0m | \u001b[36mdataset\u001b[0m:\u001b[36m__init__\u001b[0m:\u001b[36m48\u001b[0m - \u001b[1mTraining: 43 files\u001b[0m\n",
      "\u001b[32m2023-11-24 18:36:56.190\u001b[0m | \u001b[1mINFO    \u001b[0m | \u001b[36mdataset\u001b[0m:\u001b[36m__init__\u001b[0m:\u001b[36m49\u001b[0m - \u001b[1mValidation: 5 files\u001b[0m\n",
      "\u001b[32m2023-11-24 18:36:56.191\u001b[0m | \u001b[1mINFO    \u001b[0m | \u001b[36mdataset\u001b[0m:\u001b[36m__init__\u001b[0m:\u001b[36m50\u001b[0m - \u001b[1mTest: 6 files\u001b[0m\n",
      "\u001b[32m2023-11-24 18:36:56.191\u001b[0m | \u001b[1mINFO    \u001b[0m | \u001b[36mdataset\u001b[0m:\u001b[36m__init__\u001b[0m:\u001b[36m29\u001b[0m - \u001b[1mFound video file: /home/ji/Dropbox/Robotics/ENPM809K_Fundamentals_in_AI_and_DL/Data_Test/Data_2023-10-27_09-55-04.avi\u001b[0m\n",
      "\u001b[32m2023-11-24 18:36:56.192\u001b[0m | \u001b[1mINFO    \u001b[0m | \u001b[36mdataset\u001b[0m:\u001b[36m__init__\u001b[0m:\u001b[36m48\u001b[0m - \u001b[1mTraining: 1 files\u001b[0m\n",
      "\u001b[32m2023-11-24 18:36:56.192\u001b[0m | \u001b[1mINFO    \u001b[0m | \u001b[36mdataset\u001b[0m:\u001b[36m__init__\u001b[0m:\u001b[36m49\u001b[0m - \u001b[1mValidation: 0 files\u001b[0m\n",
      "\u001b[32m2023-11-24 18:36:56.192\u001b[0m | \u001b[1mINFO    \u001b[0m | \u001b[36mdataset\u001b[0m:\u001b[36m__init__\u001b[0m:\u001b[36m50\u001b[0m - \u001b[1mTest: 0 files\u001b[0m\n"
     ]
    }
   ],
   "source": [
    "import tensorflow as tf\n",
    "import numpy as np\n",
    "from dataset import DataManager, FrameDataGenerator\n",
    "\n",
    "# set up data generator\n",
    "data_manager = DataManager(\n",
    "        data_path=r\"/home/ji/Dropbox/Robotics/ENPM809K_Fundamentals_in_AI_and_DL/Data\",\n",
    "        train_val_test_split=(0.80,0.1,0.1))\n",
    "\n",
    "data_manager_small = DataManager(\n",
    "        data_path=r\"/home/ji/Dropbox/Robotics/ENPM809K_Fundamentals_in_AI_and_DL/Data_Test\",\n",
    "        train_val_test_split=(1.0,0.0,0.0))"
   ]
  },
  {
   "cell_type": "code",
   "execution_count": 3,
   "metadata": {},
   "outputs": [
    {
     "name": "stderr",
     "output_type": "stream",
     "text": [
      "\u001b[32m2023-11-24 18:36:59.788\u001b[0m | \u001b[1mINFO    \u001b[0m | \u001b[36mdataset\u001b[0m:\u001b[36m__init__\u001b[0m:\u001b[36m127\u001b[0m - \u001b[1mFound action file: /home/ji/Dropbox/Robotics/ENPM809K_Fundamentals_in_AI_and_DL/Data/Data_2023-11-06_09-22-28_merge.txt\u001b[0m\n",
      "\u001b[32m2023-11-24 18:36:59.789\u001b[0m | \u001b[1mINFO    \u001b[0m | \u001b[36mdataset\u001b[0m:\u001b[36m__init__\u001b[0m:\u001b[36m127\u001b[0m - \u001b[1mFound action file: /home/ji/Dropbox/Robotics/ENPM809K_Fundamentals_in_AI_and_DL/Data/Data_2023-10-26_10-40-08_merge.txt\u001b[0m\n",
      "\u001b[32m2023-11-24 18:36:59.789\u001b[0m | \u001b[1mINFO    \u001b[0m | \u001b[36mdataset\u001b[0m:\u001b[36m__init__\u001b[0m:\u001b[36m127\u001b[0m - \u001b[1mFound action file: /home/ji/Dropbox/Robotics/ENPM809K_Fundamentals_in_AI_and_DL/Data/Data_2023-10-26_10-15-07_merge.txt\u001b[0m\n",
      "\u001b[32m2023-11-24 18:36:59.790\u001b[0m | \u001b[1mINFO    \u001b[0m | \u001b[36mdataset\u001b[0m:\u001b[36m__init__\u001b[0m:\u001b[36m127\u001b[0m - \u001b[1mFound action file: /home/ji/Dropbox/Robotics/ENPM809K_Fundamentals_in_AI_and_DL/Data/Data_2023-10-23_09-40-37_merge.txt\u001b[0m\n",
      "\u001b[32m2023-11-24 18:36:59.790\u001b[0m | \u001b[1mINFO    \u001b[0m | \u001b[36mdataset\u001b[0m:\u001b[36m__init__\u001b[0m:\u001b[36m127\u001b[0m - \u001b[1mFound action file: /home/ji/Dropbox/Robotics/ENPM809K_Fundamentals_in_AI_and_DL/Data/Data_2023-11-13_09-47-17_merge.txt\u001b[0m\n",
      "\u001b[32m2023-11-24 18:36:59.790\u001b[0m | \u001b[1mINFO    \u001b[0m | \u001b[36mdataset\u001b[0m:\u001b[36m__init__\u001b[0m:\u001b[36m127\u001b[0m - \u001b[1mFound action file: /home/ji/Dropbox/Robotics/ENPM809K_Fundamentals_in_AI_and_DL/Data/Data_2023-10-23_09-15-35_merge.txt\u001b[0m\n",
      "\u001b[32m2023-11-24 18:36:59.791\u001b[0m | \u001b[1mINFO    \u001b[0m | \u001b[36mdataset\u001b[0m:\u001b[36m__init__\u001b[0m:\u001b[36m127\u001b[0m - \u001b[1mFound action file: /home/ji/Dropbox/Robotics/ENPM809K_Fundamentals_in_AI_and_DL/Data/Data_2023-10-25_09-48-21_merge.txt\u001b[0m\n",
      "\u001b[32m2023-11-24 18:36:59.791\u001b[0m | \u001b[1mINFO    \u001b[0m | \u001b[36mdataset\u001b[0m:\u001b[36m__init__\u001b[0m:\u001b[36m127\u001b[0m - \u001b[1mFound action file: /home/ji/Dropbox/Robotics/ENPM809K_Fundamentals_in_AI_and_DL/Data/Data_2023-11-06_09-37-29_merge.txt\u001b[0m\n",
      "\u001b[32m2023-11-24 18:36:59.791\u001b[0m | \u001b[1mINFO    \u001b[0m | \u001b[36mdataset\u001b[0m:\u001b[36m__init__\u001b[0m:\u001b[36m127\u001b[0m - \u001b[1mFound action file: /home/ji/Dropbox/Robotics/ENPM809K_Fundamentals_in_AI_and_DL/Data/Data_2023-10-26_10-20-07_merge.txt\u001b[0m\n",
      "\u001b[32m2023-11-24 18:36:59.792\u001b[0m | \u001b[1mINFO    \u001b[0m | \u001b[36mdataset\u001b[0m:\u001b[36m__init__\u001b[0m:\u001b[36m127\u001b[0m - \u001b[1mFound action file: /home/ji/Dropbox/Robotics/ENPM809K_Fundamentals_in_AI_and_DL/Data/Data_2023-10-25_09-53-21_merge.txt\u001b[0m\n",
      "\u001b[32m2023-11-24 18:36:59.792\u001b[0m | \u001b[1mINFO    \u001b[0m | \u001b[36mdataset\u001b[0m:\u001b[36m__init__\u001b[0m:\u001b[36m127\u001b[0m - \u001b[1mFound action file: /home/ji/Dropbox/Robotics/ENPM809K_Fundamentals_in_AI_and_DL/Data/Data_2023-11-13_09-42-17_merge.txt\u001b[0m\n",
      "\u001b[32m2023-11-24 18:36:59.792\u001b[0m | \u001b[1mINFO    \u001b[0m | \u001b[36mdataset\u001b[0m:\u001b[36m__init__\u001b[0m:\u001b[36m127\u001b[0m - \u001b[1mFound action file: /home/ji/Dropbox/Robotics/ENPM809K_Fundamentals_in_AI_and_DL/Data/Data_2023-10-26_10-30-08_merge.txt\u001b[0m\n",
      "\u001b[32m2023-11-24 18:36:59.792\u001b[0m | \u001b[1mINFO    \u001b[0m | \u001b[36mdataset\u001b[0m:\u001b[36m__init__\u001b[0m:\u001b[36m127\u001b[0m - \u001b[1mFound action file: /home/ji/Dropbox/Robotics/ENPM809K_Fundamentals_in_AI_and_DL/Data/Data_2023-11-12_09-53-23_merge.txt\u001b[0m\n",
      "\u001b[32m2023-11-24 18:36:59.793\u001b[0m | \u001b[1mINFO    \u001b[0m | \u001b[36mdataset\u001b[0m:\u001b[36m__init__\u001b[0m:\u001b[36m127\u001b[0m - \u001b[1mFound action file: /home/ji/Dropbox/Robotics/ENPM809K_Fundamentals_in_AI_and_DL/Data/Data_2023-10-22_11-34-39_merge.txt\u001b[0m\n",
      "\u001b[32m2023-11-24 18:36:59.793\u001b[0m | \u001b[1mINFO    \u001b[0m | \u001b[36mdataset\u001b[0m:\u001b[36m__init__\u001b[0m:\u001b[36m127\u001b[0m - \u001b[1mFound action file: /home/ji/Dropbox/Robotics/ENPM809K_Fundamentals_in_AI_and_DL/Data/Data_2023-10-27_09-40-03_merge.txt\u001b[0m\n",
      "\u001b[32m2023-11-24 18:36:59.793\u001b[0m | \u001b[1mINFO    \u001b[0m | \u001b[36mdataset\u001b[0m:\u001b[36m__init__\u001b[0m:\u001b[36m127\u001b[0m - \u001b[1mFound action file: /home/ji/Dropbox/Robotics/ENPM809K_Fundamentals_in_AI_and_DL/Data/Data_2023-10-23_09-20-36_merge.txt\u001b[0m\n",
      "\u001b[32m2023-11-24 18:36:59.793\u001b[0m | \u001b[1mINFO    \u001b[0m | \u001b[36mdataset\u001b[0m:\u001b[36m__init__\u001b[0m:\u001b[36m127\u001b[0m - \u001b[1mFound action file: /home/ji/Dropbox/Robotics/ENPM809K_Fundamentals_in_AI_and_DL/Data/Data_2023-11-13_09-32-16_merge.txt\u001b[0m\n",
      "\u001b[32m2023-11-24 18:36:59.794\u001b[0m | \u001b[1mINFO    \u001b[0m | \u001b[36mdataset\u001b[0m:\u001b[36m__init__\u001b[0m:\u001b[36m127\u001b[0m - \u001b[1mFound action file: /home/ji/Dropbox/Robotics/ENPM809K_Fundamentals_in_AI_and_DL/Data/Data_2023-10-25_09-58-22_merge.txt\u001b[0m\n",
      "\u001b[32m2023-11-24 18:36:59.794\u001b[0m | \u001b[1mINFO    \u001b[0m | \u001b[36mdataset\u001b[0m:\u001b[36m__init__\u001b[0m:\u001b[36m127\u001b[0m - \u001b[1mFound action file: /home/ji/Dropbox/Robotics/ENPM809K_Fundamentals_in_AI_and_DL/Data/Data_2023-11-06_09-27-29_merge.txt\u001b[0m\n",
      "\u001b[32m2023-11-24 18:36:59.794\u001b[0m | \u001b[1mINFO    \u001b[0m | \u001b[36mdataset\u001b[0m:\u001b[36m__init__\u001b[0m:\u001b[36m127\u001b[0m - \u001b[1mFound action file: /home/ji/Dropbox/Robotics/ENPM809K_Fundamentals_in_AI_and_DL/Data/Data_2023-10-27_09-50-04_merge.txt\u001b[0m\n",
      "\u001b[32m2023-11-24 18:36:59.794\u001b[0m | \u001b[1mINFO    \u001b[0m | \u001b[36mdataset\u001b[0m:\u001b[36m__init__\u001b[0m:\u001b[36m127\u001b[0m - \u001b[1mFound action file: /home/ji/Dropbox/Robotics/ENPM809K_Fundamentals_in_AI_and_DL/Data/Data_2023-11-06_09-47-30_merge.txt\u001b[0m\n",
      "\u001b[32m2023-11-24 18:36:59.795\u001b[0m | \u001b[1mINFO    \u001b[0m | \u001b[36mdataset\u001b[0m:\u001b[36m__init__\u001b[0m:\u001b[36m127\u001b[0m - \u001b[1mFound action file: /home/ji/Dropbox/Robotics/ENPM809K_Fundamentals_in_AI_and_DL/Data/Data_2023-11-06_09-32-29_merge.txt\u001b[0m\n",
      "\u001b[32m2023-11-24 18:36:59.795\u001b[0m | \u001b[1mINFO    \u001b[0m | \u001b[36mdataset\u001b[0m:\u001b[36m__init__\u001b[0m:\u001b[36m127\u001b[0m - \u001b[1mFound action file: /home/ji/Dropbox/Robotics/ENPM809K_Fundamentals_in_AI_and_DL/Data/Data_2023-10-27_10-00-04_merge.txt\u001b[0m\n",
      "\u001b[32m2023-11-24 18:36:59.795\u001b[0m | \u001b[1mINFO    \u001b[0m | \u001b[36mdataset\u001b[0m:\u001b[36m__init__\u001b[0m:\u001b[36m127\u001b[0m - \u001b[1mFound action file: /home/ji/Dropbox/Robotics/ENPM809K_Fundamentals_in_AI_and_DL/Data/Data_2023-11-09_10-08-05_merge.txt\u001b[0m\n",
      "\u001b[32m2023-11-24 18:36:59.796\u001b[0m | \u001b[1mINFO    \u001b[0m | \u001b[36mdataset\u001b[0m:\u001b[36m__init__\u001b[0m:\u001b[36m127\u001b[0m - \u001b[1mFound action file: /home/ji/Dropbox/Robotics/ENPM809K_Fundamentals_in_AI_and_DL/Data/Data_2023-10-23_09-35-36_merge.txt\u001b[0m\n",
      "\u001b[32m2023-11-24 18:36:59.796\u001b[0m | \u001b[1mINFO    \u001b[0m | \u001b[36mdataset\u001b[0m:\u001b[36m__init__\u001b[0m:\u001b[36m127\u001b[0m - \u001b[1mFound action file: /home/ji/Dropbox/Robotics/ENPM809K_Fundamentals_in_AI_and_DL/Data/Data_2023-11-12_09-38-23_merge.txt\u001b[0m\n",
      "\u001b[32m2023-11-24 18:36:59.796\u001b[0m | \u001b[1mINFO    \u001b[0m | \u001b[36mdataset\u001b[0m:\u001b[36m__init__\u001b[0m:\u001b[36m127\u001b[0m - \u001b[1mFound action file: /home/ji/Dropbox/Robotics/ENPM809K_Fundamentals_in_AI_and_DL/Data/Data_2023-11-12_09-33-22_merge.txt\u001b[0m\n",
      "\u001b[32m2023-11-24 18:36:59.796\u001b[0m | \u001b[1mINFO    \u001b[0m | \u001b[36mdataset\u001b[0m:\u001b[36m__init__\u001b[0m:\u001b[36m127\u001b[0m - \u001b[1mFound action file: /home/ji/Dropbox/Robotics/ENPM809K_Fundamentals_in_AI_and_DL/Data/Data_2023-11-13_09-22-16_merge.txt\u001b[0m\n",
      "\u001b[32m2023-11-24 18:36:59.797\u001b[0m | \u001b[1mINFO    \u001b[0m | \u001b[36mdataset\u001b[0m:\u001b[36m__init__\u001b[0m:\u001b[36m127\u001b[0m - \u001b[1mFound action file: /home/ji/Dropbox/Robotics/ENPM809K_Fundamentals_in_AI_and_DL/Data/Data_2023-10-22_11-33-39_merge.txt\u001b[0m\n",
      "\u001b[32m2023-11-24 18:36:59.797\u001b[0m | \u001b[1mINFO    \u001b[0m | \u001b[36mdataset\u001b[0m:\u001b[36m__init__\u001b[0m:\u001b[36m127\u001b[0m - \u001b[1mFound action file: /home/ji/Dropbox/Robotics/ENPM809K_Fundamentals_in_AI_and_DL/Data/Data_2023-11-09_10-13-05_merge.txt\u001b[0m\n",
      "\u001b[32m2023-11-24 18:36:59.797\u001b[0m | \u001b[1mINFO    \u001b[0m | \u001b[36mdataset\u001b[0m:\u001b[36m__init__\u001b[0m:\u001b[36m127\u001b[0m - \u001b[1mFound action file: /home/ji/Dropbox/Robotics/ENPM809K_Fundamentals_in_AI_and_DL/Data/Data_2023-10-22_11-32-39_merge.txt\u001b[0m\n",
      "\u001b[32m2023-11-24 18:36:59.797\u001b[0m | \u001b[1mINFO    \u001b[0m | \u001b[36mdataset\u001b[0m:\u001b[36m__init__\u001b[0m:\u001b[36m127\u001b[0m - \u001b[1mFound action file: /home/ji/Dropbox/Robotics/ENPM809K_Fundamentals_in_AI_and_DL/Data/Data_2023-10-22_11-35-39_merge.txt\u001b[0m\n",
      "\u001b[32m2023-11-24 18:36:59.798\u001b[0m | \u001b[1mINFO    \u001b[0m | \u001b[36mdataset\u001b[0m:\u001b[36m__init__\u001b[0m:\u001b[36m127\u001b[0m - \u001b[1mFound action file: /home/ji/Dropbox/Robotics/ENPM809K_Fundamentals_in_AI_and_DL/Data/Data_2023-10-25_09-38-21_merge.txt\u001b[0m\n",
      "\u001b[32m2023-11-24 18:36:59.798\u001b[0m | \u001b[1mINFO    \u001b[0m | \u001b[36mdataset\u001b[0m:\u001b[36m__init__\u001b[0m:\u001b[36m127\u001b[0m - \u001b[1mFound action file: /home/ji/Dropbox/Robotics/ENPM809K_Fundamentals_in_AI_and_DL/Data/Data_2023-10-24_10-33-15_merge.txt\u001b[0m\n",
      "\u001b[32m2023-11-24 18:36:59.798\u001b[0m | \u001b[1mINFO    \u001b[0m | \u001b[36mdataset\u001b[0m:\u001b[36m__init__\u001b[0m:\u001b[36m127\u001b[0m - \u001b[1mFound action file: /home/ji/Dropbox/Robotics/ENPM809K_Fundamentals_in_AI_and_DL/Data/Data_2023-10-27_09-35-03_merge.txt\u001b[0m\n",
      "\u001b[32m2023-11-24 18:36:59.799\u001b[0m | \u001b[1mINFO    \u001b[0m | \u001b[36mdataset\u001b[0m:\u001b[36m__init__\u001b[0m:\u001b[36m127\u001b[0m - \u001b[1mFound action file: /home/ji/Dropbox/Robotics/ENPM809K_Fundamentals_in_AI_and_DL/Data/Data_2023-10-25_09-43-21_merge.txt\u001b[0m\n",
      "\u001b[32m2023-11-24 18:36:59.799\u001b[0m | \u001b[1mINFO    \u001b[0m | \u001b[36mdataset\u001b[0m:\u001b[36m__init__\u001b[0m:\u001b[36m127\u001b[0m - \u001b[1mFound action file: /home/ji/Dropbox/Robotics/ENPM809K_Fundamentals_in_AI_and_DL/Data/Data_2023-11-12_09-43-23_merge.txt\u001b[0m\n",
      "\u001b[32m2023-11-24 18:36:59.799\u001b[0m | \u001b[1mINFO    \u001b[0m | \u001b[36mdataset\u001b[0m:\u001b[36m__init__\u001b[0m:\u001b[36m127\u001b[0m - \u001b[1mFound action file: /home/ji/Dropbox/Robotics/ENPM809K_Fundamentals_in_AI_and_DL/Data/Data_2023-10-23_09-30-36_merge.txt\u001b[0m\n",
      "\u001b[32m2023-11-24 18:36:59.800\u001b[0m | \u001b[1mINFO    \u001b[0m | \u001b[36mdataset\u001b[0m:\u001b[36m__init__\u001b[0m:\u001b[36m127\u001b[0m - \u001b[1mFound action file: /home/ji/Dropbox/Robotics/ENPM809K_Fundamentals_in_AI_and_DL/Data/Data_2023-10-24_10-28-15_merge.txt\u001b[0m\n",
      "\u001b[32m2023-11-24 18:36:59.800\u001b[0m | \u001b[1mINFO    \u001b[0m | \u001b[36mdataset\u001b[0m:\u001b[36m__init__\u001b[0m:\u001b[36m127\u001b[0m - \u001b[1mFound action file: /home/ji/Dropbox/Robotics/ENPM809K_Fundamentals_in_AI_and_DL/Data/Data_2023-11-13_09-27-16_merge.txt\u001b[0m\n",
      "\u001b[32m2023-11-24 18:36:59.800\u001b[0m | \u001b[1mINFO    \u001b[0m | \u001b[36mdataset\u001b[0m:\u001b[36m__init__\u001b[0m:\u001b[36m127\u001b[0m - \u001b[1mFound action file: /home/ji/Dropbox/Robotics/ENPM809K_Fundamentals_in_AI_and_DL/Data/Data_2023-11-12_09-48-23_merge.txt\u001b[0m\n",
      "\u001b[32m2023-11-24 18:36:59.801\u001b[0m | \u001b[1mINFO    \u001b[0m | \u001b[36mdataset\u001b[0m:\u001b[36m__init__\u001b[0m:\u001b[36m127\u001b[0m - \u001b[1mFound action file: /home/ji/Dropbox/Robotics/ENPM809K_Fundamentals_in_AI_and_DL/Data/Data_2023-10-23_09-25-36_merge.txt\u001b[0m\n",
      "\u001b[32m2023-11-24 18:36:59.801\u001b[0m | \u001b[1mINFO    \u001b[0m | \u001b[36mdataset\u001b[0m:\u001b[36m__init__\u001b[0m:\u001b[36m127\u001b[0m - \u001b[1mFound action file: /home/ji/Dropbox/Robotics/ENPM809K_Fundamentals_in_AI_and_DL/Data/Data_2023-11-13_09-37-16_merge.txt\u001b[0m\n",
      "2023-11-24 18:36:59.842519: I external/local_xla/xla/stream_executor/cuda/cuda_executor.cc:901] successful NUMA node read from SysFS had negative value (-1), but there must be at least one NUMA node, so returning NUMA node zero. See more at https://github.com/torvalds/linux/blob/v6.0/Documentation/ABI/testing/sysfs-bus-pci#L344-L355\n",
      "2023-11-24 18:36:59.842798: W tensorflow/core/common_runtime/gpu/gpu_device.cc:2256] Cannot dlopen some GPU libraries. Please make sure the missing libraries mentioned above are installed properly if you would like to use GPU. Follow the guide at https://www.tensorflow.org/install/gpu for how to download and setup the required libraries for your platform.\n",
      "Skipping registering GPU devices...\n",
      "\u001b[32m2023-11-24 18:36:59.951\u001b[0m | \u001b[1mINFO    \u001b[0m | \u001b[36mdataset\u001b[0m:\u001b[36mcheck_vid_action_length\u001b[0m:\u001b[36m139\u001b[0m - \u001b[1m✅ All files match in length.\u001b[0m\n",
      "\u001b[32m2023-11-24 18:37:00.013\u001b[0m | \u001b[1mINFO    \u001b[0m | \u001b[36mdataset\u001b[0m:\u001b[36m__init__\u001b[0m:\u001b[36m127\u001b[0m - \u001b[1mFound action file: /home/ji/Dropbox/Robotics/ENPM809K_Fundamentals_in_AI_and_DL/Data/Data_2023-10-24_10-18-15_merge.txt\u001b[0m\n",
      "\u001b[32m2023-11-24 18:37:00.013\u001b[0m | \u001b[1mINFO    \u001b[0m | \u001b[36mdataset\u001b[0m:\u001b[36m__init__\u001b[0m:\u001b[36m127\u001b[0m - \u001b[1mFound action file: /home/ji/Dropbox/Robotics/ENPM809K_Fundamentals_in_AI_and_DL/Data/Data_2023-11-12_09-28-21_merge.txt\u001b[0m\n",
      "\u001b[32m2023-11-24 18:37:00.014\u001b[0m | \u001b[1mINFO    \u001b[0m | \u001b[36mdataset\u001b[0m:\u001b[36m__init__\u001b[0m:\u001b[36m127\u001b[0m - \u001b[1mFound action file: /home/ji/Dropbox/Robotics/ENPM809K_Fundamentals_in_AI_and_DL/Data/Data_2023-10-24_10-13-14_merge.txt\u001b[0m\n",
      "\u001b[32m2023-11-24 18:37:00.014\u001b[0m | \u001b[1mINFO    \u001b[0m | \u001b[36mdataset\u001b[0m:\u001b[36m__init__\u001b[0m:\u001b[36m127\u001b[0m - \u001b[1mFound action file: /home/ji/Dropbox/Robotics/ENPM809K_Fundamentals_in_AI_and_DL/Data/Data_2023-10-25_09-33-20_merge.txt\u001b[0m\n",
      "\u001b[32m2023-11-24 18:37:00.014\u001b[0m | \u001b[1mINFO    \u001b[0m | \u001b[36mdataset\u001b[0m:\u001b[36m__init__\u001b[0m:\u001b[36m127\u001b[0m - \u001b[1mFound action file: /home/ji/Dropbox/Robotics/ENPM809K_Fundamentals_in_AI_and_DL/Data/Data_2023-11-09_10-18-05_merge.txt\u001b[0m\n",
      "\u001b[32m2023-11-24 18:37:00.033\u001b[0m | \u001b[1mINFO    \u001b[0m | \u001b[36mdataset\u001b[0m:\u001b[36mcheck_vid_action_length\u001b[0m:\u001b[36m139\u001b[0m - \u001b[1m✅ All files match in length.\u001b[0m\n",
      "\u001b[32m2023-11-24 18:37:00.079\u001b[0m | \u001b[1mINFO    \u001b[0m | \u001b[36mdataset\u001b[0m:\u001b[36m__init__\u001b[0m:\u001b[36m127\u001b[0m - \u001b[1mFound action file: /home/ji/Dropbox/Robotics/ENPM809K_Fundamentals_in_AI_and_DL/Data/Data_2023-10-27_09-55-04_merge.txt\u001b[0m\n",
      "\u001b[32m2023-11-24 18:37:00.080\u001b[0m | \u001b[1mINFO    \u001b[0m | \u001b[36mdataset\u001b[0m:\u001b[36m__init__\u001b[0m:\u001b[36m127\u001b[0m - \u001b[1mFound action file: /home/ji/Dropbox/Robotics/ENPM809K_Fundamentals_in_AI_and_DL/Data/Data_2023-10-26_10-35-08_merge.txt\u001b[0m\n",
      "\u001b[32m2023-11-24 18:37:00.080\u001b[0m | \u001b[1mINFO    \u001b[0m | \u001b[36mdataset\u001b[0m:\u001b[36m__init__\u001b[0m:\u001b[36m127\u001b[0m - \u001b[1mFound action file: /home/ji/Dropbox/Robotics/ENPM809K_Fundamentals_in_AI_and_DL/Data/Data_2023-10-26_10-25-07_merge.txt\u001b[0m\n",
      "\u001b[32m2023-11-24 18:37:00.080\u001b[0m | \u001b[1mINFO    \u001b[0m | \u001b[36mdataset\u001b[0m:\u001b[36m__init__\u001b[0m:\u001b[36m127\u001b[0m - \u001b[1mFound action file: /home/ji/Dropbox/Robotics/ENPM809K_Fundamentals_in_AI_and_DL/Data/Data_2023-10-24_10-23-15_merge.txt\u001b[0m\n",
      "\u001b[32m2023-11-24 18:37:00.081\u001b[0m | \u001b[1mINFO    \u001b[0m | \u001b[36mdataset\u001b[0m:\u001b[36m__init__\u001b[0m:\u001b[36m127\u001b[0m - \u001b[1mFound action file: /home/ji/Dropbox/Robotics/ENPM809K_Fundamentals_in_AI_and_DL/Data/Data_2023-10-27_09-45-04_merge.txt\u001b[0m\n",
      "\u001b[32m2023-11-24 18:37:00.081\u001b[0m | \u001b[1mINFO    \u001b[0m | \u001b[36mdataset\u001b[0m:\u001b[36m__init__\u001b[0m:\u001b[36m127\u001b[0m - \u001b[1mFound action file: /home/ji/Dropbox/Robotics/ENPM809K_Fundamentals_in_AI_and_DL/Data/Data_2023-11-06_09-42-29_merge.txt\u001b[0m\n",
      "\u001b[32m2023-11-24 18:37:00.097\u001b[0m | \u001b[1mINFO    \u001b[0m | \u001b[36mdataset\u001b[0m:\u001b[36mcheck_vid_action_length\u001b[0m:\u001b[36m139\u001b[0m - \u001b[1m✅ All files match in length.\u001b[0m\n",
      "\u001b[32m2023-11-24 18:37:00.104\u001b[0m | \u001b[1mINFO    \u001b[0m | \u001b[36mdataset\u001b[0m:\u001b[36m__init__\u001b[0m:\u001b[36m127\u001b[0m - \u001b[1mFound action file: /home/ji/Dropbox/Robotics/ENPM809K_Fundamentals_in_AI_and_DL/Data_Test/Data_2023-10-27_09-55-04_merge.txt\u001b[0m\n",
      "\u001b[32m2023-11-24 18:37:00.107\u001b[0m | \u001b[1mINFO    \u001b[0m | \u001b[36mdataset\u001b[0m:\u001b[36mcheck_vid_action_length\u001b[0m:\u001b[36m139\u001b[0m - \u001b[1m✅ All files match in length.\u001b[0m\n"
     ]
    }
   ],
   "source": [
    "# set up tf database\n",
    "config = {}\n",
    "config[\"fold_n_frames\"] = 4 # fold n frames to predict the n+1 frame\n",
    "\n",
    "# train/val/test data loader\n",
    "train_loader = FrameDataGenerator(file_list=data_manager.get_training_files(),\n",
    "                                    config=config)\n",
    "val_loader = FrameDataGenerator(file_list=data_manager.get_validation_files(),\n",
    "                                    config=config)\n",
    "test_loader = FrameDataGenerator(file_list=data_manager.get_test_files(),\n",
    "                                    config=config)\n",
    "train_loader_small = FrameDataGenerator(file_list=data_manager_small.get_training_files(),\n",
    "                                    config=config)\n",
    "\n",
    "# create tensorflow database from the generator\n",
    "n_col = 7 # the txt files have 7 columns\n",
    "output_signature = ((tf.TensorSpec(shape = (None, None, 3*config[\"fold_n_frames\"]),\n",
    "                                    dtype = train_loader.frame_dtype),\n",
    "                     tf.TensorSpec(shape = (n_col*config[\"fold_n_frames\"],),\n",
    "                                    dtype = train_loader.action_dtype)),\n",
    "                    tf.TensorSpec(shape = (None, None, 3),\n",
    "                                    dtype = train_loader.frame_dtype),\n",
    "                    )\n",
    "    \n",
    "# create train/val/test tf dataset\n",
    "train_ds = tf.data.Dataset.from_generator(train_loader,\n",
    "                                          output_signature = output_signature)\n",
    "val_ds = tf.data.Dataset.from_generator(val_loader,\n",
    "                                          output_signature = output_signature)\n",
    "test_ds = tf.data.Dataset.from_generator(test_loader,\n",
    "                                          output_signature = output_signature)\n",
    "\n",
    "\n",
    "# set up batch size\n",
    "train_ds = train_ds.batch(8)\n",
    "train_ds = train_ds.prefetch(buffer_size = 20)\n",
    "\n",
    "\n",
    "# for validation and test evaluation, we are gonna sample\n",
    "# mini batches and calculate the loss, and repeat several\n",
    "# times and compute the mean loss, as opposed to compute \n",
    "# the loss on the whole validation/test set, so we can use\n",
    "# the same data generation pipeline built for the training\n",
    "# set\n",
    "val_ds = val_ds.batch(8)\n",
    "val_ds = val_ds.prefetch(buffer_size = 20)\n",
    "test_ds = test_ds.batch(8)\n",
    "test_ds = test_ds.prefetch(buffer_size = 20)\n"
   ]
  },
  {
   "cell_type": "code",
   "execution_count": 17,
   "metadata": {},
   "outputs": [],
   "source": [
    "train_ds_small = tf.data.Dataset.from_generator(train_loader_small,\n",
    "                                          output_signature = output_signature)\n",
    "train_ds_small = train_ds_small.batch(8)\n",
    "train_ds_small = train_ds_small.prefetch(1)"
   ]
  },
  {
   "cell_type": "code",
   "execution_count": 5,
   "metadata": {},
   "outputs": [
    {
     "name": "stdout",
     "output_type": "stream",
     "text": [
      "9.0\n",
      "192.0\n"
     ]
    }
   ],
   "source": [
    "import numpy as np\n",
    "\n",
    "# image in\n",
    "def outdim(d,f,p,s):\n",
    "    return np.floor(d+2*p-f)/s+1\n",
    "\n",
    "# image out size\n",
    "def outdim_conv2d_tr(d,f,p,s, output_padding):\n",
    "    return ((d-1)*s+f-2*p+output_padding)\n",
    "\n",
    "d1 = outdim(192,8,0,2)\n",
    "d2 = outdim(d1,6,0,2)\n",
    "d3 = outdim(d2,6,0,2)\n",
    "d4 = outdim(d3,4,0,2)\n",
    "print(d4)\n",
    "\n",
    "d4_ = outdim_conv2d_tr(d4,4,0,2,0)\n",
    "d3_ = outdim_conv2d_tr(d4_,6,0,2,0)\n",
    "d2_ = outdim_conv2d_tr(d3_,6,0,2,1)\n",
    "d1_ = outdim_conv2d_tr(d2_,8,0,2,0)\n",
    "print(d1_)"
   ]
  },
  {
   "cell_type": "code",
   "execution_count": 6,
   "metadata": {},
   "outputs": [],
   "source": [
    "from model import EncoderNet, DecoderNet, InteractionModule, FramePredictionModel\n",
    "\n",
    "# some hyper parameters for the network\n",
    "encoder_output_dim = 1024\n",
    "\n",
    "\n",
    "img_dim = (192,256,3*config[\"fold_n_frames\"])\n",
    "\n",
    "encoder = EncoderNet(layer_specs = [\n",
    "                        {\"type\":\"conv2d\",\"kwargs\":{\"filters\": 64,  \"kernel_size\": 8, \"strides\":2,\"activation\":\"relu\",\"input_shape\":img_dim}},\n",
    "                        {\"type\":\"conv2d\",\"kwargs\":{\"filters\": 128, \"kernel_size\": 6, \"strides\":2,\"activation\":\"relu\"}},\n",
    "                        {\"type\":\"conv2d\",\"kwargs\":{\"filters\": 128, \"kernel_size\": 6, \"strides\":2,\"activation\":\"relu\"}},\n",
    "                        {\"type\":\"conv2d\",\"kwargs\":{\"filters\": 128, \"kernel_size\": 4, \"strides\":2,\"activation\":\"relu\"}},\n",
    "                        {\"type\":\"flatten\"},\n",
    "                        {\"type\":\"dense\",\"kwargs\":{\"units\":encoder_output_dim,\"activation\":\"relu\"}}\n",
    "                        ]\n",
    "                    )\n",
    "\n",
    "# get the output size of the last conv layer\n",
    "conv_out_size = encoder._layers.layers[3].output_shape[1:]\n",
    "\n",
    "# create the interaction module\n",
    "interaction_dim, interaction_output_dim = 2048, 2048\n",
    "interaction = InteractionModule(encoder_dim=encoder_output_dim,\n",
    "                                action_dim=7,\n",
    "                                intermediate_dim=interaction_dim,\n",
    "                                output_dim=interaction_output_dim)\n",
    "\n",
    "# fc_dim is the dimension of the first fc layer in decoder\n",
    "nchan = 64\n",
    "fc_dim = np.prod(conv_out_size[:2])*nchan\n",
    "\n",
    "decoder = DecoderNet(layer_specs = [\n",
    "                        {\"type\":\"dense\",\"kwargs\":{\"units\":fc_dim,\"activation\":\"relu\",\"input_shape\":(interaction_output_dim,)}},\n",
    "                        {\"type\":\"reshape\",\"kwargs\":{\"target_shape\":(conv_out_size[0],conv_out_size[1],nchan)}},\n",
    "                        {\"type\":\"conv2dtr\",\"kwargs\":{\"filters\": 128, \"kernel_size\": 4, \"strides\":2,\"activation\":\"relu\"}},\n",
    "                        {\"type\":\"conv2dtr\",\"kwargs\":{\"filters\": 128, \"kernel_size\": 6, \"strides\":2,\"activation\":\"relu\"}},\n",
    "                        {\"type\":\"conv2dtr\",\"kwargs\":{\"filters\": 128, \"kernel_size\": 6, \"strides\":2,\"activation\":\"relu\", \"output_padding\":1}},\n",
    "                        {\"type\":\"conv2dtr\",\"kwargs\":{\"filters\":   3, \"kernel_size\": 8, \"strides\":2,\"activation\":None}},\n",
    "                        ]\n",
    "                    )\n",
    "\n",
    "# make sure decoder output matches the input image's size\n",
    "assert(decoder.output_shape[:2]==img_dim[:2])\n",
    "assert(decoder.output_shape[-1]==3)\n"
   ]
  },
  {
   "cell_type": "code",
   "execution_count": null,
   "metadata": {},
   "outputs": [],
   "source": [
    "out = next(iter(train_ds))\n"
   ]
  },
  {
   "cell_type": "code",
   "execution_count": 16,
   "metadata": {},
   "outputs": [
    {
     "name": "stderr",
     "output_type": "stream",
     "text": [
      "2023-11-24 18:42:21.238363: W tensorflow/core/kernels/data/prefetch_autotuner.cc:52] Prefetch autotuner tried to allocate 471877120 bytes after encountering the first element of size 23593856 bytes.This already causes the autotune ram budget to be exceeded. To stay within the ram budget, either increase the ram budget or reduce element size\n"
     ]
    }
   ],
   "source": [
    "# create the full model\n",
    "fpm = FramePredictionModel(encoder=encoder,\n",
    "                           decoder=decoder,\n",
    "                           interaction=interaction)\n",
    "\n",
    "# test with some sample data\n",
    "(frame_input_sample,actions_sample), frame_output_sample = next(iter(train_ds))\n",
    "out_test = fpm((frame_input_sample, actions_sample))\n",
    "assert(out_test.shape==frame_output_sample.shape)\n",
    "\n",
    "# compile model\n",
    "optimizer = tf.optimizers.Adam(learning_rate=1e-3,clipvalue=0.5)\n",
    "fpm.compile(optimizer=optimizer,\n",
    "            loss=tf.keras.losses.MeanSquaredError())"
   ]
  },
  {
   "cell_type": "code",
   "execution_count": 21,
   "metadata": {},
   "outputs": [
    {
     "name": "stderr",
     "output_type": "stream",
     "text": [
      "2023-11-24 18:46:46.549308: W tensorflow/core/kernels/data/prefetch_autotuner.cc:52] Prefetch autotuner tried to allocate 471877120 bytes after encountering the first element of size 23593856 bytes.This already causes the autotune ram budget to be exceeded. To stay within the ram budget, either increase the ram budget or reduce element size\n"
     ]
    },
    {
     "name": "stdout",
     "output_type": "stream",
     "text": [
      "0.09928176403045655\n"
     ]
    }
   ],
   "source": [
    "# try fitting on a small dataset, e.g., a single 5 min video\n",
    "i = 0\n",
    "import time\n",
    "t0 = time.time()\n",
    "niter = 10\n",
    "for data in train_ds:\n",
    "    # fpm.train_step(data)\n",
    "    i+=1\n",
    "    if i >= niter:\n",
    "        break\n",
    "print((time.time()-t0)/niter)"
   ]
  },
  {
   "cell_type": "code",
   "execution_count": 23,
   "metadata": {},
   "outputs": [
    {
     "data": {
      "text/plain": [
       "TensorShape([8, 192, 256, 12])"
      ]
     },
     "execution_count": 23,
     "metadata": {},
     "output_type": "execute_result"
    }
   ],
   "source": [
    "data[0][0].shape"
   ]
  },
  {
   "cell_type": "code",
   "execution_count": 22,
   "metadata": {},
   "outputs": [
    {
     "name": "stdout",
     "output_type": "stream",
     "text": [
      "==\n",
      "[0.623529434 0.623529434 0.623529434 0.627451 0.630223691]\n",
      "0.8458065986633301\n"
     ]
    }
   ],
   "source": [
    "t0 = time.time()\n",
    "fpm.train_step(data)\n",
    "print(time.time()-t0)"
   ]
  },
  {
   "cell_type": "code",
   "execution_count": null,
   "metadata": {},
   "outputs": [],
   "source": [
    "from PIL import Image\n",
    "data =frame_output_sample.numpy()[0,:,:,:].squeeze()\n",
    "data = (data*255).astype(np.uint8)\n",
    "im = Image.fromarray(data)\n",
    "im.show()"
   ]
  },
  {
   "cell_type": "code",
   "execution_count": null,
   "metadata": {},
   "outputs": [],
   "source": [
    "\n",
    "\n"
   ]
  },
  {
   "cell_type": "code",
   "execution_count": null,
   "metadata": {},
   "outputs": [],
   "source": [
    "frame_out = data[1]\n",
    "tf.reshape(frame_out,(frame_out.shape[0],-1))"
   ]
  },
  {
   "cell_type": "code",
   "execution_count": null,
   "metadata": {},
   "outputs": [],
   "source": [
    "y_true = np.array([[1], [4], [3]], dtype=np.float32)\n",
    "y_pred = np.array([[2], [4], [4]], dtype=np.float32)\n",
    "metric = tf.keras.metrics.R2Score()\n",
    "metric.update_state(y_true, y_pred)\n",
    "result = metric.result()\n",
    "result.numpy()\n"
   ]
  },
  {
   "cell_type": "code",
   "execution_count": null,
   "metadata": {},
   "outputs": [],
   "source": [
    "i=0\n",
    "for data in train_ds_small:\n",
    "    i+=1\n",
    "print(i)"
   ]
  },
  {
   "cell_type": "code",
   "execution_count": null,
   "metadata": {},
   "outputs": [],
   "source": [
    "data[1]"
   ]
  },
  {
   "cell_type": "code",
   "execution_count": 18,
   "metadata": {},
   "outputs": [
    {
     "name": "stdout",
     "output_type": "stream",
     "text": [
      "==\n",
      "Exhausted\n"
     ]
    },
    {
     "ename": "ValueError",
     "evalue": "Unexpected result of `train_function` (Empty logs). This could be due to issues in input pipeline that resulted in an empty dataset. Otherwise, please use `Model.compile(..., run_eagerly=True)`, or `tf.config.run_functions_eagerly(True)` for more information of where went wrong, or file a issue/bug to `tf.keras`.",
     "output_type": "error",
     "traceback": [
      "\u001b[0;31m---------------------------------------------------------------------------\u001b[0m",
      "\u001b[0;31mValueError\u001b[0m                                Traceback (most recent call last)",
      "\u001b[1;32m/home/ji/Dropbox/Robotics/ENPM809K_Fundamentals_in_AI_and_DL/FinalProject/frame_prediction/script/train.ipynb Cell 17\u001b[0m line \u001b[0;36m1\n\u001b[0;32m----> <a href='vscode-notebook-cell:/home/ji/Dropbox/Robotics/ENPM809K_Fundamentals_in_AI_and_DL/FinalProject/frame_prediction/script/train.ipynb#X22sZmlsZQ%3D%3D?line=0'>1</a>\u001b[0m fpm\u001b[39m.\u001b[39;49mfit(train_ds_small,batch_size\u001b[39m=\u001b[39;49m\u001b[39m8\u001b[39;49m, epochs\u001b[39m=\u001b[39;49m\u001b[39m1\u001b[39;49m, verbose\u001b[39m=\u001b[39;49m\u001b[39m1\u001b[39;49m)\n",
      "File \u001b[0;32m~/anaconda3/envs/tf/lib/python3.11/site-packages/keras/src/utils/traceback_utils.py:70\u001b[0m, in \u001b[0;36mfilter_traceback.<locals>.error_handler\u001b[0;34m(*args, **kwargs)\u001b[0m\n\u001b[1;32m     67\u001b[0m     filtered_tb \u001b[39m=\u001b[39m _process_traceback_frames(e\u001b[39m.\u001b[39m__traceback__)\n\u001b[1;32m     68\u001b[0m     \u001b[39m# To get the full stack trace, call:\u001b[39;00m\n\u001b[1;32m     69\u001b[0m     \u001b[39m# `tf.debugging.disable_traceback_filtering()`\u001b[39;00m\n\u001b[0;32m---> 70\u001b[0m     \u001b[39mraise\u001b[39;00m e\u001b[39m.\u001b[39mwith_traceback(filtered_tb) \u001b[39mfrom\u001b[39;00m \u001b[39mNone\u001b[39;00m\n\u001b[1;32m     71\u001b[0m \u001b[39mfinally\u001b[39;00m:\n\u001b[1;32m     72\u001b[0m     \u001b[39mdel\u001b[39;00m filtered_tb\n",
      "File \u001b[0;32m~/anaconda3/envs/tf/lib/python3.11/site-packages/keras/src/engine/training.py:1819\u001b[0m, in \u001b[0;36mModel.fit\u001b[0;34m(self, x, y, batch_size, epochs, verbose, callbacks, validation_split, validation_data, shuffle, class_weight, sample_weight, initial_epoch, steps_per_epoch, validation_steps, validation_batch_size, validation_freq, max_queue_size, workers, use_multiprocessing)\u001b[0m\n\u001b[1;32m   1817\u001b[0m logs \u001b[39m=\u001b[39m tf_utils\u001b[39m.\u001b[39msync_to_numpy_or_python_type(logs)\n\u001b[1;32m   1818\u001b[0m \u001b[39mif\u001b[39;00m logs \u001b[39mis\u001b[39;00m \u001b[39mNone\u001b[39;00m:\n\u001b[0;32m-> 1819\u001b[0m     \u001b[39mraise\u001b[39;00m \u001b[39mValueError\u001b[39;00m(\n\u001b[1;32m   1820\u001b[0m         \u001b[39m\"\u001b[39m\u001b[39mUnexpected result of `train_function` \u001b[39m\u001b[39m\"\u001b[39m\n\u001b[1;32m   1821\u001b[0m         \u001b[39m\"\u001b[39m\u001b[39m(Empty logs). This could be due to issues in input \u001b[39m\u001b[39m\"\u001b[39m\n\u001b[1;32m   1822\u001b[0m         \u001b[39m\"\u001b[39m\u001b[39mpipeline that resulted in an empty dataset. \u001b[39m\u001b[39m\"\u001b[39m\n\u001b[1;32m   1823\u001b[0m         \u001b[39m\"\u001b[39m\u001b[39mOtherwise, please use \u001b[39m\u001b[39m\"\u001b[39m\n\u001b[1;32m   1824\u001b[0m         \u001b[39m\"\u001b[39m\u001b[39m`Model.compile(..., run_eagerly=True)`, or \u001b[39m\u001b[39m\"\u001b[39m\n\u001b[1;32m   1825\u001b[0m         \u001b[39m\"\u001b[39m\u001b[39m`tf.config.run_functions_eagerly(True)` for more \u001b[39m\u001b[39m\"\u001b[39m\n\u001b[1;32m   1826\u001b[0m         \u001b[39m\"\u001b[39m\u001b[39minformation of where went wrong, or file a \u001b[39m\u001b[39m\"\u001b[39m\n\u001b[1;32m   1827\u001b[0m         \u001b[39m\"\u001b[39m\u001b[39missue/bug to `tf.keras`.\u001b[39m\u001b[39m\"\u001b[39m\n\u001b[1;32m   1828\u001b[0m     )\n\u001b[1;32m   1829\u001b[0m \u001b[39m# Override with model metrics instead of last step logs\u001b[39;00m\n\u001b[1;32m   1830\u001b[0m logs \u001b[39m=\u001b[39m \u001b[39mself\u001b[39m\u001b[39m.\u001b[39m_validate_and_get_metrics_result(logs)\n",
      "\u001b[0;31mValueError\u001b[0m: Unexpected result of `train_function` (Empty logs). This could be due to issues in input pipeline that resulted in an empty dataset. Otherwise, please use `Model.compile(..., run_eagerly=True)`, or `tf.config.run_functions_eagerly(True)` for more information of where went wrong, or file a issue/bug to `tf.keras`."
     ]
    }
   ],
   "source": [
    "fpm.fit(train_ds_small,batch_size=8, epochs=1, verbose=1)"
   ]
  }
 ],
 "metadata": {
  "kernelspec": {
   "display_name": "tensorflow",
   "language": "python",
   "name": "python3"
  },
  "language_info": {
   "codemirror_mode": {
    "name": "ipython",
    "version": 3
   },
   "file_extension": ".py",
   "mimetype": "text/x-python",
   "name": "python",
   "nbconvert_exporter": "python",
   "pygments_lexer": "ipython3",
   "version": "3.11.5"
  }
 },
 "nbformat": 4,
 "nbformat_minor": 2
}
