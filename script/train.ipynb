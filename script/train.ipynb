{
 "cells": [
  {
   "cell_type": "code",
   "execution_count": 1,
   "metadata": {},
   "outputs": [],
   "source": [
    "# set up autoreload\n",
    "%load_ext autoreload\n",
    "%autoreload 2"
   ]
  },
  {
   "cell_type": "code",
   "execution_count": 2,
   "metadata": {},
   "outputs": [
    {
     "name": "stderr",
     "output_type": "stream",
     "text": [
      "2023-11-24 09:33:43.297107: I tensorflow/core/platform/cpu_feature_guard.cc:182] This TensorFlow binary is optimized to use available CPU instructions in performance-critical operations.\n",
      "To enable the following instructions: AVX2 FMA, in other operations, rebuild TensorFlow with the appropriate compiler flags.\n",
      "2023-11-24 09:33:44.843296: W tensorflow/compiler/tf2tensorrt/utils/py_utils.cc:38] TF-TRT Warning: Could not find TensorRT\n",
      "\u001b[32m2023-11-24 09:33:45.984\u001b[0m | \u001b[1mINFO    \u001b[0m | \u001b[36mdataset\u001b[0m:\u001b[36m__init__\u001b[0m:\u001b[36m28\u001b[0m - \u001b[1mFound video file: /home/ji/Dropbox/Robotics/ENPM809K_Fundamentals_in_AI_and_DL/Data/Data_2023-11-06_09-22-28.avi\u001b[0m\n",
      "\u001b[32m2023-11-24 09:33:45.985\u001b[0m | \u001b[1mINFO    \u001b[0m | \u001b[36mdataset\u001b[0m:\u001b[36m__init__\u001b[0m:\u001b[36m28\u001b[0m - \u001b[1mFound video file: /home/ji/Dropbox/Robotics/ENPM809K_Fundamentals_in_AI_and_DL/Data/Data_2023-11-12_09-53-23.avi\u001b[0m\n",
      "\u001b[32m2023-11-24 09:33:45.985\u001b[0m | \u001b[1mINFO    \u001b[0m | \u001b[36mdataset\u001b[0m:\u001b[36m__init__\u001b[0m:\u001b[36m28\u001b[0m - \u001b[1mFound video file: /home/ji/Dropbox/Robotics/ENPM809K_Fundamentals_in_AI_and_DL/Data/Data_2023-11-06_09-42-29.avi\u001b[0m\n",
      "\u001b[32m2023-11-24 09:33:45.986\u001b[0m | \u001b[1mINFO    \u001b[0m | \u001b[36mdataset\u001b[0m:\u001b[36m__init__\u001b[0m:\u001b[36m28\u001b[0m - \u001b[1mFound video file: /home/ji/Dropbox/Robotics/ENPM809K_Fundamentals_in_AI_and_DL/Data/Data_2023-10-27_09-55-04.avi\u001b[0m\n",
      "\u001b[32m2023-11-24 09:33:45.987\u001b[0m | \u001b[1mINFO    \u001b[0m | \u001b[36mdataset\u001b[0m:\u001b[36m__init__\u001b[0m:\u001b[36m28\u001b[0m - \u001b[1mFound video file: /home/ji/Dropbox/Robotics/ENPM809K_Fundamentals_in_AI_and_DL/Data/Data_2023-10-23_09-25-36.avi\u001b[0m\n",
      "\u001b[32m2023-11-24 09:33:45.988\u001b[0m | \u001b[1mINFO    \u001b[0m | \u001b[36mdataset\u001b[0m:\u001b[36m__init__\u001b[0m:\u001b[36m28\u001b[0m - \u001b[1mFound video file: /home/ji/Dropbox/Robotics/ENPM809K_Fundamentals_in_AI_and_DL/Data/Data_2023-11-09_10-13-05.avi\u001b[0m\n",
      "\u001b[32m2023-11-24 09:33:45.989\u001b[0m | \u001b[1mINFO    \u001b[0m | \u001b[36mdataset\u001b[0m:\u001b[36m__init__\u001b[0m:\u001b[36m28\u001b[0m - \u001b[1mFound video file: /home/ji/Dropbox/Robotics/ENPM809K_Fundamentals_in_AI_and_DL/Data/Data_2023-11-09_10-18-05.avi\u001b[0m\n",
      "\u001b[32m2023-11-24 09:33:45.990\u001b[0m | \u001b[1mINFO    \u001b[0m | \u001b[36mdataset\u001b[0m:\u001b[36m__init__\u001b[0m:\u001b[36m28\u001b[0m - \u001b[1mFound video file: /home/ji/Dropbox/Robotics/ENPM809K_Fundamentals_in_AI_and_DL/Data/Data_2023-11-12_09-48-23.avi\u001b[0m\n",
      "\u001b[32m2023-11-24 09:33:45.990\u001b[0m | \u001b[1mINFO    \u001b[0m | \u001b[36mdataset\u001b[0m:\u001b[36m__init__\u001b[0m:\u001b[36m28\u001b[0m - \u001b[1mFound video file: /home/ji/Dropbox/Robotics/ENPM809K_Fundamentals_in_AI_and_DL/Data/Data_2023-10-27_09-35-03.avi\u001b[0m\n",
      "\u001b[32m2023-11-24 09:33:45.991\u001b[0m | \u001b[1mINFO    \u001b[0m | \u001b[36mdataset\u001b[0m:\u001b[36m__init__\u001b[0m:\u001b[36m28\u001b[0m - \u001b[1mFound video file: /home/ji/Dropbox/Robotics/ENPM809K_Fundamentals_in_AI_and_DL/Data/Data_2023-10-27_09-50-04.avi\u001b[0m\n",
      "\u001b[32m2023-11-24 09:33:45.992\u001b[0m | \u001b[1mINFO    \u001b[0m | \u001b[36mdataset\u001b[0m:\u001b[36m__init__\u001b[0m:\u001b[36m28\u001b[0m - \u001b[1mFound video file: /home/ji/Dropbox/Robotics/ENPM809K_Fundamentals_in_AI_and_DL/Data/Data_2023-11-13_09-37-16.avi\u001b[0m\n",
      "\u001b[32m2023-11-24 09:33:45.994\u001b[0m | \u001b[1mINFO    \u001b[0m | \u001b[36mdataset\u001b[0m:\u001b[36m__init__\u001b[0m:\u001b[36m28\u001b[0m - \u001b[1mFound video file: /home/ji/Dropbox/Robotics/ENPM809K_Fundamentals_in_AI_and_DL/Data/Data_2023-10-26_10-20-07.avi\u001b[0m\n",
      "\u001b[32m2023-11-24 09:33:45.995\u001b[0m | \u001b[1mINFO    \u001b[0m | \u001b[36mdataset\u001b[0m:\u001b[36m__init__\u001b[0m:\u001b[36m28\u001b[0m - \u001b[1mFound video file: /home/ji/Dropbox/Robotics/ENPM809K_Fundamentals_in_AI_and_DL/Data/Data_2023-11-12_09-43-23.avi\u001b[0m\n",
      "\u001b[32m2023-11-24 09:33:45.996\u001b[0m | \u001b[1mINFO    \u001b[0m | \u001b[36mdataset\u001b[0m:\u001b[36m__init__\u001b[0m:\u001b[36m28\u001b[0m - \u001b[1mFound video file: /home/ji/Dropbox/Robotics/ENPM809K_Fundamentals_in_AI_and_DL/Data/Data_2023-10-26_10-15-07.avi\u001b[0m\n",
      "\u001b[32m2023-11-24 09:33:45.997\u001b[0m | \u001b[1mINFO    \u001b[0m | \u001b[36mdataset\u001b[0m:\u001b[36m__init__\u001b[0m:\u001b[36m28\u001b[0m - \u001b[1mFound video file: /home/ji/Dropbox/Robotics/ENPM809K_Fundamentals_in_AI_and_DL/Data/Data_2023-11-12_09-28-21.avi\u001b[0m\n",
      "\u001b[32m2023-11-24 09:33:45.998\u001b[0m | \u001b[1mINFO    \u001b[0m | \u001b[36mdataset\u001b[0m:\u001b[36m__init__\u001b[0m:\u001b[36m28\u001b[0m - \u001b[1mFound video file: /home/ji/Dropbox/Robotics/ENPM809K_Fundamentals_in_AI_and_DL/Data/Data_2023-10-24_10-18-15.avi\u001b[0m\n",
      "\u001b[32m2023-11-24 09:33:46.001\u001b[0m | \u001b[1mINFO    \u001b[0m | \u001b[36mdataset\u001b[0m:\u001b[36m__init__\u001b[0m:\u001b[36m28\u001b[0m - \u001b[1mFound video file: /home/ji/Dropbox/Robotics/ENPM809K_Fundamentals_in_AI_and_DL/Data/Data_2023-11-06_09-27-29.avi\u001b[0m\n",
      "\u001b[32m2023-11-24 09:33:46.002\u001b[0m | \u001b[1mINFO    \u001b[0m | \u001b[36mdataset\u001b[0m:\u001b[36m__init__\u001b[0m:\u001b[36m28\u001b[0m - \u001b[1mFound video file: /home/ji/Dropbox/Robotics/ENPM809K_Fundamentals_in_AI_and_DL/Data/Data_2023-10-25_09-58-22.avi\u001b[0m\n",
      "\u001b[32m2023-11-24 09:33:46.003\u001b[0m | \u001b[1mINFO    \u001b[0m | \u001b[36mdataset\u001b[0m:\u001b[36m__init__\u001b[0m:\u001b[36m28\u001b[0m - \u001b[1mFound video file: /home/ji/Dropbox/Robotics/ENPM809K_Fundamentals_in_AI_and_DL/Data/Data_2023-10-26_10-35-08.avi\u001b[0m\n",
      "\u001b[32m2023-11-24 09:33:46.004\u001b[0m | \u001b[1mINFO    \u001b[0m | \u001b[36mdataset\u001b[0m:\u001b[36m__init__\u001b[0m:\u001b[36m28\u001b[0m - \u001b[1mFound video file: /home/ji/Dropbox/Robotics/ENPM809K_Fundamentals_in_AI_and_DL/Data/Data_2023-10-25_09-38-21.avi\u001b[0m\n",
      "\u001b[32m2023-11-24 09:33:46.005\u001b[0m | \u001b[1mINFO    \u001b[0m | \u001b[36mdataset\u001b[0m:\u001b[36m__init__\u001b[0m:\u001b[36m28\u001b[0m - \u001b[1mFound video file: /home/ji/Dropbox/Robotics/ENPM809K_Fundamentals_in_AI_and_DL/Data/Data_2023-10-27_10-00-04.avi\u001b[0m\n",
      "\u001b[32m2023-11-24 09:33:46.005\u001b[0m | \u001b[1mINFO    \u001b[0m | \u001b[36mdataset\u001b[0m:\u001b[36m__init__\u001b[0m:\u001b[36m28\u001b[0m - \u001b[1mFound video file: /home/ji/Dropbox/Robotics/ENPM809K_Fundamentals_in_AI_and_DL/Data/Data_2023-11-12_09-38-23.avi\u001b[0m\n",
      "\u001b[32m2023-11-24 09:33:46.006\u001b[0m | \u001b[1mINFO    \u001b[0m | \u001b[36mdataset\u001b[0m:\u001b[36m__init__\u001b[0m:\u001b[36m28\u001b[0m - \u001b[1mFound video file: /home/ji/Dropbox/Robotics/ENPM809K_Fundamentals_in_AI_and_DL/Data/Data_2023-10-23_09-20-36.avi\u001b[0m\n",
      "\u001b[32m2023-11-24 09:33:46.007\u001b[0m | \u001b[1mINFO    \u001b[0m | \u001b[36mdataset\u001b[0m:\u001b[36m__init__\u001b[0m:\u001b[36m28\u001b[0m - \u001b[1mFound video file: /home/ji/Dropbox/Robotics/ENPM809K_Fundamentals_in_AI_and_DL/Data/Data_2023-10-24_10-28-15.avi\u001b[0m\n",
      "\u001b[32m2023-11-24 09:33:46.008\u001b[0m | \u001b[1mINFO    \u001b[0m | \u001b[36mdataset\u001b[0m:\u001b[36m__init__\u001b[0m:\u001b[36m28\u001b[0m - \u001b[1mFound video file: /home/ji/Dropbox/Robotics/ENPM809K_Fundamentals_in_AI_and_DL/Data/Data_2023-10-27_09-40-03.avi\u001b[0m\n",
      "\u001b[32m2023-11-24 09:33:46.009\u001b[0m | \u001b[1mINFO    \u001b[0m | \u001b[36mdataset\u001b[0m:\u001b[36m__init__\u001b[0m:\u001b[36m28\u001b[0m - \u001b[1mFound video file: /home/ji/Dropbox/Robotics/ENPM809K_Fundamentals_in_AI_and_DL/Data/Data_2023-11-13_09-27-16.avi\u001b[0m\n",
      "\u001b[32m2023-11-24 09:33:46.009\u001b[0m | \u001b[1mINFO    \u001b[0m | \u001b[36mdataset\u001b[0m:\u001b[36m__init__\u001b[0m:\u001b[36m28\u001b[0m - \u001b[1mFound video file: /home/ji/Dropbox/Robotics/ENPM809K_Fundamentals_in_AI_and_DL/Data/Data_2023-10-25_09-48-21.avi\u001b[0m\n",
      "\u001b[32m2023-11-24 09:33:46.010\u001b[0m | \u001b[1mINFO    \u001b[0m | \u001b[36mdataset\u001b[0m:\u001b[36m__init__\u001b[0m:\u001b[36m28\u001b[0m - \u001b[1mFound video file: /home/ji/Dropbox/Robotics/ENPM809K_Fundamentals_in_AI_and_DL/Data/Data_2023-10-24_10-23-15.avi\u001b[0m\n",
      "\u001b[32m2023-11-24 09:33:46.012\u001b[0m | \u001b[1mINFO    \u001b[0m | \u001b[36mdataset\u001b[0m:\u001b[36m__init__\u001b[0m:\u001b[36m28\u001b[0m - \u001b[1mFound video file: /home/ji/Dropbox/Robotics/ENPM809K_Fundamentals_in_AI_and_DL/Data/Data_2023-11-13_09-22-16.avi\u001b[0m\n",
      "\u001b[32m2023-11-24 09:33:46.013\u001b[0m | \u001b[1mINFO    \u001b[0m | \u001b[36mdataset\u001b[0m:\u001b[36m__init__\u001b[0m:\u001b[36m28\u001b[0m - \u001b[1mFound video file: /home/ji/Dropbox/Robotics/ENPM809K_Fundamentals_in_AI_and_DL/Data/Data_2023-10-25_09-43-21.avi\u001b[0m\n",
      "\u001b[32m2023-11-24 09:33:46.014\u001b[0m | \u001b[1mINFO    \u001b[0m | \u001b[36mdataset\u001b[0m:\u001b[36m__init__\u001b[0m:\u001b[36m28\u001b[0m - \u001b[1mFound video file: /home/ji/Dropbox/Robotics/ENPM809K_Fundamentals_in_AI_and_DL/Data/Data_2023-10-26_10-30-08.avi\u001b[0m\n",
      "\u001b[32m2023-11-24 09:33:46.016\u001b[0m | \u001b[1mINFO    \u001b[0m | \u001b[36mdataset\u001b[0m:\u001b[36m__init__\u001b[0m:\u001b[36m28\u001b[0m - \u001b[1mFound video file: /home/ji/Dropbox/Robotics/ENPM809K_Fundamentals_in_AI_and_DL/Data/Data_2023-10-25_09-33-20.avi\u001b[0m\n",
      "\u001b[32m2023-11-24 09:33:46.017\u001b[0m | \u001b[1mINFO    \u001b[0m | \u001b[36mdataset\u001b[0m:\u001b[36m__init__\u001b[0m:\u001b[36m28\u001b[0m - \u001b[1mFound video file: /home/ji/Dropbox/Robotics/ENPM809K_Fundamentals_in_AI_and_DL/Data/Data_2023-11-06_09-47-30.avi\u001b[0m\n",
      "\u001b[32m2023-11-24 09:33:46.019\u001b[0m | \u001b[1mINFO    \u001b[0m | \u001b[36mdataset\u001b[0m:\u001b[36m__init__\u001b[0m:\u001b[36m28\u001b[0m - \u001b[1mFound video file: /home/ji/Dropbox/Robotics/ENPM809K_Fundamentals_in_AI_and_DL/Data/Data_2023-10-25_09-53-21.avi\u001b[0m\n",
      "\u001b[32m2023-11-24 09:33:46.020\u001b[0m | \u001b[1mINFO    \u001b[0m | \u001b[36mdataset\u001b[0m:\u001b[36m__init__\u001b[0m:\u001b[36m28\u001b[0m - \u001b[1mFound video file: /home/ji/Dropbox/Robotics/ENPM809K_Fundamentals_in_AI_and_DL/Data/Data_2023-11-13_09-47-17.avi\u001b[0m\n",
      "\u001b[32m2023-11-24 09:33:46.021\u001b[0m | \u001b[1mINFO    \u001b[0m | \u001b[36mdataset\u001b[0m:\u001b[36m__init__\u001b[0m:\u001b[36m28\u001b[0m - \u001b[1mFound video file: /home/ji/Dropbox/Robotics/ENPM809K_Fundamentals_in_AI_and_DL/Data/Data_2023-10-23_09-40-37.avi\u001b[0m\n",
      "\u001b[32m2023-11-24 09:33:46.022\u001b[0m | \u001b[1mINFO    \u001b[0m | \u001b[36mdataset\u001b[0m:\u001b[36m__init__\u001b[0m:\u001b[36m28\u001b[0m - \u001b[1mFound video file: /home/ji/Dropbox/Robotics/ENPM809K_Fundamentals_in_AI_and_DL/Data/Data_2023-10-24_10-13-14.avi\u001b[0m\n",
      "\u001b[32m2023-11-24 09:33:46.023\u001b[0m | \u001b[1mINFO    \u001b[0m | \u001b[36mdataset\u001b[0m:\u001b[36m__init__\u001b[0m:\u001b[36m28\u001b[0m - \u001b[1mFound video file: /home/ji/Dropbox/Robotics/ENPM809K_Fundamentals_in_AI_and_DL/Data/Data_2023-11-13_09-42-17.avi\u001b[0m\n",
      "\u001b[32m2023-11-24 09:33:46.023\u001b[0m | \u001b[1mINFO    \u001b[0m | \u001b[36mdataset\u001b[0m:\u001b[36m__init__\u001b[0m:\u001b[36m28\u001b[0m - \u001b[1mFound video file: /home/ji/Dropbox/Robotics/ENPM809K_Fundamentals_in_AI_and_DL/Data/Data_2023-10-23_09-30-36.avi\u001b[0m\n",
      "\u001b[32m2023-11-24 09:33:46.024\u001b[0m | \u001b[1mINFO    \u001b[0m | \u001b[36mdataset\u001b[0m:\u001b[36m__init__\u001b[0m:\u001b[36m28\u001b[0m - \u001b[1mFound video file: /home/ji/Dropbox/Robotics/ENPM809K_Fundamentals_in_AI_and_DL/Data/Data_2023-10-24_10-33-15.avi\u001b[0m\n",
      "\u001b[32m2023-11-24 09:33:46.025\u001b[0m | \u001b[1mINFO    \u001b[0m | \u001b[36mdataset\u001b[0m:\u001b[36m__init__\u001b[0m:\u001b[36m28\u001b[0m - \u001b[1mFound video file: /home/ji/Dropbox/Robotics/ENPM809K_Fundamentals_in_AI_and_DL/Data/Data_2023-11-06_09-32-29.avi\u001b[0m\n",
      "\u001b[32m2023-11-24 09:33:46.026\u001b[0m | \u001b[1mINFO    \u001b[0m | \u001b[36mdataset\u001b[0m:\u001b[36m__init__\u001b[0m:\u001b[36m28\u001b[0m - \u001b[1mFound video file: /home/ji/Dropbox/Robotics/ENPM809K_Fundamentals_in_AI_and_DL/Data/Data_2023-11-12_09-33-22.avi\u001b[0m\n",
      "\u001b[32m2023-11-24 09:33:46.028\u001b[0m | \u001b[1mINFO    \u001b[0m | \u001b[36mdataset\u001b[0m:\u001b[36m__init__\u001b[0m:\u001b[36m28\u001b[0m - \u001b[1mFound video file: /home/ji/Dropbox/Robotics/ENPM809K_Fundamentals_in_AI_and_DL/Data/Data_2023-11-09_10-08-05.avi\u001b[0m\n",
      "\u001b[32m2023-11-24 09:33:46.029\u001b[0m | \u001b[1mINFO    \u001b[0m | \u001b[36mdataset\u001b[0m:\u001b[36m__init__\u001b[0m:\u001b[36m28\u001b[0m - \u001b[1mFound video file: /home/ji/Dropbox/Robotics/ENPM809K_Fundamentals_in_AI_and_DL/Data/Data_2023-10-23_09-35-36.avi\u001b[0m\n",
      "\u001b[32m2023-11-24 09:33:46.031\u001b[0m | \u001b[1mINFO    \u001b[0m | \u001b[36mdataset\u001b[0m:\u001b[36m__init__\u001b[0m:\u001b[36m28\u001b[0m - \u001b[1mFound video file: /home/ji/Dropbox/Robotics/ENPM809K_Fundamentals_in_AI_and_DL/Data/Data_2023-11-13_09-32-16.avi\u001b[0m\n",
      "\u001b[32m2023-11-24 09:33:46.032\u001b[0m | \u001b[1mINFO    \u001b[0m | \u001b[36mdataset\u001b[0m:\u001b[36m__init__\u001b[0m:\u001b[36m28\u001b[0m - \u001b[1mFound video file: /home/ji/Dropbox/Robotics/ENPM809K_Fundamentals_in_AI_and_DL/Data/Data_2023-10-22_11-33-39.avi\u001b[0m\n",
      "\u001b[32m2023-11-24 09:33:46.033\u001b[0m | \u001b[1mINFO    \u001b[0m | \u001b[36mdataset\u001b[0m:\u001b[36m__init__\u001b[0m:\u001b[36m28\u001b[0m - \u001b[1mFound video file: /home/ji/Dropbox/Robotics/ENPM809K_Fundamentals_in_AI_and_DL/Data/Data_2023-10-22_11-35-39.avi\u001b[0m\n",
      "\u001b[32m2023-11-24 09:33:46.038\u001b[0m | \u001b[1mINFO    \u001b[0m | \u001b[36mdataset\u001b[0m:\u001b[36m__init__\u001b[0m:\u001b[36m28\u001b[0m - \u001b[1mFound video file: /home/ji/Dropbox/Robotics/ENPM809K_Fundamentals_in_AI_and_DL/Data/Data_2023-10-26_10-40-08.avi\u001b[0m\n",
      "\u001b[32m2023-11-24 09:33:46.039\u001b[0m | \u001b[1mINFO    \u001b[0m | \u001b[36mdataset\u001b[0m:\u001b[36m__init__\u001b[0m:\u001b[36m28\u001b[0m - \u001b[1mFound video file: /home/ji/Dropbox/Robotics/ENPM809K_Fundamentals_in_AI_and_DL/Data/Data_2023-10-22_11-34-39.avi\u001b[0m\n",
      "\u001b[32m2023-11-24 09:33:46.040\u001b[0m | \u001b[1mINFO    \u001b[0m | \u001b[36mdataset\u001b[0m:\u001b[36m__init__\u001b[0m:\u001b[36m28\u001b[0m - \u001b[1mFound video file: /home/ji/Dropbox/Robotics/ENPM809K_Fundamentals_in_AI_and_DL/Data/Data_2023-11-06_09-37-29.avi\u001b[0m\n",
      "\u001b[32m2023-11-24 09:33:46.042\u001b[0m | \u001b[1mINFO    \u001b[0m | \u001b[36mdataset\u001b[0m:\u001b[36m__init__\u001b[0m:\u001b[36m28\u001b[0m - \u001b[1mFound video file: /home/ji/Dropbox/Robotics/ENPM809K_Fundamentals_in_AI_and_DL/Data/Data_2023-10-22_11-32-39.avi\u001b[0m\n",
      "\u001b[32m2023-11-24 09:33:46.042\u001b[0m | \u001b[1mINFO    \u001b[0m | \u001b[36mdataset\u001b[0m:\u001b[36m__init__\u001b[0m:\u001b[36m28\u001b[0m - \u001b[1mFound video file: /home/ji/Dropbox/Robotics/ENPM809K_Fundamentals_in_AI_and_DL/Data/Data_2023-10-27_09-45-04.avi\u001b[0m\n",
      "\u001b[32m2023-11-24 09:33:46.044\u001b[0m | \u001b[1mINFO    \u001b[0m | \u001b[36mdataset\u001b[0m:\u001b[36m__init__\u001b[0m:\u001b[36m28\u001b[0m - \u001b[1mFound video file: /home/ji/Dropbox/Robotics/ENPM809K_Fundamentals_in_AI_and_DL/Data/Data_2023-10-23_09-15-35.avi\u001b[0m\n",
      "\u001b[32m2023-11-24 09:33:46.045\u001b[0m | \u001b[1mINFO    \u001b[0m | \u001b[36mdataset\u001b[0m:\u001b[36m__init__\u001b[0m:\u001b[36m28\u001b[0m - \u001b[1mFound video file: /home/ji/Dropbox/Robotics/ENPM809K_Fundamentals_in_AI_and_DL/Data/Data_2023-10-26_10-25-07.avi\u001b[0m\n",
      "\u001b[32m2023-11-24 09:33:46.046\u001b[0m | \u001b[1mINFO    \u001b[0m | \u001b[36mdataset\u001b[0m:\u001b[36m__init__\u001b[0m:\u001b[36m47\u001b[0m - \u001b[1mTraining: 43 files\u001b[0m\n",
      "\u001b[32m2023-11-24 09:33:46.049\u001b[0m | \u001b[1mINFO    \u001b[0m | \u001b[36mdataset\u001b[0m:\u001b[36m__init__\u001b[0m:\u001b[36m48\u001b[0m - \u001b[1mValidation: 5 files\u001b[0m\n",
      "\u001b[32m2023-11-24 09:33:46.051\u001b[0m | \u001b[1mINFO    \u001b[0m | \u001b[36mdataset\u001b[0m:\u001b[36m__init__\u001b[0m:\u001b[36m49\u001b[0m - \u001b[1mTest: 6 files\u001b[0m\n"
     ]
    }
   ],
   "source": [
    "import tensorflow as tf\n",
    "import numpy as np\n",
    "from dataset import DataManager, FrameDataGenerator\n",
    "\n",
    "# set up data generator\n",
    "data_manager = DataManager(\n",
    "        data_path=r\"/home/ji/Dropbox/Robotics/ENPM809K_Fundamentals_in_AI_and_DL/Data\",\n",
    "        train_val_test_split=(0.80,0.1,0.1))"
   ]
  },
  {
   "cell_type": "code",
   "execution_count": 15,
   "metadata": {},
   "outputs": [
    {
     "name": "stderr",
     "output_type": "stream",
     "text": [
      "\u001b[32m2023-11-24 09:46:03.444\u001b[0m | \u001b[1mINFO    \u001b[0m | \u001b[36mdataset\u001b[0m:\u001b[36m__init__\u001b[0m:\u001b[36m122\u001b[0m - \u001b[1mFound action file: /home/ji/Dropbox/Robotics/ENPM809K_Fundamentals_in_AI_and_DL/Data/Data_2023-10-27_10-00-04_merge.txt\u001b[0m\n",
      "\u001b[32m2023-11-24 09:46:03.444\u001b[0m | \u001b[1mINFO    \u001b[0m | \u001b[36mdataset\u001b[0m:\u001b[36m__init__\u001b[0m:\u001b[36m122\u001b[0m - \u001b[1mFound action file: /home/ji/Dropbox/Robotics/ENPM809K_Fundamentals_in_AI_and_DL/Data/Data_2023-11-06_09-32-29_merge.txt\u001b[0m\n",
      "\u001b[32m2023-11-24 09:46:03.445\u001b[0m | \u001b[1mINFO    \u001b[0m | \u001b[36mdataset\u001b[0m:\u001b[36m__init__\u001b[0m:\u001b[36m122\u001b[0m - \u001b[1mFound action file: /home/ji/Dropbox/Robotics/ENPM809K_Fundamentals_in_AI_and_DL/Data/Data_2023-10-26_10-15-07_merge.txt\u001b[0m\n",
      "\u001b[32m2023-11-24 09:46:03.446\u001b[0m | \u001b[1mINFO    \u001b[0m | \u001b[36mdataset\u001b[0m:\u001b[36m__init__\u001b[0m:\u001b[36m122\u001b[0m - \u001b[1mFound action file: /home/ji/Dropbox/Robotics/ENPM809K_Fundamentals_in_AI_and_DL/Data/Data_2023-10-25_09-33-20_merge.txt\u001b[0m\n",
      "\u001b[32m2023-11-24 09:46:03.446\u001b[0m | \u001b[1mINFO    \u001b[0m | \u001b[36mdataset\u001b[0m:\u001b[36m__init__\u001b[0m:\u001b[36m122\u001b[0m - \u001b[1mFound action file: /home/ji/Dropbox/Robotics/ENPM809K_Fundamentals_in_AI_and_DL/Data/Data_2023-10-25_09-53-21_merge.txt\u001b[0m\n",
      "\u001b[32m2023-11-24 09:46:03.448\u001b[0m | \u001b[1mINFO    \u001b[0m | \u001b[36mdataset\u001b[0m:\u001b[36m__init__\u001b[0m:\u001b[36m122\u001b[0m - \u001b[1mFound action file: /home/ji/Dropbox/Robotics/ENPM809K_Fundamentals_in_AI_and_DL/Data/Data_2023-10-22_11-32-39_merge.txt\u001b[0m\n",
      "\u001b[32m2023-11-24 09:46:03.450\u001b[0m | \u001b[1mINFO    \u001b[0m | \u001b[36mdataset\u001b[0m:\u001b[36m__init__\u001b[0m:\u001b[36m122\u001b[0m - \u001b[1mFound action file: /home/ji/Dropbox/Robotics/ENPM809K_Fundamentals_in_AI_and_DL/Data/Data_2023-11-09_10-08-05_merge.txt\u001b[0m\n",
      "\u001b[32m2023-11-24 09:46:03.452\u001b[0m | \u001b[1mINFO    \u001b[0m | \u001b[36mdataset\u001b[0m:\u001b[36m__init__\u001b[0m:\u001b[36m122\u001b[0m - \u001b[1mFound action file: /home/ji/Dropbox/Robotics/ENPM809K_Fundamentals_in_AI_and_DL/Data/Data_2023-10-24_10-13-14_merge.txt\u001b[0m\n",
      "\u001b[32m2023-11-24 09:46:03.453\u001b[0m | \u001b[1mINFO    \u001b[0m | \u001b[36mdataset\u001b[0m:\u001b[36m__init__\u001b[0m:\u001b[36m122\u001b[0m - \u001b[1mFound action file: /home/ji/Dropbox/Robotics/ENPM809K_Fundamentals_in_AI_and_DL/Data/Data_2023-10-22_11-34-39_merge.txt\u001b[0m\n",
      "\u001b[32m2023-11-24 09:46:03.454\u001b[0m | \u001b[1mINFO    \u001b[0m | \u001b[36mdataset\u001b[0m:\u001b[36m__init__\u001b[0m:\u001b[36m122\u001b[0m - \u001b[1mFound action file: /home/ji/Dropbox/Robotics/ENPM809K_Fundamentals_in_AI_and_DL/Data/Data_2023-10-25_09-58-22_merge.txt\u001b[0m\n",
      "\u001b[32m2023-11-24 09:46:03.455\u001b[0m | \u001b[1mINFO    \u001b[0m | \u001b[36mdataset\u001b[0m:\u001b[36m__init__\u001b[0m:\u001b[36m122\u001b[0m - \u001b[1mFound action file: /home/ji/Dropbox/Robotics/ENPM809K_Fundamentals_in_AI_and_DL/Data/Data_2023-10-27_09-35-03_merge.txt\u001b[0m\n",
      "\u001b[32m2023-11-24 09:46:03.456\u001b[0m | \u001b[1mINFO    \u001b[0m | \u001b[36mdataset\u001b[0m:\u001b[36m__init__\u001b[0m:\u001b[36m122\u001b[0m - \u001b[1mFound action file: /home/ji/Dropbox/Robotics/ENPM809K_Fundamentals_in_AI_and_DL/Data/Data_2023-10-23_09-15-35_merge.txt\u001b[0m\n",
      "\u001b[32m2023-11-24 09:46:03.459\u001b[0m | \u001b[1mINFO    \u001b[0m | \u001b[36mdataset\u001b[0m:\u001b[36m__init__\u001b[0m:\u001b[36m122\u001b[0m - \u001b[1mFound action file: /home/ji/Dropbox/Robotics/ENPM809K_Fundamentals_in_AI_and_DL/Data/Data_2023-11-13_09-42-17_merge.txt\u001b[0m\n",
      "\u001b[32m2023-11-24 09:46:03.460\u001b[0m | \u001b[1mINFO    \u001b[0m | \u001b[36mdataset\u001b[0m:\u001b[36m__init__\u001b[0m:\u001b[36m122\u001b[0m - \u001b[1mFound action file: /home/ji/Dropbox/Robotics/ENPM809K_Fundamentals_in_AI_and_DL/Data/Data_2023-11-12_09-33-22_merge.txt\u001b[0m\n",
      "\u001b[32m2023-11-24 09:46:03.461\u001b[0m | \u001b[1mINFO    \u001b[0m | \u001b[36mdataset\u001b[0m:\u001b[36m__init__\u001b[0m:\u001b[36m122\u001b[0m - \u001b[1mFound action file: /home/ji/Dropbox/Robotics/ENPM809K_Fundamentals_in_AI_and_DL/Data/Data_2023-10-24_10-33-15_merge.txt\u001b[0m\n",
      "\u001b[32m2023-11-24 09:46:03.462\u001b[0m | \u001b[1mINFO    \u001b[0m | \u001b[36mdataset\u001b[0m:\u001b[36m__init__\u001b[0m:\u001b[36m122\u001b[0m - \u001b[1mFound action file: /home/ji/Dropbox/Robotics/ENPM809K_Fundamentals_in_AI_and_DL/Data/Data_2023-10-26_10-35-08_merge.txt\u001b[0m\n",
      "\u001b[32m2023-11-24 09:46:03.463\u001b[0m | \u001b[1mINFO    \u001b[0m | \u001b[36mdataset\u001b[0m:\u001b[36m__init__\u001b[0m:\u001b[36m122\u001b[0m - \u001b[1mFound action file: /home/ji/Dropbox/Robotics/ENPM809K_Fundamentals_in_AI_and_DL/Data/Data_2023-11-12_09-43-23_merge.txt\u001b[0m\n",
      "\u001b[32m2023-11-24 09:46:03.464\u001b[0m | \u001b[1mINFO    \u001b[0m | \u001b[36mdataset\u001b[0m:\u001b[36m__init__\u001b[0m:\u001b[36m122\u001b[0m - \u001b[1mFound action file: /home/ji/Dropbox/Robotics/ENPM809K_Fundamentals_in_AI_and_DL/Data/Data_2023-11-13_09-27-16_merge.txt\u001b[0m\n",
      "\u001b[32m2023-11-24 09:46:03.465\u001b[0m | \u001b[1mINFO    \u001b[0m | \u001b[36mdataset\u001b[0m:\u001b[36m__init__\u001b[0m:\u001b[36m122\u001b[0m - \u001b[1mFound action file: /home/ji/Dropbox/Robotics/ENPM809K_Fundamentals_in_AI_and_DL/Data/Data_2023-10-26_10-40-08_merge.txt\u001b[0m\n",
      "\u001b[32m2023-11-24 09:46:03.466\u001b[0m | \u001b[1mINFO    \u001b[0m | \u001b[36mdataset\u001b[0m:\u001b[36m__init__\u001b[0m:\u001b[36m122\u001b[0m - \u001b[1mFound action file: /home/ji/Dropbox/Robotics/ENPM809K_Fundamentals_in_AI_and_DL/Data/Data_2023-11-13_09-32-16_merge.txt\u001b[0m\n",
      "\u001b[32m2023-11-24 09:46:03.468\u001b[0m | \u001b[1mINFO    \u001b[0m | \u001b[36mdataset\u001b[0m:\u001b[36m__init__\u001b[0m:\u001b[36m122\u001b[0m - \u001b[1mFound action file: /home/ji/Dropbox/Robotics/ENPM809K_Fundamentals_in_AI_and_DL/Data/Data_2023-10-26_10-30-08_merge.txt\u001b[0m\n",
      "\u001b[32m2023-11-24 09:46:03.469\u001b[0m | \u001b[1mINFO    \u001b[0m | \u001b[36mdataset\u001b[0m:\u001b[36m__init__\u001b[0m:\u001b[36m122\u001b[0m - \u001b[1mFound action file: /home/ji/Dropbox/Robotics/ENPM809K_Fundamentals_in_AI_and_DL/Data/Data_2023-10-26_10-25-07_merge.txt\u001b[0m\n",
      "\u001b[32m2023-11-24 09:46:03.469\u001b[0m | \u001b[1mINFO    \u001b[0m | \u001b[36mdataset\u001b[0m:\u001b[36m__init__\u001b[0m:\u001b[36m122\u001b[0m - \u001b[1mFound action file: /home/ji/Dropbox/Robotics/ENPM809K_Fundamentals_in_AI_and_DL/Data/Data_2023-10-27_09-45-04_merge.txt\u001b[0m\n",
      "\u001b[32m2023-11-24 09:46:03.470\u001b[0m | \u001b[1mINFO    \u001b[0m | \u001b[36mdataset\u001b[0m:\u001b[36m__init__\u001b[0m:\u001b[36m122\u001b[0m - \u001b[1mFound action file: /home/ji/Dropbox/Robotics/ENPM809K_Fundamentals_in_AI_and_DL/Data/Data_2023-11-12_09-48-23_merge.txt\u001b[0m\n",
      "\u001b[32m2023-11-24 09:46:03.471\u001b[0m | \u001b[1mINFO    \u001b[0m | \u001b[36mdataset\u001b[0m:\u001b[36m__init__\u001b[0m:\u001b[36m122\u001b[0m - \u001b[1mFound action file: /home/ji/Dropbox/Robotics/ENPM809K_Fundamentals_in_AI_and_DL/Data/Data_2023-11-06_09-42-29_merge.txt\u001b[0m\n",
      "\u001b[32m2023-11-24 09:46:03.472\u001b[0m | \u001b[1mINFO    \u001b[0m | \u001b[36mdataset\u001b[0m:\u001b[36m__init__\u001b[0m:\u001b[36m122\u001b[0m - \u001b[1mFound action file: /home/ji/Dropbox/Robotics/ENPM809K_Fundamentals_in_AI_and_DL/Data/Data_2023-10-23_09-30-36_merge.txt\u001b[0m\n",
      "\u001b[32m2023-11-24 09:46:03.473\u001b[0m | \u001b[1mINFO    \u001b[0m | \u001b[36mdataset\u001b[0m:\u001b[36m__init__\u001b[0m:\u001b[36m122\u001b[0m - \u001b[1mFound action file: /home/ji/Dropbox/Robotics/ENPM809K_Fundamentals_in_AI_and_DL/Data/Data_2023-10-27_09-40-03_merge.txt\u001b[0m\n",
      "\u001b[32m2023-11-24 09:46:03.474\u001b[0m | \u001b[1mINFO    \u001b[0m | \u001b[36mdataset\u001b[0m:\u001b[36m__init__\u001b[0m:\u001b[36m122\u001b[0m - \u001b[1mFound action file: /home/ji/Dropbox/Robotics/ENPM809K_Fundamentals_in_AI_and_DL/Data/Data_2023-11-12_09-53-23_merge.txt\u001b[0m\n",
      "\u001b[32m2023-11-24 09:46:03.475\u001b[0m | \u001b[1mINFO    \u001b[0m | \u001b[36mdataset\u001b[0m:\u001b[36m__init__\u001b[0m:\u001b[36m122\u001b[0m - \u001b[1mFound action file: /home/ji/Dropbox/Robotics/ENPM809K_Fundamentals_in_AI_and_DL/Data/Data_2023-11-09_10-18-05_merge.txt\u001b[0m\n",
      "\u001b[32m2023-11-24 09:46:03.476\u001b[0m | \u001b[1mINFO    \u001b[0m | \u001b[36mdataset\u001b[0m:\u001b[36m__init__\u001b[0m:\u001b[36m122\u001b[0m - \u001b[1mFound action file: /home/ji/Dropbox/Robotics/ENPM809K_Fundamentals_in_AI_and_DL/Data/Data_2023-10-23_09-35-36_merge.txt\u001b[0m\n",
      "\u001b[32m2023-11-24 09:46:03.477\u001b[0m | \u001b[1mINFO    \u001b[0m | \u001b[36mdataset\u001b[0m:\u001b[36m__init__\u001b[0m:\u001b[36m122\u001b[0m - \u001b[1mFound action file: /home/ji/Dropbox/Robotics/ENPM809K_Fundamentals_in_AI_and_DL/Data/Data_2023-10-25_09-48-21_merge.txt\u001b[0m\n",
      "\u001b[32m2023-11-24 09:46:03.478\u001b[0m | \u001b[1mINFO    \u001b[0m | \u001b[36mdataset\u001b[0m:\u001b[36m__init__\u001b[0m:\u001b[36m122\u001b[0m - \u001b[1mFound action file: /home/ji/Dropbox/Robotics/ENPM809K_Fundamentals_in_AI_and_DL/Data/Data_2023-10-23_09-25-36_merge.txt\u001b[0m\n",
      "\u001b[32m2023-11-24 09:46:03.479\u001b[0m | \u001b[1mINFO    \u001b[0m | \u001b[36mdataset\u001b[0m:\u001b[36m__init__\u001b[0m:\u001b[36m122\u001b[0m - \u001b[1mFound action file: /home/ji/Dropbox/Robotics/ENPM809K_Fundamentals_in_AI_and_DL/Data/Data_2023-10-24_10-28-15_merge.txt\u001b[0m\n",
      "\u001b[32m2023-11-24 09:46:03.480\u001b[0m | \u001b[1mINFO    \u001b[0m | \u001b[36mdataset\u001b[0m:\u001b[36m__init__\u001b[0m:\u001b[36m122\u001b[0m - \u001b[1mFound action file: /home/ji/Dropbox/Robotics/ENPM809K_Fundamentals_in_AI_and_DL/Data/Data_2023-11-06_09-47-30_merge.txt\u001b[0m\n",
      "\u001b[32m2023-11-24 09:46:03.481\u001b[0m | \u001b[1mINFO    \u001b[0m | \u001b[36mdataset\u001b[0m:\u001b[36m__init__\u001b[0m:\u001b[36m122\u001b[0m - \u001b[1mFound action file: /home/ji/Dropbox/Robotics/ENPM809K_Fundamentals_in_AI_and_DL/Data/Data_2023-11-09_10-13-05_merge.txt\u001b[0m\n",
      "\u001b[32m2023-11-24 09:46:03.485\u001b[0m | \u001b[1mINFO    \u001b[0m | \u001b[36mdataset\u001b[0m:\u001b[36m__init__\u001b[0m:\u001b[36m122\u001b[0m - \u001b[1mFound action file: /home/ji/Dropbox/Robotics/ENPM809K_Fundamentals_in_AI_and_DL/Data/Data_2023-10-22_11-35-39_merge.txt\u001b[0m\n",
      "\u001b[32m2023-11-24 09:46:03.486\u001b[0m | \u001b[1mINFO    \u001b[0m | \u001b[36mdataset\u001b[0m:\u001b[36m__init__\u001b[0m:\u001b[36m122\u001b[0m - \u001b[1mFound action file: /home/ji/Dropbox/Robotics/ENPM809K_Fundamentals_in_AI_and_DL/Data/Data_2023-11-12_09-28-21_merge.txt\u001b[0m\n",
      "\u001b[32m2023-11-24 09:46:03.488\u001b[0m | \u001b[1mINFO    \u001b[0m | \u001b[36mdataset\u001b[0m:\u001b[36m__init__\u001b[0m:\u001b[36m122\u001b[0m - \u001b[1mFound action file: /home/ji/Dropbox/Robotics/ENPM809K_Fundamentals_in_AI_and_DL/Data/Data_2023-11-06_09-27-29_merge.txt\u001b[0m\n",
      "\u001b[32m2023-11-24 09:46:03.490\u001b[0m | \u001b[1mINFO    \u001b[0m | \u001b[36mdataset\u001b[0m:\u001b[36m__init__\u001b[0m:\u001b[36m122\u001b[0m - \u001b[1mFound action file: /home/ji/Dropbox/Robotics/ENPM809K_Fundamentals_in_AI_and_DL/Data/Data_2023-11-13_09-22-16_merge.txt\u001b[0m\n",
      "\u001b[32m2023-11-24 09:46:03.491\u001b[0m | \u001b[1mINFO    \u001b[0m | \u001b[36mdataset\u001b[0m:\u001b[36m__init__\u001b[0m:\u001b[36m122\u001b[0m - \u001b[1mFound action file: /home/ji/Dropbox/Robotics/ENPM809K_Fundamentals_in_AI_and_DL/Data/Data_2023-10-25_09-38-21_merge.txt\u001b[0m\n",
      "\u001b[32m2023-11-24 09:46:03.492\u001b[0m | \u001b[1mINFO    \u001b[0m | \u001b[36mdataset\u001b[0m:\u001b[36m__init__\u001b[0m:\u001b[36m122\u001b[0m - \u001b[1mFound action file: /home/ji/Dropbox/Robotics/ENPM809K_Fundamentals_in_AI_and_DL/Data/Data_2023-10-24_10-23-15_merge.txt\u001b[0m\n",
      "\u001b[32m2023-11-24 09:46:03.493\u001b[0m | \u001b[1mINFO    \u001b[0m | \u001b[36mdataset\u001b[0m:\u001b[36m__init__\u001b[0m:\u001b[36m122\u001b[0m - \u001b[1mFound action file: /home/ji/Dropbox/Robotics/ENPM809K_Fundamentals_in_AI_and_DL/Data/Data_2023-10-25_09-43-21_merge.txt\u001b[0m\n",
      "\u001b[32m2023-11-24 09:46:03.494\u001b[0m | \u001b[1mINFO    \u001b[0m | \u001b[36mdataset\u001b[0m:\u001b[36m__init__\u001b[0m:\u001b[36m122\u001b[0m - \u001b[1mFound action file: /home/ji/Dropbox/Robotics/ENPM809K_Fundamentals_in_AI_and_DL/Data/Data_2023-10-24_10-18-15_merge.txt\u001b[0m\n",
      "\u001b[32m2023-11-24 09:46:03.727\u001b[0m | \u001b[1mINFO    \u001b[0m | \u001b[36mdataset\u001b[0m:\u001b[36mcheck_vid_action_length\u001b[0m:\u001b[36m134\u001b[0m - \u001b[1m✅ All files match in length.\u001b[0m\n",
      "\u001b[32m2023-11-24 09:46:03.736\u001b[0m | \u001b[1mINFO    \u001b[0m | \u001b[36mdataset\u001b[0m:\u001b[36m__init__\u001b[0m:\u001b[36m122\u001b[0m - \u001b[1mFound action file: /home/ji/Dropbox/Robotics/ENPM809K_Fundamentals_in_AI_and_DL/Data/Data_2023-10-23_09-40-37_merge.txt\u001b[0m\n",
      "\u001b[32m2023-11-24 09:46:03.737\u001b[0m | \u001b[1mINFO    \u001b[0m | \u001b[36mdataset\u001b[0m:\u001b[36m__init__\u001b[0m:\u001b[36m122\u001b[0m - \u001b[1mFound action file: /home/ji/Dropbox/Robotics/ENPM809K_Fundamentals_in_AI_and_DL/Data/Data_2023-10-23_09-20-36_merge.txt\u001b[0m\n",
      "\u001b[32m2023-11-24 09:46:03.737\u001b[0m | \u001b[1mINFO    \u001b[0m | \u001b[36mdataset\u001b[0m:\u001b[36m__init__\u001b[0m:\u001b[36m122\u001b[0m - \u001b[1mFound action file: /home/ji/Dropbox/Robotics/ENPM809K_Fundamentals_in_AI_and_DL/Data/Data_2023-11-13_09-47-17_merge.txt\u001b[0m\n",
      "\u001b[32m2023-11-24 09:46:03.738\u001b[0m | \u001b[1mINFO    \u001b[0m | \u001b[36mdataset\u001b[0m:\u001b[36m__init__\u001b[0m:\u001b[36m122\u001b[0m - \u001b[1mFound action file: /home/ji/Dropbox/Robotics/ENPM809K_Fundamentals_in_AI_and_DL/Data/Data_2023-10-26_10-20-07_merge.txt\u001b[0m\n",
      "\u001b[32m2023-11-24 09:46:03.739\u001b[0m | \u001b[1mINFO    \u001b[0m | \u001b[36mdataset\u001b[0m:\u001b[36m__init__\u001b[0m:\u001b[36m122\u001b[0m - \u001b[1mFound action file: /home/ji/Dropbox/Robotics/ENPM809K_Fundamentals_in_AI_and_DL/Data/Data_2023-11-13_09-37-16_merge.txt\u001b[0m\n",
      "\u001b[32m2023-11-24 09:46:03.765\u001b[0m | \u001b[1mINFO    \u001b[0m | \u001b[36mdataset\u001b[0m:\u001b[36mcheck_vid_action_length\u001b[0m:\u001b[36m134\u001b[0m - \u001b[1m✅ All files match in length.\u001b[0m\n",
      "\u001b[32m2023-11-24 09:46:03.779\u001b[0m | \u001b[1mINFO    \u001b[0m | \u001b[36mdataset\u001b[0m:\u001b[36m__init__\u001b[0m:\u001b[36m122\u001b[0m - \u001b[1mFound action file: /home/ji/Dropbox/Robotics/ENPM809K_Fundamentals_in_AI_and_DL/Data/Data_2023-11-06_09-22-28_merge.txt\u001b[0m\n",
      "\u001b[32m2023-11-24 09:46:03.781\u001b[0m | \u001b[1mINFO    \u001b[0m | \u001b[36mdataset\u001b[0m:\u001b[36m__init__\u001b[0m:\u001b[36m122\u001b[0m - \u001b[1mFound action file: /home/ji/Dropbox/Robotics/ENPM809K_Fundamentals_in_AI_and_DL/Data/Data_2023-11-06_09-37-29_merge.txt\u001b[0m\n",
      "\u001b[32m2023-11-24 09:46:03.782\u001b[0m | \u001b[1mINFO    \u001b[0m | \u001b[36mdataset\u001b[0m:\u001b[36m__init__\u001b[0m:\u001b[36m122\u001b[0m - \u001b[1mFound action file: /home/ji/Dropbox/Robotics/ENPM809K_Fundamentals_in_AI_and_DL/Data/Data_2023-10-22_11-33-39_merge.txt\u001b[0m\n",
      "\u001b[32m2023-11-24 09:46:03.784\u001b[0m | \u001b[1mINFO    \u001b[0m | \u001b[36mdataset\u001b[0m:\u001b[36m__init__\u001b[0m:\u001b[36m122\u001b[0m - \u001b[1mFound action file: /home/ji/Dropbox/Robotics/ENPM809K_Fundamentals_in_AI_and_DL/Data/Data_2023-10-27_09-55-04_merge.txt\u001b[0m\n",
      "\u001b[32m2023-11-24 09:46:03.786\u001b[0m | \u001b[1mINFO    \u001b[0m | \u001b[36mdataset\u001b[0m:\u001b[36m__init__\u001b[0m:\u001b[36m122\u001b[0m - \u001b[1mFound action file: /home/ji/Dropbox/Robotics/ENPM809K_Fundamentals_in_AI_and_DL/Data/Data_2023-10-27_09-50-04_merge.txt\u001b[0m\n",
      "\u001b[32m2023-11-24 09:46:03.787\u001b[0m | \u001b[1mINFO    \u001b[0m | \u001b[36mdataset\u001b[0m:\u001b[36m__init__\u001b[0m:\u001b[36m122\u001b[0m - \u001b[1mFound action file: /home/ji/Dropbox/Robotics/ENPM809K_Fundamentals_in_AI_and_DL/Data/Data_2023-11-12_09-38-23_merge.txt\u001b[0m\n",
      "\u001b[32m2023-11-24 09:46:03.814\u001b[0m | \u001b[1mINFO    \u001b[0m | \u001b[36mdataset\u001b[0m:\u001b[36mcheck_vid_action_length\u001b[0m:\u001b[36m134\u001b[0m - \u001b[1m✅ All files match in length.\u001b[0m\n"
     ]
    }
   ],
   "source": [
    "# set up tf database\n",
    "config = {}\n",
    "config[\"fold_n_frames\"] = 4 # fold n frames to predict the n+1 frame\n",
    "\n",
    "# train/val/test data loader\n",
    "train_loader = FrameDataGenerator(file_list=data_manager.get_training_files(),\n",
    "                                    config=config)\n",
    "val_loader = FrameDataGenerator(file_list=data_manager.get_validation_files(),\n",
    "                                    config=config)\n",
    "test_loader = FrameDataGenerator(file_list=data_manager.get_test_files(),\n",
    "                                    config=config)\n",
    "\n",
    "# create tensorflow database from the generator\n",
    "n_col = 7 # the txt files have 7 columns\n",
    "output_signature = (tf.TensorSpec(shape = (None, None, 3*config[\"fold_n_frames\"]),\n",
    "                                    dtype = train_loader.frame_dtype),\n",
    "                    tf.TensorSpec(shape = (None, None, 3),\n",
    "                                    dtype = train_loader.frame_dtype),\n",
    "                    tf.TensorSpec(shape = (n_col*config[\"fold_n_frames\"],),\n",
    "                                    dtype = train_loader.action_dtype))\n",
    "    \n",
    "# create train/val/test tf dataset\n",
    "train_ds = tf.data.Dataset.from_generator(train_loader,\n",
    "                                          output_signature = output_signature)\n",
    "val_ds = tf.data.Dataset.from_generator(val_loader,\n",
    "                                          output_signature = output_signature)\n",
    "test_ds = tf.data.Dataset.from_generator(test_loader,\n",
    "                                          output_signature = output_signature)\n",
    "\n",
    "# set up batch size\n",
    "train_ds = train_ds.batch(8)\n",
    "train_ds = train_ds.prefetch(buffer_size = 20)\n",
    "\n",
    "\n",
    "# for validation and test evaluation, we are gonna sample\n",
    "# mini batches and calculate the loss, and repeat several\n",
    "# times and compute the mean loss, as opposed to compute \n",
    "# the loss on the whole validation/test set, so we can use\n",
    "# the same data generation pipeline built for the training\n",
    "# set\n",
    "val_ds = val_ds.batch(8)\n",
    "val_ds = val_ds.prefetch(buffer_size = 20)\n",
    "test_ds = test_ds.batch(8)\n",
    "test_ds = test_ds.prefetch(buffer_size = 20)"
   ]
  },
  {
   "cell_type": "code",
   "execution_count": 4,
   "metadata": {},
   "outputs": [
    {
     "name": "stdout",
     "output_type": "stream",
     "text": [
      "9.0\n",
      "192.0\n"
     ]
    }
   ],
   "source": [
    "import numpy as np\n",
    "\n",
    "# image in\n",
    "def outdim(d,f,p,s):\n",
    "    return np.floor(d+2*p-f)/s+1\n",
    "\n",
    "# image out size\n",
    "def outdim_conv2d_tr(d,f,p,s, output_padding):\n",
    "    return ((d-1)*s+f-2*p+output_padding)\n",
    "\n",
    "d1 = outdim(192,8,0,2)\n",
    "d2 = outdim(d1,6,0,2)\n",
    "d3 = outdim(d2,6,0,2)\n",
    "d4 = outdim(d3,4,0,2)\n",
    "print(d4)\n",
    "\n",
    "d4_ = outdim_conv2d_tr(d4,4,0,2,0)\n",
    "d3_ = outdim_conv2d_tr(d4_,6,0,2,0)\n",
    "d2_ = outdim_conv2d_tr(d3_,6,0,2,1)\n",
    "d1_ = outdim_conv2d_tr(d2_,8,0,2,0)\n",
    "print(d1_)"
   ]
  },
  {
   "cell_type": "code",
   "execution_count": 16,
   "metadata": {},
   "outputs": [],
   "source": [
    "from model import EncoderNet, DecoderNet, InteractionModule, FramePredictionModel\n",
    "\n",
    "# some hyper parameters for the network\n",
    "encoder_output_dim = 1024\n",
    "\n",
    "\n",
    "img_dim = (192,256,3*config[\"fold_n_frames\"])\n",
    "\n",
    "encoder = EncoderNet(layer_specs = [\n",
    "                        {\"type\":\"conv2d\",\"kwargs\":{\"filters\": 64,  \"kernel_size\": 8, \"strides\":2,\"activation\":\"relu\",\"input_shape\":img_dim}},\n",
    "                        {\"type\":\"conv2d\",\"kwargs\":{\"filters\": 128, \"kernel_size\": 6, \"strides\":2,\"activation\":\"relu\"}},\n",
    "                        {\"type\":\"conv2d\",\"kwargs\":{\"filters\": 128, \"kernel_size\": 6, \"strides\":2,\"activation\":\"relu\"}},\n",
    "                        {\"type\":\"conv2d\",\"kwargs\":{\"filters\": 128, \"kernel_size\": 4, \"strides\":2,\"activation\":\"relu\"}},\n",
    "                        {\"type\":\"flatten\"},\n",
    "                        {\"type\":\"dense\",\"kwargs\":{\"units\":encoder_output_dim,\"activation\":\"relu\"}}\n",
    "                        ]\n",
    "                    )\n",
    "\n",
    "# get the output size of the last conv layer\n",
    "conv_out_size = encoder._layers.layers[3].output_shape[1:]\n",
    "\n",
    "# create the interaction module\n",
    "interaction_dim, interaction_output_dim = 2048, 2048\n",
    "interaction = InteractionModule(encoder_dim=encoder_output_dim,\n",
    "                                action_dim=7,\n",
    "                                intermediate_dim=interaction_dim,\n",
    "                                output_dim=interaction_output_dim)\n",
    "\n",
    "# fc_dim is the dimension of the first fc layer in decoder\n",
    "nchan = 64\n",
    "fc_dim = np.prod(conv_out_size[:2])*nchan\n",
    "\n",
    "decoder = DecoderNet(layer_specs = [\n",
    "                        {\"type\":\"dense\",\"kwargs\":{\"units\":fc_dim,\"activation\":\"relu\",\"input_shape\":(interaction_output_dim,)}},\n",
    "                        {\"type\":\"reshape\",\"kwargs\":{\"target_shape\":(conv_out_size[0],conv_out_size[1],nchan)}},\n",
    "                        {\"type\":\"conv2dtr\",\"kwargs\":{\"filters\": 128, \"kernel_size\": 4, \"strides\":2,\"activation\":\"relu\"}},\n",
    "                        {\"type\":\"conv2dtr\",\"kwargs\":{\"filters\": 128, \"kernel_size\": 6, \"strides\":2,\"activation\":\"relu\"}},\n",
    "                        {\"type\":\"conv2dtr\",\"kwargs\":{\"filters\": 128, \"kernel_size\": 6, \"strides\":2,\"activation\":\"relu\", \"output_padding\":1}},\n",
    "                        {\"type\":\"conv2dtr\",\"kwargs\":{\"filters\":   3, \"kernel_size\": 8, \"strides\":2,\"activation\":None}},\n",
    "                        ]\n",
    "                    )\n",
    "\n",
    "# make sure decoder output matches the input image's size\n",
    "assert(decoder.output_shape[:2]==img_dim[:2])\n",
    "assert(decoder.output_shape[-1]==3)\n"
   ]
  },
  {
   "cell_type": "code",
   "execution_count": 17,
   "metadata": {},
   "outputs": [],
   "source": [
    "# create the full model\n",
    "fpm = FramePredictionModel(encoder=encoder,\n",
    "                           decoder=decoder,\n",
    "                           interaction=interaction)\n",
    "\n",
    "# test with some sample data\n",
    "frame_input_sample, frame_output_sample,actions_sample = next(iter(train_ds))\n",
    "out_test = fpm((frame_input_sample, actions_sample))\n",
    "assert(out_test.shape==frame_output_sample.shape)"
   ]
  },
  {
   "cell_type": "code",
   "execution_count": 24,
   "metadata": {},
   "outputs": [
    {
     "name": "stdout",
     "output_type": "stream",
     "text": [
      "1 0.6197526454925537\n",
      "2 1.065995454788208\n",
      "3 1.5411694049835205\n",
      "4 1.9713358879089355\n",
      "5 2.44104266166687\n",
      "6 2.7647764682769775\n",
      "7 3.1039600372314453\n",
      "8 3.435509443283081\n",
      "9 3.773118257522583\n",
      "10 4.11020827293396\n",
      "11 4.455305099487305\n",
      "12 4.793283462524414\n",
      "13 5.132407903671265\n",
      "14 5.4733850955963135\n",
      "15 5.794481515884399\n",
      "16 6.125990629196167\n",
      "17 6.46504807472229\n",
      "18 6.793807029724121\n",
      "19 7.09549617767334\n",
      "20 7.385892629623413\n",
      "21 7.673980951309204\n",
      "22 7.965121746063232\n",
      "23 8.268872737884521\n",
      "24 8.558481216430664\n",
      "25 8.852063655853271\n",
      "26 9.141260147094727\n",
      "27 9.427605867385864\n",
      "28 9.716598510742188\n",
      "29 10.011133909225464\n",
      "30 10.303534269332886\n",
      "31 10.599039554595947\n"
     ]
    }
   ],
   "source": [
    "# try fitting on a small dataset, e.g., a single 5 min video\n",
    "i = 0\n",
    "import time\n",
    "t0 = time.time()\n",
    "for data in train_ds:\n",
    "    # fpm.step(mini_batch=data,verbose=True)\n",
    "    i+=1\n",
    "    print(i,time.time()-t0)\n",
    "    if i > 30:\n",
    "        break"
   ]
  },
  {
   "cell_type": "code",
   "execution_count": 23,
   "metadata": {},
   "outputs": [
    {
     "name": "stderr",
     "output_type": "stream",
     "text": [
      "\u001b[32m2023-11-24 10:20:35.982\u001b[0m | \u001b[1mINFO    \u001b[0m | \u001b[36mmodel\u001b[0m:\u001b[36mstep\u001b[0m:\u001b[36m213\u001b[0m - \u001b[1mloss: 0.09967827796936035\u001b[0m\n"
     ]
    },
    {
     "name": "stdout",
     "output_type": "stream",
     "text": [
      "0.20226407051086426\n"
     ]
    }
   ],
   "source": [
    "t0 = time.time()\n",
    "fpm.step(mini_batch=data,verbose=True)\n",
    "print(time.time()-t0)"
   ]
  },
  {
   "cell_type": "code",
   "execution_count": 27,
   "metadata": {},
   "outputs": [
    {
     "name": "stderr",
     "output_type": "stream",
     "text": [
      "/snap/core20/current/lib/x86_64-linux-gnu/libstdc++.so.6: version `GLIBCXX_3.4.29' not found (required by /lib/x86_64-linux-gnu/libproxy.so.1)\n",
      "Failed to load module: /home/ji/snap/code/common/.cache/gio-modules/libgiolibproxy.so\n"
     ]
    }
   ],
   "source": [
    "from PIL import Image\n",
    "data =frame_output_sample.numpy()[0,:,:,:].squeeze()\n",
    "data = (data*255).astype(np.uint8)\n",
    "im = Image.fromarray(data)\n",
    "im.show()"
   ]
  }
 ],
 "metadata": {
  "kernelspec": {
   "display_name": "tensorflow",
   "language": "python",
   "name": "python3"
  },
  "language_info": {
   "codemirror_mode": {
    "name": "ipython",
    "version": 3
   },
   "file_extension": ".py",
   "mimetype": "text/x-python",
   "name": "python",
   "nbconvert_exporter": "python",
   "pygments_lexer": "ipython3",
   "version": "3.9.17"
  }
 },
 "nbformat": 4,
 "nbformat_minor": 2
}
